{
  "nbformat": 4,
  "nbformat_minor": 0,
  "metadata": {
    "colab": {
      "name": "Recommender_System1.ipynb",
      "provenance": [],
      "collapsed_sections": [
        "-O38Ws1fXb_8",
        "KuiJDrxUB7lZ",
        "j8ldBIN_H5qa",
        "PPkxoONTZZTn",
        "h31cQVmrs1Oa",
        "qByRj1I6s3hL",
        "xFiwewrft38G",
        "U8KkzqTuuIVk",
        "CVeqMM-vu6hT"
      ],
      "include_colab_link": true
    },
    "kernelspec": {
      "name": "python3",
      "display_name": "Python 3"
    }
  },
  "cells": [
    {
      "cell_type": "markdown",
      "metadata": {
        "id": "view-in-github",
        "colab_type": "text"
      },
      "source": [
        "<a href=\"https://colab.research.google.com/github/shi5a/MovieRecommender/blob/main/Recommender_System1.ipynb\" target=\"_parent\"><img src=\"https://colab.research.google.com/assets/colab-badge.svg\" alt=\"Open In Colab\"/></a>"
      ]
    },
    {
      "cell_type": "markdown",
      "metadata": {
        "id": "QEyoI85tXLyH"
      },
      "source": [
        "# **Introduction**\n",
        "---\n",
        "\n",
        "**Recommender System:**\n",
        "* One of the most popular data science applications\n",
        "* It's widely used and extremely helpful!\n",
        "* It can be applied for many ideas, and it have wide variety of applications\n",
        "* Can predict or offer services/products to the users/customers\n",
        "* That can be done based on their past purchase, browsing history, their type/classification, or any products' attributes\n",
        "\n",
        "\n",
        "**Data Science Bootcamp Final Project:**\n",
        "\n",
        "In this project, I will build a **Movie Recommender System** with Python.\n",
        "\n",
        "* It employs a machine learning algorithm, which predicts the  title for a movie that the user may like\n",
        "\n",
        "* It will be based on similarities of the movies' attributes\n",
        "\n",
        "* It uses the correlation between the attributes assigned to different movies\n",
        "\n",
        "\n",
        "I hope you will enjoy it,\n",
        "\n",
        "Shaikha AlBilais"
      ]
    },
    {
      "cell_type": "markdown",
      "metadata": {
        "id": "-O38Ws1fXb_8"
      },
      "source": [
        "# **Setup**\n",
        "---\n",
        "\n",
        "This section includes:\n",
        "\n",
        "1.   Libraries Importing \n",
        "2.   Data Uploading"
      ]
    },
    {
      "cell_type": "markdown",
      "metadata": {
        "id": "rFef-T0b4i1G"
      },
      "source": [
        "Libraries Importing "
      ]
    },
    {
      "cell_type": "code",
      "metadata": {
        "id": "lZBW_SH6WQWs",
        "colab": {
          "base_uri": "https://localhost:8080/"
        },
        "outputId": "3a872546-20fc-41d6-f48f-87f9ec794ee3"
      },
      "source": [
        "import pandas as pd\n",
        "import numpy as np\n",
        "from math import sqrt\n",
        "\n",
        "import matplotlib.pyplot as plt\n",
        "import seaborn as sns\n",
        "from wordcloud import *\n",
        "\n",
        "from sklearn.feature_extraction.text import TfidfVectorizer \n",
        "\n",
        "from sklearn.model_selection import train_test_split\n",
        "from sklearn.preprocessing import StandardScaler\n",
        "\n",
        "from sklearn.metrics import *\n",
        "# from sklearn.metrics import plot_confusion_matrix\n",
        "# from sklearn.metrics import mean_squared_error\n",
        "\n",
        "from sklearn.ensemble import RandomForestRegressor\n",
        "from sklearn.neighbors import KNeighborsClassifier\n",
        "from sklearn.linear_model import SGDClassifier\n",
        "\n",
        "from sklearn.model_selection import GridSearchCV\n",
        "from sklearn.model_selection import RandomizedSearchCV\n",
        "\n",
        "print('Libraries Importing Completed.')"
      ],
      "execution_count": 62,
      "outputs": [
        {
          "output_type": "stream",
          "text": [
            "Libraries Importing Completed.\n"
          ],
          "name": "stdout"
        }
      ]
    },
    {
      "cell_type": "markdown",
      "metadata": {
        "id": "p-OsgUhSnmg1"
      },
      "source": [
        "Color Formatting"
      ]
    },
    {
      "cell_type": "code",
      "metadata": {
        "id": "THZjPLpGnlBn"
      },
      "source": [
        "sns.set_palette(\"deep\")"
      ],
      "execution_count": 63,
      "outputs": []
    },
    {
      "cell_type": "markdown",
      "metadata": {
        "id": "pgd2VCbA4saR"
      },
      "source": [
        "Data Uploading"
      ]
    },
    {
      "cell_type": "code",
      "metadata": {
        "id": "kJdOqjD9XkjA",
        "colab": {
          "base_uri": "https://localhost:8080/"
        },
        "outputId": "30bccef8-92e3-4efd-9230-75b44b6fc6b5"
      },
      "source": [
        "movie = pd.read_csv('https://raw.githubusercontent.com/shi5a/MovieRecommender/main/movies.csv')\n",
        "rate = pd.read_csv('https://raw.githubusercontent.com/shi5a/MovieRecommender/main/ratings.csv')\n",
        "print('Data Uploading Completed.')"
      ],
      "execution_count": 64,
      "outputs": [
        {
          "output_type": "stream",
          "text": [
            "Data Uploading Completed.\n"
          ],
          "name": "stdout"
        }
      ]
    },
    {
      "cell_type": "markdown",
      "metadata": {
        "id": "wwRYi5DHXuz7"
      },
      "source": [
        "# **1- Exploratory Data Analysis (EDA)**\n",
        "---\n",
        "\n",
        "This section includes:\n",
        "\n",
        "\n",
        "1. Data Understanding\n",
        "2. Data Exploration\n",
        "3. Data Visualization"
      ]
    },
    {
      "cell_type": "markdown",
      "metadata": {
        "id": "KuiJDrxUB7lZ"
      },
      "source": [
        "## **1.1 Data Understanding**"
      ]
    },
    {
      "cell_type": "code",
      "metadata": {
        "colab": {
          "base_uri": "https://localhost:8080/",
          "height": 128
        },
        "id": "hMGQEwAVCf9h",
        "outputId": "cd944fc4-c1ff-46c9-c257-668af5e70b9c"
      },
      "source": [
        "print(\"The head of Movie Set:\")\n",
        "movie.head(2)"
      ],
      "execution_count": 20,
      "outputs": [
        {
          "output_type": "stream",
          "text": [
            "The head of Movie Set:\n"
          ],
          "name": "stdout"
        },
        {
          "output_type": "execute_result",
          "data": {
            "text/html": [
              "<div>\n",
              "<style scoped>\n",
              "    .dataframe tbody tr th:only-of-type {\n",
              "        vertical-align: middle;\n",
              "    }\n",
              "\n",
              "    .dataframe tbody tr th {\n",
              "        vertical-align: top;\n",
              "    }\n",
              "\n",
              "    .dataframe thead th {\n",
              "        text-align: right;\n",
              "    }\n",
              "</style>\n",
              "<table border=\"1\" class=\"dataframe\">\n",
              "  <thead>\n",
              "    <tr style=\"text-align: right;\">\n",
              "      <th></th>\n",
              "      <th>movieId</th>\n",
              "      <th>title</th>\n",
              "      <th>genres</th>\n",
              "    </tr>\n",
              "  </thead>\n",
              "  <tbody>\n",
              "    <tr>\n",
              "      <th>0</th>\n",
              "      <td>1</td>\n",
              "      <td>Toy Story (1995)</td>\n",
              "      <td>Adventure|Animation|Children|Comedy|Fantasy</td>\n",
              "    </tr>\n",
              "    <tr>\n",
              "      <th>1</th>\n",
              "      <td>2</td>\n",
              "      <td>Jumanji (1995)</td>\n",
              "      <td>Adventure|Children|Fantasy</td>\n",
              "    </tr>\n",
              "  </tbody>\n",
              "</table>\n",
              "</div>"
            ],
            "text/plain": [
              "   movieId             title                                       genres\n",
              "0        1  Toy Story (1995)  Adventure|Animation|Children|Comedy|Fantasy\n",
              "1        2    Jumanji (1995)                   Adventure|Children|Fantasy"
            ]
          },
          "metadata": {
            "tags": []
          },
          "execution_count": 20
        }
      ]
    },
    {
      "cell_type": "markdown",
      "metadata": {
        "id": "e5iP5c0ADGUn"
      },
      "source": [
        "* **Noticed:**\n",
        "1. Each row corresponds to a movie \n",
        "2. It contains info about the movie: ID, title, and genre\n",
        "\n",
        "* **Problem:** The needed things to generate a recommender system are missing! (User ID & his ratings)\n",
        "\n",
        "\n",
        "---\n",
        "\n"
      ]
    },
    {
      "cell_type": "code",
      "metadata": {
        "colab": {
          "base_uri": "https://localhost:8080/",
          "height": 128
        },
        "id": "7mPnmHlICoE9",
        "outputId": "2a6aaef4-2d8d-4f48-ac61-56250bc83588"
      },
      "source": [
        "print(\"The head of Rate Set:\")\n",
        "rate.head(2)"
      ],
      "execution_count": 21,
      "outputs": [
        {
          "output_type": "stream",
          "text": [
            "The head of Rate Set:\n"
          ],
          "name": "stdout"
        },
        {
          "output_type": "execute_result",
          "data": {
            "text/html": [
              "<div>\n",
              "<style scoped>\n",
              "    .dataframe tbody tr th:only-of-type {\n",
              "        vertical-align: middle;\n",
              "    }\n",
              "\n",
              "    .dataframe tbody tr th {\n",
              "        vertical-align: top;\n",
              "    }\n",
              "\n",
              "    .dataframe thead th {\n",
              "        text-align: right;\n",
              "    }\n",
              "</style>\n",
              "<table border=\"1\" class=\"dataframe\">\n",
              "  <thead>\n",
              "    <tr style=\"text-align: right;\">\n",
              "      <th></th>\n",
              "      <th>userId</th>\n",
              "      <th>movieId</th>\n",
              "      <th>rating</th>\n",
              "      <th>timestamp</th>\n",
              "    </tr>\n",
              "  </thead>\n",
              "  <tbody>\n",
              "    <tr>\n",
              "      <th>0</th>\n",
              "      <td>1</td>\n",
              "      <td>16</td>\n",
              "      <td>4.0</td>\n",
              "      <td>1217897793</td>\n",
              "    </tr>\n",
              "    <tr>\n",
              "      <th>1</th>\n",
              "      <td>1</td>\n",
              "      <td>24</td>\n",
              "      <td>1.5</td>\n",
              "      <td>1217895807</td>\n",
              "    </tr>\n",
              "  </tbody>\n",
              "</table>\n",
              "</div>"
            ],
            "text/plain": [
              "   userId  movieId  rating   timestamp\n",
              "0       1       16     4.0  1217897793\n",
              "1       1       24     1.5  1217895807"
            ]
          },
          "metadata": {
            "tags": []
          },
          "execution_count": 21
        }
      ]
    },
    {
      "cell_type": "code",
      "metadata": {
        "colab": {
          "base_uri": "https://localhost:8080/"
        },
        "id": "WRkh6SHOHV4V",
        "outputId": "c301dde1-d5e6-4ee0-850a-61e9dd0f3655"
      },
      "source": [
        "print(\"Rating values::\")\n",
        "rate.rating.unique()"
      ],
      "execution_count": 22,
      "outputs": [
        {
          "output_type": "stream",
          "text": [
            "Rating values::\n"
          ],
          "name": "stdout"
        },
        {
          "output_type": "execute_result",
          "data": {
            "text/plain": [
              "array([4. , 1.5, 3. , 0.5, 4.5, 2.5, 3.5, 5. , 2. , 1. ])"
            ]
          },
          "metadata": {
            "tags": []
          },
          "execution_count": 22
        }
      ]
    },
    {
      "cell_type": "markdown",
      "metadata": {
        "id": "HO_ndr2UCn3n"
      },
      "source": [
        "* **Noticed:**\n",
        "1. Each row corresponds to one user's `rating` of a movie\n",
        "2. It includes the `userId`, the `movieId`, and his rating timing\n",
        "2. Ratings can have values between 0.5 and 5\n",
        "\n",
        "* **Problem:** It contains only the movied IDs without their titles, which it needed to be recommended to the user.\n",
        "\n"
      ]
    },
    {
      "cell_type": "markdown",
      "metadata": {
        "id": "j8ldBIN_H5qa"
      },
      "source": [
        "## **Merging the 2 sets**\n",
        "\n",
        "The merging is needed to get all the desired information in one dataset.\n",
        "\n",
        "* Since the ```movieID```\n",
        "is the common column between the two of them, it will be used via ```merge()``` function from Pandas library.\n",
        "\n",
        "\n"
      ]
    },
    {
      "cell_type": "code",
      "metadata": {
        "colab": {
          "base_uri": "https://localhost:8080/",
          "height": 221
        },
        "id": "iQzBm5WtJJQA",
        "outputId": "51d31ac9-a6aa-4ec5-9cd5-6f527b77ba8a"
      },
      "source": [
        "movies = pd.merge(rate, movie, on='movieId')\n",
        "print(\"The head of the new merged Set:\")\n",
        "movies.head()"
      ],
      "execution_count": 67,
      "outputs": [
        {
          "output_type": "stream",
          "text": [
            "The head of the new merged Set:\n"
          ],
          "name": "stdout"
        },
        {
          "output_type": "execute_result",
          "data": {
            "text/html": [
              "<div>\n",
              "<style scoped>\n",
              "    .dataframe tbody tr th:only-of-type {\n",
              "        vertical-align: middle;\n",
              "    }\n",
              "\n",
              "    .dataframe tbody tr th {\n",
              "        vertical-align: top;\n",
              "    }\n",
              "\n",
              "    .dataframe thead th {\n",
              "        text-align: right;\n",
              "    }\n",
              "</style>\n",
              "<table border=\"1\" class=\"dataframe\">\n",
              "  <thead>\n",
              "    <tr style=\"text-align: right;\">\n",
              "      <th></th>\n",
              "      <th>userId</th>\n",
              "      <th>movieId</th>\n",
              "      <th>rating</th>\n",
              "      <th>timestamp</th>\n",
              "      <th>title</th>\n",
              "      <th>genres</th>\n",
              "    </tr>\n",
              "  </thead>\n",
              "  <tbody>\n",
              "    <tr>\n",
              "      <th>0</th>\n",
              "      <td>1</td>\n",
              "      <td>16</td>\n",
              "      <td>4.0</td>\n",
              "      <td>1217897793</td>\n",
              "      <td>Casino (1995)</td>\n",
              "      <td>Crime|Drama</td>\n",
              "    </tr>\n",
              "    <tr>\n",
              "      <th>1</th>\n",
              "      <td>9</td>\n",
              "      <td>16</td>\n",
              "      <td>4.0</td>\n",
              "      <td>842686699</td>\n",
              "      <td>Casino (1995)</td>\n",
              "      <td>Crime|Drama</td>\n",
              "    </tr>\n",
              "    <tr>\n",
              "      <th>2</th>\n",
              "      <td>12</td>\n",
              "      <td>16</td>\n",
              "      <td>1.5</td>\n",
              "      <td>1144396284</td>\n",
              "      <td>Casino (1995)</td>\n",
              "      <td>Crime|Drama</td>\n",
              "    </tr>\n",
              "    <tr>\n",
              "      <th>3</th>\n",
              "      <td>24</td>\n",
              "      <td>16</td>\n",
              "      <td>4.0</td>\n",
              "      <td>963468757</td>\n",
              "      <td>Casino (1995)</td>\n",
              "      <td>Crime|Drama</td>\n",
              "    </tr>\n",
              "    <tr>\n",
              "      <th>4</th>\n",
              "      <td>29</td>\n",
              "      <td>16</td>\n",
              "      <td>3.0</td>\n",
              "      <td>836820223</td>\n",
              "      <td>Casino (1995)</td>\n",
              "      <td>Crime|Drama</td>\n",
              "    </tr>\n",
              "  </tbody>\n",
              "</table>\n",
              "</div>"
            ],
            "text/plain": [
              "   userId  movieId  rating   timestamp          title       genres\n",
              "0       1       16     4.0  1217897793  Casino (1995)  Crime|Drama\n",
              "1       9       16     4.0   842686699  Casino (1995)  Crime|Drama\n",
              "2      12       16     1.5  1144396284  Casino (1995)  Crime|Drama\n",
              "3      24       16     4.0   963468757  Casino (1995)  Crime|Drama\n",
              "4      29       16     3.0   836820223  Casino (1995)  Crime|Drama"
            ]
          },
          "metadata": {
            "tags": []
          },
          "execution_count": 67
        }
      ]
    },
    {
      "cell_type": "markdown",
      "metadata": {
        "id": "PPkxoONTZZTn"
      },
      "source": [
        "## **1.2 Data Exploration**"
      ]
    },
    {
      "cell_type": "code",
      "metadata": {
        "colab": {
          "base_uri": "https://localhost:8080/"
        },
        "id": "XFSRopP1aLcw",
        "outputId": "638a8d83-9ceb-4f28-ee89-47dce19b33b5"
      },
      "source": [
        "print(\"[Some General Info About The New Dataset]\")\n",
        "print(\"\\nshape:\", movies.shape,\"\\n\\n\",'-' * 20)\n",
        "print(\"\\nNumber of features:\", len(movies.columns),\"\\n\\n\",'-' * 20)\n",
        "print(\"\\nFeature Names:\\n\", movies.columns,\"\\n\\n\",'-' * 20)\n",
        "print(\"\\nDatatypes of features:\\n\", movies.dtypes)"
      ],
      "execution_count": null,
      "outputs": [
        {
          "output_type": "stream",
          "text": [
            "[Some General Info About The New Dataset]\n",
            "\n",
            "shape: (105339, 6) \n",
            "\n",
            " --------------------\n",
            "\n",
            "Number of features: 6 \n",
            "\n",
            " --------------------\n",
            "\n",
            "Feature Names:\n",
            " Index(['userId', 'movieId', 'rating', 'timestamp', 'title', 'genres'], dtype='object') \n",
            "\n",
            " --------------------\n",
            "\n",
            "Datatypes of features:\n",
            " userId         int64\n",
            "movieId        int64\n",
            "rating       float64\n",
            "timestamp      int64\n",
            "title         object\n",
            "genres        object\n",
            "dtype: object\n"
          ],
          "name": "stdout"
        }
      ]
    },
    {
      "cell_type": "code",
      "metadata": {
        "colab": {
          "base_uri": "https://localhost:8080/",
          "height": 311
        },
        "id": "zuQhhOUA7oDJ",
        "outputId": "5444a341-4621-4fbe-e508-c6aeb80cfd61"
      },
      "source": [
        "print(\"Some stat. info about the continuous data in the dataset:\")\n",
        "movies.describe()"
      ],
      "execution_count": null,
      "outputs": [
        {
          "output_type": "stream",
          "text": [
            "Some stat. info about the continuous data in the dataset:\n"
          ],
          "name": "stdout"
        },
        {
          "output_type": "execute_result",
          "data": {
            "text/html": [
              "<div>\n",
              "<style scoped>\n",
              "    .dataframe tbody tr th:only-of-type {\n",
              "        vertical-align: middle;\n",
              "    }\n",
              "\n",
              "    .dataframe tbody tr th {\n",
              "        vertical-align: top;\n",
              "    }\n",
              "\n",
              "    .dataframe thead th {\n",
              "        text-align: right;\n",
              "    }\n",
              "</style>\n",
              "<table border=\"1\" class=\"dataframe\">\n",
              "  <thead>\n",
              "    <tr style=\"text-align: right;\">\n",
              "      <th></th>\n",
              "      <th>userId</th>\n",
              "      <th>movieId</th>\n",
              "      <th>rating</th>\n",
              "      <th>timestamp</th>\n",
              "    </tr>\n",
              "  </thead>\n",
              "  <tbody>\n",
              "    <tr>\n",
              "      <th>count</th>\n",
              "      <td>105339.000000</td>\n",
              "      <td>105339.000000</td>\n",
              "      <td>105339.000000</td>\n",
              "      <td>1.053390e+05</td>\n",
              "    </tr>\n",
              "    <tr>\n",
              "      <th>mean</th>\n",
              "      <td>364.924539</td>\n",
              "      <td>13381.312477</td>\n",
              "      <td>3.516850</td>\n",
              "      <td>1.130424e+09</td>\n",
              "    </tr>\n",
              "    <tr>\n",
              "      <th>std</th>\n",
              "      <td>197.486905</td>\n",
              "      <td>26170.456869</td>\n",
              "      <td>1.044872</td>\n",
              "      <td>1.802660e+08</td>\n",
              "    </tr>\n",
              "    <tr>\n",
              "      <th>min</th>\n",
              "      <td>1.000000</td>\n",
              "      <td>1.000000</td>\n",
              "      <td>0.500000</td>\n",
              "      <td>8.285650e+08</td>\n",
              "    </tr>\n",
              "    <tr>\n",
              "      <th>25%</th>\n",
              "      <td>192.000000</td>\n",
              "      <td>1073.000000</td>\n",
              "      <td>3.000000</td>\n",
              "      <td>9.711008e+08</td>\n",
              "    </tr>\n",
              "    <tr>\n",
              "      <th>50%</th>\n",
              "      <td>383.000000</td>\n",
              "      <td>2497.000000</td>\n",
              "      <td>3.500000</td>\n",
              "      <td>1.115154e+09</td>\n",
              "    </tr>\n",
              "    <tr>\n",
              "      <th>75%</th>\n",
              "      <td>557.000000</td>\n",
              "      <td>5991.000000</td>\n",
              "      <td>4.000000</td>\n",
              "      <td>1.275496e+09</td>\n",
              "    </tr>\n",
              "    <tr>\n",
              "      <th>max</th>\n",
              "      <td>668.000000</td>\n",
              "      <td>149532.000000</td>\n",
              "      <td>5.000000</td>\n",
              "      <td>1.452405e+09</td>\n",
              "    </tr>\n",
              "  </tbody>\n",
              "</table>\n",
              "</div>"
            ],
            "text/plain": [
              "              userId        movieId         rating     timestamp\n",
              "count  105339.000000  105339.000000  105339.000000  1.053390e+05\n",
              "mean      364.924539   13381.312477       3.516850  1.130424e+09\n",
              "std       197.486905   26170.456869       1.044872  1.802660e+08\n",
              "min         1.000000       1.000000       0.500000  8.285650e+08\n",
              "25%       192.000000    1073.000000       3.000000  9.711008e+08\n",
              "50%       383.000000    2497.000000       3.500000  1.115154e+09\n",
              "75%       557.000000    5991.000000       4.000000  1.275496e+09\n",
              "max       668.000000  149532.000000       5.000000  1.452405e+09"
            ]
          },
          "metadata": {
            "tags": []
          },
          "execution_count": 9
        }
      ]
    },
    {
      "cell_type": "markdown",
      "metadata": {
        "id": "Jw5HfEIbhPQ6"
      },
      "source": [
        "* **From the above table:**\n",
        "\n",
        "1. The average rating is 3.5\n",
        "2. The minimum and maximum ratings are 0.5 and 5 respectively\n",
        "3. There are 668 users, who have given their ratings, for 149532 movies"
      ]
    },
    {
      "cell_type": "code",
      "metadata": {
        "colab": {
          "base_uri": "https://localhost:8080/"
        },
        "id": "6L7xeJ5U7Lb3",
        "outputId": "d8b251d7-3e07-4419-80e2-c0562f87377e"
      },
      "source": [
        "print(\"Number of Movies in the Dataset: \", len(movies['movieId'].unique()), \" movies\",\n",
        "      \"\\nNumber of Users in the Dataset: \",len(movies['userId'].unique()), \" users\")"
      ],
      "execution_count": null,
      "outputs": [
        {
          "output_type": "stream",
          "text": [
            "Number of Movies in the Dataset:  10325  movies \n",
            "Number of Users in the Dataset:  668  users\n"
          ],
          "name": "stdout"
        }
      ]
    },
    {
      "cell_type": "code",
      "metadata": {
        "colab": {
          "base_uri": "https://localhost:8080/"
        },
        "id": "KVHDxAl7kMBE",
        "outputId": "d9b68475-b89a-47e7-a769-5d6d5a27aa4a"
      },
      "source": [
        "print(\"Is there any Empty cells or Nans in the datasets?\\n \",\n",
        "      movies.isnull().values.any())"
      ],
      "execution_count": null,
      "outputs": [
        {
          "output_type": "stream",
          "text": [
            "Is there any Empty cells or Nans in the datasets?\n",
            "  False\n"
          ],
          "name": "stdout"
        }
      ]
    },
    {
      "cell_type": "code",
      "metadata": {
        "colab": {
          "base_uri": "https://localhost:8080/",
          "height": 484
        },
        "id": "NflVuWW645LV",
        "outputId": "6839aee8-122f-4b1b-db64-6e862884dc04"
      },
      "source": [
        "print(\"Is there any outliers in the datasets?\\n \")\n",
        "fig=plt.figure(figsize=(10,7))\n",
        "sns.boxplot(data=movies, palette='deep')\n",
        "plt.title('Box Plot Of Movies Dataset',fontsize=20)\n",
        "plt.show()"
      ],
      "execution_count": null,
      "outputs": [
        {
          "output_type": "stream",
          "text": [
            "Is there any outliers in the datasets?\n",
            " \n"
          ],
          "name": "stdout"
        },
        {
          "output_type": "display_data",
          "data": {
            "image/png": "[encoded data removed]",
            "text/plain": [
              "<Figure size 720x504 with 1 Axes>"
            ]
          },
          "metadata": {
            "tags": [],
            "needs_background": "light"
          }
        }
      ]
    },
    {
      "cell_type": "markdown",
      "metadata": {
        "id": "pbqRwhoKER9Z"
      },
      "source": [
        "* **From the above box plot:**\n",
        "\n",
        "    There is no outliers that needed to be removed."
      ]
    },
    {
      "cell_type": "markdown",
      "metadata": {
        "id": "S5JxSAj8aQfS"
      },
      "source": [
        "## **1.3 Data Visualization**"
      ]
    },
    {
      "cell_type": "code",
      "metadata": {
        "colab": {
          "base_uri": "https://localhost:8080/",
          "height": 577
        },
        "id": "p1zLpi2GOYej",
        "outputId": "462d6ec3-d3c8-4c3f-bdfc-b4518ddb67de"
      },
      "source": [
        "p = sns.pairplot(movies.sample(500), hue='rating', palette='deep')\n",
        "p.fig.suptitle(\"Pair Plot of Movies Dataset\", y=1.03,fontsize=20)\n",
        "plt.show()"
      ],
      "execution_count": null,
      "outputs": [
        {
          "output_type": "display_data",
          "data": {
            "image/png": "[encoded data removed]",
            "text/plain": [
              "<Figure size 592x540 with 12 Axes>"
            ]
          },
          "metadata": {
            "tags": [],
            "needs_background": "light"
          }
        }
      ]
    },
    {
      "cell_type": "markdown",
      "metadata": {
        "id": "fFafyQze_fLA"
      },
      "source": [
        "* **About the above pair plot:**\n",
        "1. Plotting pairwise relationships in 500 samples from the movies dataset\n",
        "2. With excluding the ‘target’ (rating) as a hue\n"
      ]
    },
    {
      "cell_type": "code",
      "metadata": {
        "colab": {
          "base_uri": "https://localhost:8080/",
          "height": 341
        },
        "id": "0_mdBqUSpoPa",
        "outputId": "a2280626-2871-4fde-8b57-2e7baee8efaf"
      },
      "source": [
        "movie_title=[]\n",
        "for title in movies.title: movie_title.append(title[0:-7])\n",
        "movie_title=str(movie_title) \n",
        "\n",
        "wordcloud_title=WordCloud(width=1500,height=800,min_font_size=2, background_color='darkgray').generate(movie_title)\n",
        "\n",
        "plt.figure(figsize=(10,5))\n",
        "plt.axis('off')\n",
        "plt.title('WORDCLOUD for Movies Titles', fontsize=20)\n",
        "plt.imshow(wordcloud_title)"
      ],
      "execution_count": null,
      "outputs": [
        {
          "output_type": "execute_result",
          "data": {
            "text/plain": [
              "<matplotlib.image.AxesImage at 0x7f5c9cd3c710>"
            ]
          },
          "metadata": {
            "tags": []
          },
          "execution_count": 15
        },
        {
          "output_type": "display_data",
          "data": {
            "image/png": "[encoded data removed]",
            "text/plain": [
              "<Figure size 720x360 with 1 Axes>"
            ]
          },
          "metadata": {
            "tags": [],
            "needs_background": "light"
          }
        }
      ]
    },
    {
      "cell_type": "markdown",
      "metadata": {
        "id": "tGl-jOFHuJMC"
      },
      "source": [
        "* **About the above Wordcloud:**\n",
        "1. It composed of the movie titles in the dataset, in which the size of each word indicates its frequency or importance\n",
        "2. The more a specific title appears and repeated in the dataset, the bigger and bolder it appears in the word cloud. "
      ]
    },
    {
      "cell_type": "code",
      "metadata": {
        "colab": {
          "base_uri": "https://localhost:8080/",
          "height": 360
        },
        "id": "2B63FfKntp99",
        "outputId": "033ea172-3f8b-46e7-cd06-337d5ae4f102"
      },
      "source": [
        "fig=plt.figure(figsize=(10,5))\n",
        "sns.countplot(x='rating', data=movies, palette='deep')\n",
        "plt.title('Rating Count',fontsize=20)\n",
        "plt.ylabel('Number of Movies',fontsize=15)\n",
        "plt.xlabel('Ratings',fontsize=15)\n",
        "plt.show()"
      ],
      "execution_count": null,
      "outputs": [
        {
          "output_type": "display_data",
          "data": {
            "image/png": "[encoded data removed]",
            "text/plain": [
              "<Figure size 720x360 with 1 Axes>"
            ]
          },
          "metadata": {
            "tags": [],
            "needs_background": "light"
          }
        }
      ]
    },
    {
      "cell_type": "code",
      "metadata": {
        "colab": {
          "base_uri": "https://localhost:8080/",
          "height": 386
        },
        "id": "n-tdUDCeHOW4",
        "outputId": "08503d1a-d285-48e2-c1a4-ce931d47216a"
      },
      "source": [
        "df_ratings_cnt_tmp = pd.DataFrame(movies.groupby('rating').size(), columns=['count'])\n",
        "df_ratings_cnt_tmp"
      ],
      "execution_count": null,
      "outputs": [
        {
          "output_type": "execute_result",
          "data": {
            "text/html": [
              "<div>\n",
              "<style scoped>\n",
              "    .dataframe tbody tr th:only-of-type {\n",
              "        vertical-align: middle;\n",
              "    }\n",
              "\n",
              "    .dataframe tbody tr th {\n",
              "        vertical-align: top;\n",
              "    }\n",
              "\n",
              "    .dataframe thead th {\n",
              "        text-align: right;\n",
              "    }\n",
              "</style>\n",
              "<table border=\"1\" class=\"dataframe\">\n",
              "  <thead>\n",
              "    <tr style=\"text-align: right;\">\n",
              "      <th></th>\n",
              "      <th>count</th>\n",
              "    </tr>\n",
              "    <tr>\n",
              "      <th>rating</th>\n",
              "      <th></th>\n",
              "    </tr>\n",
              "  </thead>\n",
              "  <tbody>\n",
              "    <tr>\n",
              "      <th>0.5</th>\n",
              "      <td>1198</td>\n",
              "    </tr>\n",
              "    <tr>\n",
              "      <th>1.0</th>\n",
              "      <td>3258</td>\n",
              "    </tr>\n",
              "    <tr>\n",
              "      <th>1.5</th>\n",
              "      <td>1567</td>\n",
              "    </tr>\n",
              "    <tr>\n",
              "      <th>2.0</th>\n",
              "      <td>7943</td>\n",
              "    </tr>\n",
              "    <tr>\n",
              "      <th>2.5</th>\n",
              "      <td>5484</td>\n",
              "    </tr>\n",
              "    <tr>\n",
              "      <th>3.0</th>\n",
              "      <td>21729</td>\n",
              "    </tr>\n",
              "    <tr>\n",
              "      <th>3.5</th>\n",
              "      <td>12237</td>\n",
              "    </tr>\n",
              "    <tr>\n",
              "      <th>4.0</th>\n",
              "      <td>28880</td>\n",
              "    </tr>\n",
              "    <tr>\n",
              "      <th>4.5</th>\n",
              "      <td>8187</td>\n",
              "    </tr>\n",
              "    <tr>\n",
              "      <th>5.0</th>\n",
              "      <td>14856</td>\n",
              "    </tr>\n",
              "  </tbody>\n",
              "</table>\n",
              "</div>"
            ],
            "text/plain": [
              "        count\n",
              "rating       \n",
              "0.5      1198\n",
              "1.0      3258\n",
              "1.5      1567\n",
              "2.0      7943\n",
              "2.5      5484\n",
              "3.0     21729\n",
              "3.5     12237\n",
              "4.0     28880\n",
              "4.5      8187\n",
              "5.0     14856"
            ]
          },
          "metadata": {
            "tags": []
          },
          "execution_count": 17
        }
      ]
    },
    {
      "cell_type": "markdown",
      "metadata": {
        "id": "wRe-EdKCTXGS"
      },
      "source": [
        "* **Noticed from the above count plot & table:**\n",
        "1. Most of the rated movies are having a rate of 4.0\n",
        "2. Only 1198 Movies that have a rate of 0.5   (lowest rate)"
      ]
    },
    {
      "cell_type": "code",
      "metadata": {
        "colab": {
          "base_uri": "https://localhost:8080/",
          "height": 807
        },
        "id": "DQCa8j_Buwxz",
        "outputId": "a62c5f01-7562-4231-b531-47ca9e452037"
      },
      "source": [
        "df=movies.groupby('title')[['rating']].count()\n",
        "rating_count_20=df.nlargest(20,'rating')\n",
        "\n",
        "plt.figure(figsize=(10,5))\n",
        "plt.title('Top 20 Movies with Highest Number of Rating',fontsize=20)\n",
        "\n",
        "plt.xticks(fontsize=10,rotation=90)\n",
        "plt.yticks(fontsize=10)\n",
        "\n",
        "sns.barplot(rating_count_20.index,rating_count_20.rating, palette='deep')\n",
        "plt.ylabel('Number of Ratings',fontsize=15)\n",
        "plt.xlabel('Movie Title',fontsize=15)"
      ],
      "execution_count": null,
      "outputs": [
        {
          "output_type": "stream",
          "text": [
            "/usr/local/lib/python3.7/dist-packages/seaborn/_decorators.py:43: FutureWarning: Pass the following variables as keyword args: x, y. From version 0.12, the only valid positional argument will be `data`, and passing other arguments without an explicit keyword will result in an error or misinterpretation.\n",
            "  FutureWarning\n"
          ],
          "name": "stderr"
        },
        {
          "output_type": "execute_result",
          "data": {
            "text/plain": [
              "Text(0.5, 0, 'Movie Title')"
            ]
          },
          "metadata": {
            "tags": []
          },
          "execution_count": 18
        },
        {
          "output_type": "display_data",
          "data": {
            "image/png": "[encoded data removed]",
            "text/plain": [
              "<Figure size 720x360 with 1 Axes>"
            ]
          },
          "metadata": {
            "tags": [],
            "needs_background": "light"
          }
        }
      ]
    },
    {
      "cell_type": "markdown",
      "metadata": {
        "id": "EpEuNxGCW4Nb"
      },
      "source": [
        "* **Noticed from the above count plot:**\n",
        "  \n",
        "  The movie that has the highest number of users' ratings is Pulp Fiction (1994)"
      ]
    },
    {
      "cell_type": "markdown",
      "metadata": {
        "id": "DOzAMIEQsaxt"
      },
      "source": [
        "# **2- Data Preparation**\n",
        "\n",
        "\n",
        "---\n",
        "\n",
        "\n",
        "This section includes:\n",
        "1. Data Preprocessing \n",
        "2. Data Splitting\n",
        "3. Data Scaling"
      ]
    },
    {
      "cell_type": "markdown",
      "metadata": {
        "id": "PsGPCjnBswxu"
      },
      "source": [
        "## **2.1 Data Preprocessing**"
      ]
    },
    {
      "cell_type": "markdown",
      "metadata": {
        "id": "1hXD4GOy7uLA"
      },
      "source": [
        "**2.1.1 Data Cleaning**"
      ]
    },
    {
      "cell_type": "markdown",
      "metadata": {
        "id": "q00u0m5R8AnY"
      },
      "source": [
        "* Seperating `genres` among \"|\""
      ]
    },
    {
      "cell_type": "code",
      "metadata": {
        "colab": {
          "base_uri": "https://localhost:8080/",
          "height": 114
        },
        "id": "3CLFqBw27wkV",
        "outputId": "bd7c6339-66d0-45ae-831a-f8ea030d5a3e"
      },
      "source": [
        "movies.genres = movies.genres.str.split(\"|\")\n",
        "print('Head of movies Dataset After Seperating genres:\\n')\n",
        "movies.head(1)"
      ],
      "execution_count": 68,
      "outputs": [
        {
          "output_type": "stream",
          "text": [
            "Head of movies Dataset After Seperating genres:\n",
            "\n"
          ],
          "name": "stdout"
        },
        {
          "output_type": "execute_result",
          "data": {
            "text/html": [
              "<div>\n",
              "<style scoped>\n",
              "    .dataframe tbody tr th:only-of-type {\n",
              "        vertical-align: middle;\n",
              "    }\n",
              "\n",
              "    .dataframe tbody tr th {\n",
              "        vertical-align: top;\n",
              "    }\n",
              "\n",
              "    .dataframe thead th {\n",
              "        text-align: right;\n",
              "    }\n",
              "</style>\n",
              "<table border=\"1\" class=\"dataframe\">\n",
              "  <thead>\n",
              "    <tr style=\"text-align: right;\">\n",
              "      <th></th>\n",
              "      <th>userId</th>\n",
              "      <th>movieId</th>\n",
              "      <th>rating</th>\n",
              "      <th>timestamp</th>\n",
              "      <th>title</th>\n",
              "      <th>genres</th>\n",
              "    </tr>\n",
              "  </thead>\n",
              "  <tbody>\n",
              "    <tr>\n",
              "      <th>0</th>\n",
              "      <td>1</td>\n",
              "      <td>16</td>\n",
              "      <td>4.0</td>\n",
              "      <td>1217897793</td>\n",
              "      <td>Casino (1995)</td>\n",
              "      <td>[Crime, Drama]</td>\n",
              "    </tr>\n",
              "  </tbody>\n",
              "</table>\n",
              "</div>"
            ],
            "text/plain": [
              "   userId  movieId  rating   timestamp          title          genres\n",
              "0       1       16     4.0  1217897793  Casino (1995)  [Crime, Drama]"
            ]
          },
          "metadata": {
            "tags": []
          },
          "execution_count": 68
        }
      ]
    },
    {
      "cell_type": "markdown",
      "metadata": {
        "id": "DsqGxPUT5ks1"
      },
      "source": [
        "**2.1.2 Features Extraction**"
      ]
    },
    {
      "cell_type": "markdown",
      "metadata": {
        "id": "_IQzgT0yE59Y"
      },
      "source": [
        "* Creating a **new feature**: ```year```\n",
        "\n",
        "    1- Represents the year that the movie was released in\n",
        "    \n",
        "    2- Will be extracted from the ```title``` feature"
      ]
    },
    {
      "cell_type": "code",
      "metadata": {
        "id": "H8gf8W-SFiyO",
        "colab": {
          "base_uri": "https://localhost:8080/",
          "height": 114
        },
        "outputId": "cceebcb6-2700-4e78-d853-fa3d4e48d3dc"
      },
      "source": [
        "movies[\"year\"] = movies.title.str.extract('(\\(\\d\\d\\d\\d\\))',expand=False) #seperate it from parantheses.\n",
        "movies[\"year\"] = movies.year.str.extract('(\\d\\d\\d\\d)', expand = False) #remove parantheses\n",
        "movies[\"title\"] = movies.title.str.replace('(\\(\\d\\d\\d\\d\\))','')\n",
        "movies.title = movies.title.str.strip()\n",
        "\n",
        "print('Head of movies Dataset After splitting title & year:\\n')\n",
        "movies.head(1)"
      ],
      "execution_count": 69,
      "outputs": [
        {
          "output_type": "stream",
          "text": [
            "Head of movies Dataset After splitting title & year:\n",
            "\n"
          ],
          "name": "stdout"
        },
        {
          "output_type": "execute_result",
          "data": {
            "text/html": [
              "<div>\n",
              "<style scoped>\n",
              "    .dataframe tbody tr th:only-of-type {\n",
              "        vertical-align: middle;\n",
              "    }\n",
              "\n",
              "    .dataframe tbody tr th {\n",
              "        vertical-align: top;\n",
              "    }\n",
              "\n",
              "    .dataframe thead th {\n",
              "        text-align: right;\n",
              "    }\n",
              "</style>\n",
              "<table border=\"1\" class=\"dataframe\">\n",
              "  <thead>\n",
              "    <tr style=\"text-align: right;\">\n",
              "      <th></th>\n",
              "      <th>userId</th>\n",
              "      <th>movieId</th>\n",
              "      <th>rating</th>\n",
              "      <th>timestamp</th>\n",
              "      <th>title</th>\n",
              "      <th>genres</th>\n",
              "      <th>year</th>\n",
              "    </tr>\n",
              "  </thead>\n",
              "  <tbody>\n",
              "    <tr>\n",
              "      <th>0</th>\n",
              "      <td>1</td>\n",
              "      <td>16</td>\n",
              "      <td>4.0</td>\n",
              "      <td>1217897793</td>\n",
              "      <td>Casino</td>\n",
              "      <td>[Crime, Drama]</td>\n",
              "      <td>1995</td>\n",
              "    </tr>\n",
              "  </tbody>\n",
              "</table>\n",
              "</div>"
            ],
            "text/plain": [
              "   userId  movieId  rating   timestamp   title          genres  year\n",
              "0       1       16     4.0  1217897793  Casino  [Crime, Drama]  1995"
            ]
          },
          "metadata": {
            "tags": []
          },
          "execution_count": 69
        }
      ]
    },
    {
      "cell_type": "markdown",
      "metadata": {
        "id": "HNm5_I2H8VSW"
      },
      "source": [
        "* Creating a **new features**:\n",
        "\n",
        "    1- To separate each genre type in a new attribute\n",
        "    \n",
        "    2- Will be extracted from the ```genres``` feature\n",
        "    \n",
        "    3- Genres of a movie will be in one-hot encoding format"
      ]
    },
    {
      "cell_type": "code",
      "metadata": {
        "id": "5CO0D-2qiy7h",
        "colab": {
          "base_uri": "https://localhost:8080/",
          "height": 185
        },
        "outputId": "0fe46775-eaaf-450a-8d2e-adbfd7474287"
      },
      "source": [
        "movies_genres = movies.copy()\n",
        "\n",
        "for index, row in movies.iterrows():\n",
        "    for genre in row[\"genres\"]:\n",
        "        movies_genres.at[index, genre] = 1\n",
        "movies_genres = movies_genres.fillna(0)\n",
        "\n",
        "print('Head of movies After splitting the types into new attributes:\\n')\n",
        "movies_genres.head(1)"
      ],
      "execution_count": 70,
      "outputs": [
        {
          "output_type": "stream",
          "text": [
            "Head of movies After splitting the types into new attributes:\n",
            "\n"
          ],
          "name": "stdout"
        },
        {
          "output_type": "execute_result",
          "data": {
            "text/html": [
              "<div>\n",
              "<style scoped>\n",
              "    .dataframe tbody tr th:only-of-type {\n",
              "        vertical-align: middle;\n",
              "    }\n",
              "\n",
              "    .dataframe tbody tr th {\n",
              "        vertical-align: top;\n",
              "    }\n",
              "\n",
              "    .dataframe thead th {\n",
              "        text-align: right;\n",
              "    }\n",
              "</style>\n",
              "<table border=\"1\" class=\"dataframe\">\n",
              "  <thead>\n",
              "    <tr style=\"text-align: right;\">\n",
              "      <th></th>\n",
              "      <th>userId</th>\n",
              "      <th>movieId</th>\n",
              "      <th>rating</th>\n",
              "      <th>timestamp</th>\n",
              "      <th>title</th>\n",
              "      <th>genres</th>\n",
              "      <th>year</th>\n",
              "      <th>Crime</th>\n",
              "      <th>Drama</th>\n",
              "      <th>Sci-Fi</th>\n",
              "      <th>Mystery</th>\n",
              "      <th>Thriller</th>\n",
              "      <th>Action</th>\n",
              "      <th>War</th>\n",
              "      <th>Adventure</th>\n",
              "      <th>IMAX</th>\n",
              "      <th>Comedy</th>\n",
              "      <th>Romance</th>\n",
              "      <th>Western</th>\n",
              "      <th>Horror</th>\n",
              "      <th>Fantasy</th>\n",
              "      <th>Musical</th>\n",
              "      <th>Film-Noir</th>\n",
              "      <th>Children</th>\n",
              "      <th>Animation</th>\n",
              "      <th>Documentary</th>\n",
              "      <th>(no genres listed)</th>\n",
              "    </tr>\n",
              "  </thead>\n",
              "  <tbody>\n",
              "    <tr>\n",
              "      <th>0</th>\n",
              "      <td>1</td>\n",
              "      <td>16</td>\n",
              "      <td>4.0</td>\n",
              "      <td>1217897793</td>\n",
              "      <td>Casino</td>\n",
              "      <td>[Crime, Drama]</td>\n",
              "      <td>1995</td>\n",
              "      <td>1.0</td>\n",
              "      <td>1.0</td>\n",
              "      <td>0.0</td>\n",
              "      <td>0.0</td>\n",
              "      <td>0.0</td>\n",
              "      <td>0.0</td>\n",
              "      <td>0.0</td>\n",
              "      <td>0.0</td>\n",
              "      <td>0.0</td>\n",
              "      <td>0.0</td>\n",
              "      <td>0.0</td>\n",
              "      <td>0.0</td>\n",
              "      <td>0.0</td>\n",
              "      <td>0.0</td>\n",
              "      <td>0.0</td>\n",
              "      <td>0.0</td>\n",
              "      <td>0.0</td>\n",
              "      <td>0.0</td>\n",
              "      <td>0.0</td>\n",
              "      <td>0.0</td>\n",
              "    </tr>\n",
              "  </tbody>\n",
              "</table>\n",
              "</div>"
            ],
            "text/plain": [
              "   userId  movieId  rating  ...  Animation Documentary (no genres listed)\n",
              "0       1       16     4.0  ...        0.0         0.0                0.0\n",
              "\n",
              "[1 rows x 27 columns]"
            ]
          },
          "metadata": {
            "tags": []
          },
          "execution_count": 70
        }
      ]
    },
    {
      "cell_type": "code",
      "metadata": {
        "colab": {
          "base_uri": "https://localhost:8080/",
          "height": 341
        },
        "id": "By1759cxX2WU",
        "outputId": "4d30f02d-0933-4aeb-9fed-ed2227bae21b"
      },
      "source": [
        "plt.subplots(figsize=(10,5))\n",
        "list1 = []\n",
        "\n",
        "for i in movies['genres']: list1.extend(i)\n",
        "\n",
        "ax = pd.Series(list1).value_counts()[:10].sort_values(ascending=True).plot.barh(width=0.9,color=sns.color_palette('deep'))\n",
        "\n",
        "for i, v in enumerate(pd.Series(list1).value_counts()[:10].sort_values(ascending=True).values): ax.text(.8, i, v,fontsize=12)\n",
        "\n",
        "plt.title('Top Genres',fontsize=20)\n",
        "plt.show()"
      ],
      "execution_count": 71,
      "outputs": [
        {
          "output_type": "display_data",
          "data": {
            "image/png": "[encoded data removed]",
            "text/plain": [
              "<Figure size 720x360 with 1 Axes>"
            ]
          },
          "metadata": {
            "tags": [],
            "needs_background": "light"
          }
        }
      ]
    },
    {
      "cell_type": "markdown",
      "metadata": {
        "id": "zIt9I_msYjo4"
      },
      "source": [
        "* **About the above count plot:**\n",
        "1. It shows the count of the top 10 genre that the movies in this dataset are catorized.\n",
        "2. The genre that represents the higher number of movies is `Drama`"
      ]
    },
    {
      "cell_type": "code",
      "metadata": {
        "colab": {
          "base_uri": "https://localhost:8080/",
          "height": 199
        },
        "id": "oUt_5mlFCCQ2",
        "outputId": "8b73c719-f30b-48cb-ce1c-fb949404948b"
      },
      "source": [
        "movies1 = movies_genres.drop(\"genres\", axis=1)\n",
        "print('Sample of movies After splitting the types into new attributes:\\n')\n",
        "movies1.sample(2)"
      ],
      "execution_count": 72,
      "outputs": [
        {
          "output_type": "stream",
          "text": [
            "Sample of movies After splitting the types into new attributes:\n",
            "\n"
          ],
          "name": "stdout"
        },
        {
          "output_type": "execute_result",
          "data": {
            "text/html": [
              "<div>\n",
              "<style scoped>\n",
              "    .dataframe tbody tr th:only-of-type {\n",
              "        vertical-align: middle;\n",
              "    }\n",
              "\n",
              "    .dataframe tbody tr th {\n",
              "        vertical-align: top;\n",
              "    }\n",
              "\n",
              "    .dataframe thead th {\n",
              "        text-align: right;\n",
              "    }\n",
              "</style>\n",
              "<table border=\"1\" class=\"dataframe\">\n",
              "  <thead>\n",
              "    <tr style=\"text-align: right;\">\n",
              "      <th></th>\n",
              "      <th>userId</th>\n",
              "      <th>movieId</th>\n",
              "      <th>rating</th>\n",
              "      <th>timestamp</th>\n",
              "      <th>title</th>\n",
              "      <th>year</th>\n",
              "      <th>Crime</th>\n",
              "      <th>Drama</th>\n",
              "      <th>Sci-Fi</th>\n",
              "      <th>Mystery</th>\n",
              "      <th>Thriller</th>\n",
              "      <th>Action</th>\n",
              "      <th>War</th>\n",
              "      <th>Adventure</th>\n",
              "      <th>IMAX</th>\n",
              "      <th>Comedy</th>\n",
              "      <th>Romance</th>\n",
              "      <th>Western</th>\n",
              "      <th>Horror</th>\n",
              "      <th>Fantasy</th>\n",
              "      <th>Musical</th>\n",
              "      <th>Film-Noir</th>\n",
              "      <th>Children</th>\n",
              "      <th>Animation</th>\n",
              "      <th>Documentary</th>\n",
              "      <th>(no genres listed)</th>\n",
              "    </tr>\n",
              "  </thead>\n",
              "  <tbody>\n",
              "    <tr>\n",
              "      <th>61686</th>\n",
              "      <td>326</td>\n",
              "      <td>225</td>\n",
              "      <td>4.0</td>\n",
              "      <td>844184062</td>\n",
              "      <td>Disclosure</td>\n",
              "      <td>1994</td>\n",
              "      <td>0.0</td>\n",
              "      <td>1.0</td>\n",
              "      <td>0.0</td>\n",
              "      <td>0.0</td>\n",
              "      <td>1.0</td>\n",
              "      <td>0.0</td>\n",
              "      <td>0.0</td>\n",
              "      <td>0.0</td>\n",
              "      <td>0.0</td>\n",
              "      <td>0.0</td>\n",
              "      <td>0.0</td>\n",
              "      <td>0.0</td>\n",
              "      <td>0.0</td>\n",
              "      <td>0.0</td>\n",
              "      <td>0.0</td>\n",
              "      <td>0.0</td>\n",
              "      <td>0.0</td>\n",
              "      <td>0.0</td>\n",
              "      <td>0.0</td>\n",
              "      <td>0.0</td>\n",
              "    </tr>\n",
              "    <tr>\n",
              "      <th>63140</th>\n",
              "      <td>331</td>\n",
              "      <td>1029</td>\n",
              "      <td>3.5</td>\n",
              "      <td>1138985165</td>\n",
              "      <td>Dumbo</td>\n",
              "      <td>1941</td>\n",
              "      <td>0.0</td>\n",
              "      <td>1.0</td>\n",
              "      <td>0.0</td>\n",
              "      <td>0.0</td>\n",
              "      <td>0.0</td>\n",
              "      <td>0.0</td>\n",
              "      <td>0.0</td>\n",
              "      <td>0.0</td>\n",
              "      <td>0.0</td>\n",
              "      <td>0.0</td>\n",
              "      <td>0.0</td>\n",
              "      <td>0.0</td>\n",
              "      <td>0.0</td>\n",
              "      <td>0.0</td>\n",
              "      <td>1.0</td>\n",
              "      <td>0.0</td>\n",
              "      <td>1.0</td>\n",
              "      <td>1.0</td>\n",
              "      <td>0.0</td>\n",
              "      <td>0.0</td>\n",
              "    </tr>\n",
              "  </tbody>\n",
              "</table>\n",
              "</div>"
            ],
            "text/plain": [
              "       userId  movieId  rating  ...  Animation Documentary (no genres listed)\n",
              "61686     326      225     4.0  ...        0.0         0.0                0.0\n",
              "63140     331     1029     3.5  ...        1.0         0.0                0.0\n",
              "\n",
              "[2 rows x 26 columns]"
            ]
          },
          "metadata": {
            "tags": []
          },
          "execution_count": 72
        }
      ]
    },
    {
      "cell_type": "code",
      "metadata": {
        "id": "29TYU4j5EECi",
        "colab": {
          "base_uri": "https://localhost:8080/"
        },
        "outputId": "daade21b-0a90-4277-85b3-4d2281c0f270"
      },
      "source": [
        "print(\"[Some General Info. About The New Preprocessed Dataset]\")\n",
        "print(\"\\nshape:\", movies1.shape,\"\\n\\n\",'-' * 20)\n",
        "print(\"\\nNumber of features:\", len(movies1.columns),\"\\n\\n\",'-' * 20)\n",
        "print(\"\\nFeature Names:\\n\", movies1.columns,\"\\n\\n\",'-' * 20)\n",
        "print(\"\\nDatatypes of features:\\n\", movies1.dtypes)"
      ],
      "execution_count": 73,
      "outputs": [
        {
          "output_type": "stream",
          "text": [
            "[Some General Info. About The New Preprocessed Dataset]\n",
            "\n",
            "shape: (105339, 26) \n",
            "\n",
            " --------------------\n",
            "\n",
            "Number of features: 26 \n",
            "\n",
            " --------------------\n",
            "\n",
            "Feature Names:\n",
            " Index(['userId', 'movieId', 'rating', 'timestamp', 'title', 'year', 'Crime',\n",
            "       'Drama', 'Sci-Fi', 'Mystery', 'Thriller', 'Action', 'War', 'Adventure',\n",
            "       'IMAX', 'Comedy', 'Romance', 'Western', 'Horror', 'Fantasy', 'Musical',\n",
            "       'Film-Noir', 'Children', 'Animation', 'Documentary',\n",
            "       '(no genres listed)'],\n",
            "      dtype='object') \n",
            "\n",
            " --------------------\n",
            "\n",
            "Datatypes of features:\n",
            " userId                  int64\n",
            "movieId                 int64\n",
            "rating                float64\n",
            "timestamp               int64\n",
            "title                  object\n",
            "year                   object\n",
            "Crime                 float64\n",
            "Drama                 float64\n",
            "Sci-Fi                float64\n",
            "Mystery               float64\n",
            "Thriller              float64\n",
            "Action                float64\n",
            "War                   float64\n",
            "Adventure             float64\n",
            "IMAX                  float64\n",
            "Comedy                float64\n",
            "Romance               float64\n",
            "Western               float64\n",
            "Horror                float64\n",
            "Fantasy               float64\n",
            "Musical               float64\n",
            "Film-Noir             float64\n",
            "Children              float64\n",
            "Animation             float64\n",
            "Documentary           float64\n",
            "(no genres listed)    float64\n",
            "dtype: object\n"
          ],
          "name": "stdout"
        }
      ]
    },
    {
      "cell_type": "markdown",
      "metadata": {
        "id": "QzaX4OLN5_uz"
      },
      "source": [
        "**2.1.3 Categorical Encoding**"
      ]
    },
    {
      "cell_type": "markdown",
      "metadata": {
        "id": "PfE_L0kGlF30"
      },
      "source": [
        "* **Converting `year` type to int:**"
      ]
    },
    {
      "cell_type": "code",
      "metadata": {
        "colab": {
          "base_uri": "https://localhost:8080/"
        },
        "id": "6V4mNiY8lRIa",
        "outputId": "0d3757f4-903a-4517-af9d-b06b39da8e9b"
      },
      "source": [
        "movies1[\"year\"] = movies1[\"year\"].astype(str).astype(int)\n",
        "movies1.year"
      ],
      "execution_count": 74,
      "outputs": [
        {
          "output_type": "execute_result",
          "data": {
            "text/plain": [
              "0         1995\n",
              "1         1995\n",
              "2         1995\n",
              "3         1995\n",
              "4         1995\n",
              "          ... \n",
              "105334    2015\n",
              "105335    2015\n",
              "105336    2014\n",
              "105337    2015\n",
              "105338    2015\n",
              "Name: year, Length: 105339, dtype: int64"
            ]
          },
          "metadata": {
            "tags": []
          },
          "execution_count": 74
        }
      ]
    },
    {
      "cell_type": "markdown",
      "metadata": {
        "id": "LwOZnRlPCLxZ"
      },
      "source": [
        "* **Converting `title` type to int:**"
      ]
    },
    {
      "cell_type": "code",
      "metadata": {
        "id": "9c58wjfOvfdU"
      },
      "source": [
        "titles = [i for i in movies1['title'].unique()]\r\n",
        "idx = [i for i in range(len(titles))]\r\n",
        "\r\n",
        "titles_dict = {titles[i]:idx[i] for i in range(len(idx))}"
      ],
      "execution_count": 75,
      "outputs": []
    },
    {
      "cell_type": "code",
      "metadata": {
        "colab": {
          "base_uri": "https://localhost:8080/"
        },
        "id": "O0K4A2x-wgus",
        "outputId": "756a7ab4-86ce-49a6-84a7-d1bb42971a0b"
      },
      "source": [
        "titles_col = [titles_dict[v] for v in movies1.title.values]\r\n",
        "titles_col = pd.Series(titles_col)\r\n",
        "titles_col.unique()[::5]"
      ],
      "execution_count": 76,
      "outputs": [
        {
          "output_type": "execute_result",
          "data": {
            "text/plain": [
              "array([    0,     5,    10, ...,  9995, 10000, 10005])"
            ]
          },
          "metadata": {
            "tags": []
          },
          "execution_count": 76
        }
      ]
    },
    {
      "cell_type": "code",
      "metadata": {
        "id": "kb7iGmQfxM09"
      },
      "source": [
        "movies1['titles_ints'] = titles_col"
      ],
      "execution_count": 77,
      "outputs": []
    },
    {
      "cell_type": "code",
      "metadata": {
        "colab": {
          "base_uri": "https://localhost:8080/",
          "height": 199
        },
        "id": "Nv6iKeJzaULC",
        "outputId": "3cc99885-814d-42e8-b6b9-f39baef0b0f0"
      },
      "source": [
        "movies2 = movies1.drop(\"title\", axis=1)\n",
        "print('Sample of movies After converting the type \"year\" & \"title\":\\n')\n",
        "movies2.head(2)"
      ],
      "execution_count": 78,
      "outputs": [
        {
          "output_type": "stream",
          "text": [
            "Sample of movies After converting the type \"year\" & \"title\":\n",
            "\n"
          ],
          "name": "stdout"
        },
        {
          "output_type": "execute_result",
          "data": {
            "text/html": [
              "<div>\n",
              "<style scoped>\n",
              "    .dataframe tbody tr th:only-of-type {\n",
              "        vertical-align: middle;\n",
              "    }\n",
              "\n",
              "    .dataframe tbody tr th {\n",
              "        vertical-align: top;\n",
              "    }\n",
              "\n",
              "    .dataframe thead th {\n",
              "        text-align: right;\n",
              "    }\n",
              "</style>\n",
              "<table border=\"1\" class=\"dataframe\">\n",
              "  <thead>\n",
              "    <tr style=\"text-align: right;\">\n",
              "      <th></th>\n",
              "      <th>userId</th>\n",
              "      <th>movieId</th>\n",
              "      <th>rating</th>\n",
              "      <th>timestamp</th>\n",
              "      <th>year</th>\n",
              "      <th>Crime</th>\n",
              "      <th>Drama</th>\n",
              "      <th>Sci-Fi</th>\n",
              "      <th>Mystery</th>\n",
              "      <th>Thriller</th>\n",
              "      <th>Action</th>\n",
              "      <th>War</th>\n",
              "      <th>Adventure</th>\n",
              "      <th>IMAX</th>\n",
              "      <th>Comedy</th>\n",
              "      <th>Romance</th>\n",
              "      <th>Western</th>\n",
              "      <th>Horror</th>\n",
              "      <th>Fantasy</th>\n",
              "      <th>Musical</th>\n",
              "      <th>Film-Noir</th>\n",
              "      <th>Children</th>\n",
              "      <th>Animation</th>\n",
              "      <th>Documentary</th>\n",
              "      <th>(no genres listed)</th>\n",
              "      <th>titles_ints</th>\n",
              "    </tr>\n",
              "  </thead>\n",
              "  <tbody>\n",
              "    <tr>\n",
              "      <th>0</th>\n",
              "      <td>1</td>\n",
              "      <td>16</td>\n",
              "      <td>4.0</td>\n",
              "      <td>1217897793</td>\n",
              "      <td>1995</td>\n",
              "      <td>1.0</td>\n",
              "      <td>1.0</td>\n",
              "      <td>0.0</td>\n",
              "      <td>0.0</td>\n",
              "      <td>0.0</td>\n",
              "      <td>0.0</td>\n",
              "      <td>0.0</td>\n",
              "      <td>0.0</td>\n",
              "      <td>0.0</td>\n",
              "      <td>0.0</td>\n",
              "      <td>0.0</td>\n",
              "      <td>0.0</td>\n",
              "      <td>0.0</td>\n",
              "      <td>0.0</td>\n",
              "      <td>0.0</td>\n",
              "      <td>0.0</td>\n",
              "      <td>0.0</td>\n",
              "      <td>0.0</td>\n",
              "      <td>0.0</td>\n",
              "      <td>0.0</td>\n",
              "      <td>0</td>\n",
              "    </tr>\n",
              "    <tr>\n",
              "      <th>1</th>\n",
              "      <td>9</td>\n",
              "      <td>16</td>\n",
              "      <td>4.0</td>\n",
              "      <td>842686699</td>\n",
              "      <td>1995</td>\n",
              "      <td>1.0</td>\n",
              "      <td>1.0</td>\n",
              "      <td>0.0</td>\n",
              "      <td>0.0</td>\n",
              "      <td>0.0</td>\n",
              "      <td>0.0</td>\n",
              "      <td>0.0</td>\n",
              "      <td>0.0</td>\n",
              "      <td>0.0</td>\n",
              "      <td>0.0</td>\n",
              "      <td>0.0</td>\n",
              "      <td>0.0</td>\n",
              "      <td>0.0</td>\n",
              "      <td>0.0</td>\n",
              "      <td>0.0</td>\n",
              "      <td>0.0</td>\n",
              "      <td>0.0</td>\n",
              "      <td>0.0</td>\n",
              "      <td>0.0</td>\n",
              "      <td>0.0</td>\n",
              "      <td>0</td>\n",
              "    </tr>\n",
              "  </tbody>\n",
              "</table>\n",
              "</div>"
            ],
            "text/plain": [
              "   userId  movieId  rating  ...  Documentary  (no genres listed)  titles_ints\n",
              "0       1       16     4.0  ...          0.0                 0.0            0\n",
              "1       9       16     4.0  ...          0.0                 0.0            0\n",
              "\n",
              "[2 rows x 26 columns]"
            ]
          },
          "metadata": {
            "tags": []
          },
          "execution_count": 78
        }
      ]
    },
    {
      "cell_type": "code",
      "metadata": {
        "colab": {
          "base_uri": "https://localhost:8080/"
        },
        "id": "LwHIBmhAUoQz",
        "outputId": "41e61c1c-c495-43d4-b1ea-b5a6109e8474"
      },
      "source": [
        "print('The Features types:\\n')\n",
        "movies2.dtypes"
      ],
      "execution_count": 79,
      "outputs": [
        {
          "output_type": "stream",
          "text": [
            "The Features types:\n",
            "\n"
          ],
          "name": "stdout"
        },
        {
          "output_type": "execute_result",
          "data": {
            "text/plain": [
              "userId                  int64\n",
              "movieId                 int64\n",
              "rating                float64\n",
              "timestamp               int64\n",
              "year                    int64\n",
              "Crime                 float64\n",
              "Drama                 float64\n",
              "Sci-Fi                float64\n",
              "Mystery               float64\n",
              "Thriller              float64\n",
              "Action                float64\n",
              "War                   float64\n",
              "Adventure             float64\n",
              "IMAX                  float64\n",
              "Comedy                float64\n",
              "Romance               float64\n",
              "Western               float64\n",
              "Horror                float64\n",
              "Fantasy               float64\n",
              "Musical               float64\n",
              "Film-Noir             float64\n",
              "Children              float64\n",
              "Animation             float64\n",
              "Documentary           float64\n",
              "(no genres listed)    float64\n",
              "titles_ints             int64\n",
              "dtype: object"
            ]
          },
          "metadata": {
            "tags": []
          },
          "execution_count": 79
        }
      ]
    },
    {
      "cell_type": "markdown",
      "metadata": {
        "id": "h31cQVmrs1Oa"
      },
      "source": [
        "## **2.2 Features Extraction & Data Splitting**\n"
      ]
    },
    {
      "cell_type": "markdown",
      "metadata": {
        "id": "7EiFshR0m9HK"
      },
      "source": [
        "**2.2.1 Features Extraction**"
      ]
    },
    {
      "cell_type": "markdown",
      "metadata": {
        "id": "NzOTgyhBs2an"
      },
      "source": [
        "* Ploting **Correlation Matrix** of the dataset, that may help with deciding which features are better for the data splitting"
      ]
    },
    {
      "cell_type": "code",
      "metadata": {
        "colab": {
          "base_uri": "https://localhost:8080/",
          "height": 657
        },
        "id": "XQYJU6asnEzP",
        "outputId": "8b00d42d-6a02-4955-9c0b-658b622f2401"
      },
      "source": [
        "corr=movies2.corr()\n",
        "corr.style.background_gradient(cmap='coolwarm')"
      ],
      "execution_count": 84,
      "outputs": [
        {
          "output_type": "execute_result",
          "data": {
            "text/html": [
              "<style  type=\"text/css\" >\n",
              "#T_75728764_76f0_11eb_b706_0242ac1c0002row0_col0,#T_75728764_76f0_11eb_b706_0242ac1c0002row1_col1,#T_75728764_76f0_11eb_b706_0242ac1c0002row2_col2,#T_75728764_76f0_11eb_b706_0242ac1c0002row3_col3,#T_75728764_76f0_11eb_b706_0242ac1c0002row4_col4,#T_75728764_76f0_11eb_b706_0242ac1c0002row5_col5,#T_75728764_76f0_11eb_b706_0242ac1c0002row6_col6,#T_75728764_76f0_11eb_b706_0242ac1c0002row7_col7,#T_75728764_76f0_11eb_b706_0242ac1c0002row8_col8,#T_75728764_76f0_11eb_b706_0242ac1c0002row9_col9,#T_75728764_76f0_11eb_b706_0242ac1c0002row10_col10,#T_75728764_76f0_11eb_b706_0242ac1c0002row11_col11,#T_75728764_76f0_11eb_b706_0242ac1c0002row12_col12,#T_75728764_76f0_11eb_b706_0242ac1c0002row13_col13,#T_75728764_76f0_11eb_b706_0242ac1c0002row14_col14,#T_75728764_76f0_11eb_b706_0242ac1c0002row15_col15,#T_75728764_76f0_11eb_b706_0242ac1c0002row16_col16,#T_75728764_76f0_11eb_b706_0242ac1c0002row17_col17,#T_75728764_76f0_11eb_b706_0242ac1c0002row18_col18,#T_75728764_76f0_11eb_b706_0242ac1c0002row19_col19,#T_75728764_76f0_11eb_b706_0242ac1c0002row20_col20,#T_75728764_76f0_11eb_b706_0242ac1c0002row21_col21,#T_75728764_76f0_11eb_b706_0242ac1c0002row22_col22,#T_75728764_76f0_11eb_b706_0242ac1c0002row23_col23,#T_75728764_76f0_11eb_b706_0242ac1c0002row24_col24,#T_75728764_76f0_11eb_b706_0242ac1c0002row25_col25{\n",
              "            background-color:  #b40426;\n",
              "            color:  #f1f1f1;\n",
              "        }#T_75728764_76f0_11eb_b706_0242ac1c0002row0_col1,#T_75728764_76f0_11eb_b706_0242ac1c0002row0_col8,#T_75728764_76f0_11eb_b706_0242ac1c0002row0_col15,#T_75728764_76f0_11eb_b706_0242ac1c0002row0_col17,#T_75728764_76f0_11eb_b706_0242ac1c0002row1_col18,#T_75728764_76f0_11eb_b706_0242ac1c0002row4_col15,#T_75728764_76f0_11eb_b706_0242ac1c0002row4_col22,#T_75728764_76f0_11eb_b706_0242ac1c0002row8_col12,#T_75728764_76f0_11eb_b706_0242ac1c0002row13_col5,#T_75728764_76f0_11eb_b706_0242ac1c0002row21_col2,#T_75728764_76f0_11eb_b706_0242ac1c0002row22_col15,#T_75728764_76f0_11eb_b706_0242ac1c0002row23_col7,#T_75728764_76f0_11eb_b706_0242ac1c0002row24_col8,#T_75728764_76f0_11eb_b706_0242ac1c0002row25_col15{\n",
              "            background-color:  #6485ec;\n",
              "            color:  #000000;\n",
              "        }#T_75728764_76f0_11eb_b706_0242ac1c0002row0_col2,#T_75728764_76f0_11eb_b706_0242ac1c0002row0_col18,#T_75728764_76f0_11eb_b706_0242ac1c0002row8_col4,#T_75728764_76f0_11eb_b706_0242ac1c0002row13_col25,#T_75728764_76f0_11eb_b706_0242ac1c0002row15_col22,#T_75728764_76f0_11eb_b706_0242ac1c0002row18_col7,#T_75728764_76f0_11eb_b706_0242ac1c0002row21_col9{\n",
              "            background-color:  #5e7de7;\n",
              "            color:  #000000;\n",
              "        }#T_75728764_76f0_11eb_b706_0242ac1c0002row0_col3,#T_75728764_76f0_11eb_b706_0242ac1c0002row2_col24,#T_75728764_76f0_11eb_b706_0242ac1c0002row5_col24,#T_75728764_76f0_11eb_b706_0242ac1c0002row7_col24,#T_75728764_76f0_11eb_b706_0242ac1c0002row8_col15,#T_75728764_76f0_11eb_b706_0242ac1c0002row8_col24,#T_75728764_76f0_11eb_b706_0242ac1c0002row9_col1,#T_75728764_76f0_11eb_b706_0242ac1c0002row9_col25,#T_75728764_76f0_11eb_b706_0242ac1c0002row10_col16,#T_75728764_76f0_11eb_b706_0242ac1c0002row11_col24,#T_75728764_76f0_11eb_b706_0242ac1c0002row12_col3,#T_75728764_76f0_11eb_b706_0242ac1c0002row12_col24,#T_75728764_76f0_11eb_b706_0242ac1c0002row13_col24,#T_75728764_76f0_11eb_b706_0242ac1c0002row15_col4,#T_75728764_76f0_11eb_b706_0242ac1c0002row15_col24,#T_75728764_76f0_11eb_b706_0242ac1c0002row16_col19,#T_75728764_76f0_11eb_b706_0242ac1c0002row16_col24,#T_75728764_76f0_11eb_b706_0242ac1c0002row17_col24,#T_75728764_76f0_11eb_b706_0242ac1c0002row18_col24,#T_75728764_76f0_11eb_b706_0242ac1c0002row18_col25,#T_75728764_76f0_11eb_b706_0242ac1c0002row19_col17,#T_75728764_76f0_11eb_b706_0242ac1c0002row19_col24,#T_75728764_76f0_11eb_b706_0242ac1c0002row20_col19,#T_75728764_76f0_11eb_b706_0242ac1c0002row20_col24,#T_75728764_76f0_11eb_b706_0242ac1c0002row21_col24,#T_75728764_76f0_11eb_b706_0242ac1c0002row22_col24,#T_75728764_76f0_11eb_b706_0242ac1c0002row23_col3,#T_75728764_76f0_11eb_b706_0242ac1c0002row23_col24,#T_75728764_76f0_11eb_b706_0242ac1c0002row25_col4{\n",
              "            background-color:  #5673e0;\n",
              "            color:  #000000;\n",
              "        }#T_75728764_76f0_11eb_b706_0242ac1c0002row0_col4,#T_75728764_76f0_11eb_b706_0242ac1c0002row0_col20,#T_75728764_76f0_11eb_b706_0242ac1c0002row0_col23,#T_75728764_76f0_11eb_b706_0242ac1c0002row3_col15,#T_75728764_76f0_11eb_b706_0242ac1c0002row4_col2,#T_75728764_76f0_11eb_b706_0242ac1c0002row11_col7,#T_75728764_76f0_11eb_b706_0242ac1c0002row11_col21,#T_75728764_76f0_11eb_b706_0242ac1c0002row14_col2,#T_75728764_76f0_11eb_b706_0242ac1c0002row15_col11,#T_75728764_76f0_11eb_b706_0242ac1c0002row16_col11,#T_75728764_76f0_11eb_b706_0242ac1c0002row16_col17,#T_75728764_76f0_11eb_b706_0242ac1c0002row17_col5,#T_75728764_76f0_11eb_b706_0242ac1c0002row18_col3{\n",
              "            background-color:  #5875e1;\n",
              "            color:  #000000;\n",
              "        }#T_75728764_76f0_11eb_b706_0242ac1c0002row0_col5,#T_75728764_76f0_11eb_b706_0242ac1c0002row1_col23,#T_75728764_76f0_11eb_b706_0242ac1c0002row3_col17,#T_75728764_76f0_11eb_b706_0242ac1c0002row4_col8,#T_75728764_76f0_11eb_b706_0242ac1c0002row6_col8,#T_75728764_76f0_11eb_b706_0242ac1c0002row8_col10,#T_75728764_76f0_11eb_b706_0242ac1c0002row10_col11,#T_75728764_76f0_11eb_b706_0242ac1c0002row16_col7,#T_75728764_76f0_11eb_b706_0242ac1c0002row17_col18,#T_75728764_76f0_11eb_b706_0242ac1c0002row19_col25,#T_75728764_76f0_11eb_b706_0242ac1c0002row20_col7,#T_75728764_76f0_11eb_b706_0242ac1c0002row23_col10,#T_75728764_76f0_11eb_b706_0242ac1c0002row24_col5{\n",
              "            background-color:  #688aef;\n",
              "            color:  #000000;\n",
              "        }#T_75728764_76f0_11eb_b706_0242ac1c0002row0_col6,#T_75728764_76f0_11eb_b706_0242ac1c0002row1_col6,#T_75728764_76f0_11eb_b706_0242ac1c0002row1_col10,#T_75728764_76f0_11eb_b706_0242ac1c0002row6_col15,#T_75728764_76f0_11eb_b706_0242ac1c0002row8_col20,#T_75728764_76f0_11eb_b706_0242ac1c0002row17_col7{\n",
              "            background-color:  #88abfd;\n",
              "            color:  #000000;\n",
              "        }#T_75728764_76f0_11eb_b706_0242ac1c0002row0_col7,#T_75728764_76f0_11eb_b706_0242ac1c0002row1_col8,#T_75728764_76f0_11eb_b706_0242ac1c0002row2_col15,#T_75728764_76f0_11eb_b706_0242ac1c0002row9_col6,#T_75728764_76f0_11eb_b706_0242ac1c0002row9_col20,#T_75728764_76f0_11eb_b706_0242ac1c0002row11_col15,#T_75728764_76f0_11eb_b706_0242ac1c0002row16_col2,#T_75728764_76f0_11eb_b706_0242ac1c0002row22_col7{\n",
              "            background-color:  #6c8ff1;\n",
              "            color:  #000000;\n",
              "        }#T_75728764_76f0_11eb_b706_0242ac1c0002row0_col9,#T_75728764_76f0_11eb_b706_0242ac1c0002row13_col9,#T_75728764_76f0_11eb_b706_0242ac1c0002row24_col9,#T_75728764_76f0_11eb_b706_0242ac1c0002row24_col14{\n",
              "            background-color:  #8badfd;\n",
              "            color:  #000000;\n",
              "        }#T_75728764_76f0_11eb_b706_0242ac1c0002row0_col10,#T_75728764_76f0_11eb_b706_0242ac1c0002row4_col5,#T_75728764_76f0_11eb_b706_0242ac1c0002row18_col10{\n",
              "            background-color:  #7597f6;\n",
              "            color:  #000000;\n",
              "        }#T_75728764_76f0_11eb_b706_0242ac1c0002row0_col11,#T_75728764_76f0_11eb_b706_0242ac1c0002row2_col23,#T_75728764_76f0_11eb_b706_0242ac1c0002row3_col11,#T_75728764_76f0_11eb_b706_0242ac1c0002row6_col24,#T_75728764_76f0_11eb_b706_0242ac1c0002row7_col1,#T_75728764_76f0_11eb_b706_0242ac1c0002row8_col13,#T_75728764_76f0_11eb_b706_0242ac1c0002row8_col22,#T_75728764_76f0_11eb_b706_0242ac1c0002row9_col3,#T_75728764_76f0_11eb_b706_0242ac1c0002row9_col24,#T_75728764_76f0_11eb_b706_0242ac1c0002row10_col17,#T_75728764_76f0_11eb_b706_0242ac1c0002row10_col24,#T_75728764_76f0_11eb_b706_0242ac1c0002row14_col24,#T_75728764_76f0_11eb_b706_0242ac1c0002row16_col18,#T_75728764_76f0_11eb_b706_0242ac1c0002row19_col8,#T_75728764_76f0_11eb_b706_0242ac1c0002row19_col23,#T_75728764_76f0_11eb_b706_0242ac1c0002row21_col8,#T_75728764_76f0_11eb_b706_0242ac1c0002row22_col1,#T_75728764_76f0_11eb_b706_0242ac1c0002row24_col1,#T_75728764_76f0_11eb_b706_0242ac1c0002row24_col13{\n",
              "            background-color:  #5572df;\n",
              "            color:  #000000;\n",
              "        }#T_75728764_76f0_11eb_b706_0242ac1c0002row0_col12,#T_75728764_76f0_11eb_b706_0242ac1c0002row3_col5,#T_75728764_76f0_11eb_b706_0242ac1c0002row5_col14,#T_75728764_76f0_11eb_b706_0242ac1c0002row8_col2,#T_75728764_76f0_11eb_b706_0242ac1c0002row9_col4{\n",
              "            background-color:  #7699f6;\n",
              "            color:  #000000;\n",
              "        }#T_75728764_76f0_11eb_b706_0242ac1c0002row0_col13,#T_75728764_76f0_11eb_b706_0242ac1c0002row3_col20,#T_75728764_76f0_11eb_b706_0242ac1c0002row8_col3,#T_75728764_76f0_11eb_b706_0242ac1c0002row9_col13,#T_75728764_76f0_11eb_b706_0242ac1c0002row10_col8,#T_75728764_76f0_11eb_b706_0242ac1c0002row21_col4,#T_75728764_76f0_11eb_b706_0242ac1c0002row21_col10,#T_75728764_76f0_11eb_b706_0242ac1c0002row22_col5,#T_75728764_76f0_11eb_b706_0242ac1c0002row24_col11,#T_75728764_76f0_11eb_b706_0242ac1c0002row24_col20,#T_75728764_76f0_11eb_b706_0242ac1c0002row25_col12{\n",
              "            background-color:  #5470de;\n",
              "            color:  #000000;\n",
              "        }#T_75728764_76f0_11eb_b706_0242ac1c0002row0_col14,#T_75728764_76f0_11eb_b706_0242ac1c0002row10_col5,#T_75728764_76f0_11eb_b706_0242ac1c0002row25_col14{\n",
              "            background-color:  #85a8fc;\n",
              "            color:  #000000;\n",
              "        }#T_75728764_76f0_11eb_b706_0242ac1c0002row0_col16,#T_75728764_76f0_11eb_b706_0242ac1c0002row1_col11,#T_75728764_76f0_11eb_b706_0242ac1c0002row1_col19,#T_75728764_76f0_11eb_b706_0242ac1c0002row2_col16,#T_75728764_76f0_11eb_b706_0242ac1c0002row5_col17,#T_75728764_76f0_11eb_b706_0242ac1c0002row7_col18,#T_75728764_76f0_11eb_b706_0242ac1c0002row8_col1,#T_75728764_76f0_11eb_b706_0242ac1c0002row11_col13,#T_75728764_76f0_11eb_b706_0242ac1c0002row11_col18,#T_75728764_76f0_11eb_b706_0242ac1c0002row16_col20,#T_75728764_76f0_11eb_b706_0242ac1c0002row17_col22,#T_75728764_76f0_11eb_b706_0242ac1c0002row20_col13,#T_75728764_76f0_11eb_b706_0242ac1c0002row22_col17,#T_75728764_76f0_11eb_b706_0242ac1c0002row25_col10{\n",
              "            background-color:  #506bda;\n",
              "            color:  #000000;\n",
              "        }#T_75728764_76f0_11eb_b706_0242ac1c0002row0_col19,#T_75728764_76f0_11eb_b706_0242ac1c0002row0_col22,#T_75728764_76f0_11eb_b706_0242ac1c0002row12_col16,#T_75728764_76f0_11eb_b706_0242ac1c0002row17_col6,#T_75728764_76f0_11eb_b706_0242ac1c0002row19_col10,#T_75728764_76f0_11eb_b706_0242ac1c0002row20_col17,#T_75728764_76f0_11eb_b706_0242ac1c0002row20_col18,#T_75728764_76f0_11eb_b706_0242ac1c0002row20_col22,#T_75728764_76f0_11eb_b706_0242ac1c0002row21_col6,#T_75728764_76f0_11eb_b706_0242ac1c0002row21_col25,#T_75728764_76f0_11eb_b706_0242ac1c0002row22_col3,#T_75728764_76f0_11eb_b706_0242ac1c0002row23_col15,#T_75728764_76f0_11eb_b706_0242ac1c0002row23_col22,#T_75728764_76f0_11eb_b706_0242ac1c0002row25_col19,#T_75728764_76f0_11eb_b706_0242ac1c0002row25_col21{\n",
              "            background-color:  #5a78e4;\n",
              "            color:  #000000;\n",
              "        }#T_75728764_76f0_11eb_b706_0242ac1c0002row0_col21,#T_75728764_76f0_11eb_b706_0242ac1c0002row1_col0,#T_75728764_76f0_11eb_b706_0242ac1c0002row2_col18,#T_75728764_76f0_11eb_b706_0242ac1c0002row4_col21,#T_75728764_76f0_11eb_b706_0242ac1c0002row8_col14,#T_75728764_76f0_11eb_b706_0242ac1c0002row8_col25,#T_75728764_76f0_11eb_b706_0242ac1c0002row10_col3,#T_75728764_76f0_11eb_b706_0242ac1c0002row12_col19,#T_75728764_76f0_11eb_b706_0242ac1c0002row23_col21,#T_75728764_76f0_11eb_b706_0242ac1c0002row24_col18{\n",
              "            background-color:  #6282ea;\n",
              "            color:  #000000;\n",
              "        }#T_75728764_76f0_11eb_b706_0242ac1c0002row0_col24,#T_75728764_76f0_11eb_b706_0242ac1c0002row1_col15,#T_75728764_76f0_11eb_b706_0242ac1c0002row5_col3,#T_75728764_76f0_11eb_b706_0242ac1c0002row6_col4,#T_75728764_76f0_11eb_b706_0242ac1c0002row8_col21,#T_75728764_76f0_11eb_b706_0242ac1c0002row10_col1,#T_75728764_76f0_11eb_b706_0242ac1c0002row13_col17,#T_75728764_76f0_11eb_b706_0242ac1c0002row15_col12,#T_75728764_76f0_11eb_b706_0242ac1c0002row16_col22,#T_75728764_76f0_11eb_b706_0242ac1c0002row17_col2,#T_75728764_76f0_11eb_b706_0242ac1c0002row17_col4,#T_75728764_76f0_11eb_b706_0242ac1c0002row18_col6,#T_75728764_76f0_11eb_b706_0242ac1c0002row22_col8,#T_75728764_76f0_11eb_b706_0242ac1c0002row23_col17,#T_75728764_76f0_11eb_b706_0242ac1c0002row23_col18{\n",
              "            background-color:  #5977e3;\n",
              "            color:  #000000;\n",
              "        }#T_75728764_76f0_11eb_b706_0242ac1c0002row0_col25,#T_75728764_76f0_11eb_b706_0242ac1c0002row12_col7{\n",
              "            background-color:  #b3cdfb;\n",
              "            color:  #000000;\n",
              "        }#T_75728764_76f0_11eb_b706_0242ac1c0002row1_col2,#T_75728764_76f0_11eb_b706_0242ac1c0002row1_col17,#T_75728764_76f0_11eb_b706_0242ac1c0002row1_col24,#T_75728764_76f0_11eb_b706_0242ac1c0002row2_col21,#T_75728764_76f0_11eb_b706_0242ac1c0002row4_col18,#T_75728764_76f0_11eb_b706_0242ac1c0002row7_col2,#T_75728764_76f0_11eb_b706_0242ac1c0002row11_col25,#T_75728764_76f0_11eb_b706_0242ac1c0002row14_col4,#T_75728764_76f0_11eb_b706_0242ac1c0002row14_col25,#T_75728764_76f0_11eb_b706_0242ac1c0002row21_col7{\n",
              "            background-color:  #6384eb;\n",
              "            color:  #000000;\n",
              "        }#T_75728764_76f0_11eb_b706_0242ac1c0002row1_col3{\n",
              "            background-color:  #e8d6cc;\n",
              "            color:  #000000;\n",
              "        }#T_75728764_76f0_11eb_b706_0242ac1c0002row1_col4,#T_75728764_76f0_11eb_b706_0242ac1c0002row21_col14,#T_75728764_76f0_11eb_b706_0242ac1c0002row22_col18{\n",
              "            background-color:  #abc8fd;\n",
              "            color:  #000000;\n",
              "        }#T_75728764_76f0_11eb_b706_0242ac1c0002row1_col5,#T_75728764_76f0_11eb_b706_0242ac1c0002row2_col8,#T_75728764_76f0_11eb_b706_0242ac1c0002row3_col22,#T_75728764_76f0_11eb_b706_0242ac1c0002row9_col12,#T_75728764_76f0_11eb_b706_0242ac1c0002row13_col2,#T_75728764_76f0_11eb_b706_0242ac1c0002row17_col14,#T_75728764_76f0_11eb_b706_0242ac1c0002row18_col13,#T_75728764_76f0_11eb_b706_0242ac1c0002row19_col6,#T_75728764_76f0_11eb_b706_0242ac1c0002row24_col7,#T_75728764_76f0_11eb_b706_0242ac1c0002row25_col17{\n",
              "            background-color:  #7093f3;\n",
              "            color:  #000000;\n",
              "        }#T_75728764_76f0_11eb_b706_0242ac1c0002row1_col7,#T_75728764_76f0_11eb_b706_0242ac1c0002row1_col12,#T_75728764_76f0_11eb_b706_0242ac1c0002row3_col6,#T_75728764_76f0_11eb_b706_0242ac1c0002row4_col6,#T_75728764_76f0_11eb_b706_0242ac1c0002row11_col2,#T_75728764_76f0_11eb_b706_0242ac1c0002row13_col4,#T_75728764_76f0_11eb_b706_0242ac1c0002row16_col6,#T_75728764_76f0_11eb_b706_0242ac1c0002row24_col12{\n",
              "            background-color:  #7da0f9;\n",
              "            color:  #000000;\n",
              "        }#T_75728764_76f0_11eb_b706_0242ac1c0002row1_col9,#T_75728764_76f0_11eb_b706_0242ac1c0002row20_col8,#T_75728764_76f0_11eb_b706_0242ac1c0002row25_col6{\n",
              "            background-color:  #97b8ff;\n",
              "            color:  #000000;\n",
              "        }#T_75728764_76f0_11eb_b706_0242ac1c0002row1_col13,#T_75728764_76f0_11eb_b706_0242ac1c0002row13_col12{\n",
              "            background-color:  #a7c5fe;\n",
              "            color:  #000000;\n",
              "        }#T_75728764_76f0_11eb_b706_0242ac1c0002row1_col14,#T_75728764_76f0_11eb_b706_0242ac1c0002row2_col12,#T_75728764_76f0_11eb_b706_0242ac1c0002row4_col3,#T_75728764_76f0_11eb_b706_0242ac1c0002row6_col5,#T_75728764_76f0_11eb_b706_0242ac1c0002row12_col14,#T_75728764_76f0_11eb_b706_0242ac1c0002row13_col18,#T_75728764_76f0_11eb_b706_0242ac1c0002row19_col15,#T_75728764_76f0_11eb_b706_0242ac1c0002row20_col6,#T_75728764_76f0_11eb_b706_0242ac1c0002row23_col14,#T_75728764_76f0_11eb_b706_0242ac1c0002row24_col6,#T_75728764_76f0_11eb_b706_0242ac1c0002row25_col3{\n",
              "            background-color:  #7ea1fa;\n",
              "            color:  #000000;\n",
              "        }#T_75728764_76f0_11eb_b706_0242ac1c0002row1_col16,#T_75728764_76f0_11eb_b706_0242ac1c0002row5_col7,#T_75728764_76f0_11eb_b706_0242ac1c0002row7_col6,#T_75728764_76f0_11eb_b706_0242ac1c0002row7_col25,#T_75728764_76f0_11eb_b706_0242ac1c0002row17_col0,#T_75728764_76f0_11eb_b706_0242ac1c0002row18_col1,#T_75728764_76f0_11eb_b706_0242ac1c0002row20_col0,#T_75728764_76f0_11eb_b706_0242ac1c0002row20_col3,#T_75728764_76f0_11eb_b706_0242ac1c0002row20_col16,#T_75728764_76f0_11eb_b706_0242ac1c0002row21_col17,#T_75728764_76f0_11eb_b706_0242ac1c0002row22_col23{\n",
              "            background-color:  #4a63d3;\n",
              "            color:  #f1f1f1;\n",
              "        }#T_75728764_76f0_11eb_b706_0242ac1c0002row1_col20,#T_75728764_76f0_11eb_b706_0242ac1c0002row3_col0,#T_75728764_76f0_11eb_b706_0242ac1c0002row6_col20,#T_75728764_76f0_11eb_b706_0242ac1c0002row10_col14,#T_75728764_76f0_11eb_b706_0242ac1c0002row11_col8,#T_75728764_76f0_11eb_b706_0242ac1c0002row11_col22,#T_75728764_76f0_11eb_b706_0242ac1c0002row14_col5,#T_75728764_76f0_11eb_b706_0242ac1c0002row15_col8,#T_75728764_76f0_11eb_b706_0242ac1c0002row17_col21,#T_75728764_76f0_11eb_b706_0242ac1c0002row23_col11,#T_75728764_76f0_11eb_b706_0242ac1c0002row23_col13{\n",
              "            background-color:  #536edd;\n",
              "            color:  #000000;\n",
              "        }#T_75728764_76f0_11eb_b706_0242ac1c0002row1_col21,#T_75728764_76f0_11eb_b706_0242ac1c0002row2_col20,#T_75728764_76f0_11eb_b706_0242ac1c0002row7_col14,#T_75728764_76f0_11eb_b706_0242ac1c0002row12_col4,#T_75728764_76f0_11eb_b706_0242ac1c0002row16_col15,#T_75728764_76f0_11eb_b706_0242ac1c0002row16_col21,#T_75728764_76f0_11eb_b706_0242ac1c0002row17_col12,#T_75728764_76f0_11eb_b706_0242ac1c0002row20_col15,#T_75728764_76f0_11eb_b706_0242ac1c0002row20_col21,#T_75728764_76f0_11eb_b706_0242ac1c0002row22_col10,#T_75728764_76f0_11eb_b706_0242ac1c0002row23_col1,#T_75728764_76f0_11eb_b706_0242ac1c0002row23_col19,#T_75728764_76f0_11eb_b706_0242ac1c0002row24_col17,#T_75728764_76f0_11eb_b706_0242ac1c0002row24_col22{\n",
              "            background-color:  #6180e9;\n",
              "            color:  #000000;\n",
              "        }#T_75728764_76f0_11eb_b706_0242ac1c0002row1_col22,#T_75728764_76f0_11eb_b706_0242ac1c0002row15_col2,#T_75728764_76f0_11eb_b706_0242ac1c0002row15_col18,#T_75728764_76f0_11eb_b706_0242ac1c0002row17_col10,#T_75728764_76f0_11eb_b706_0242ac1c0002row19_col2{\n",
              "            background-color:  #6e90f2;\n",
              "            color:  #000000;\n",
              "        }#T_75728764_76f0_11eb_b706_0242ac1c0002row1_col25,#T_75728764_76f0_11eb_b706_0242ac1c0002row5_col9,#T_75728764_76f0_11eb_b706_0242ac1c0002row12_col10{\n",
              "            background-color:  #d2dbe8;\n",
              "            color:  #000000;\n",
              "        }#T_75728764_76f0_11eb_b706_0242ac1c0002row2_col0,#T_75728764_76f0_11eb_b706_0242ac1c0002row2_col25,#T_75728764_76f0_11eb_b706_0242ac1c0002row4_col20,#T_75728764_76f0_11eb_b706_0242ac1c0002row4_col24,#T_75728764_76f0_11eb_b706_0242ac1c0002row6_col7,#T_75728764_76f0_11eb_b706_0242ac1c0002row6_col10,#T_75728764_76f0_11eb_b706_0242ac1c0002row6_col12,#T_75728764_76f0_11eb_b706_0242ac1c0002row6_col17,#T_75728764_76f0_11eb_b706_0242ac1c0002row6_col18,#T_75728764_76f0_11eb_b706_0242ac1c0002row6_col23,#T_75728764_76f0_11eb_b706_0242ac1c0002row7_col11,#T_75728764_76f0_11eb_b706_0242ac1c0002row9_col11,#T_75728764_76f0_11eb_b706_0242ac1c0002row9_col14,#T_75728764_76f0_11eb_b706_0242ac1c0002row9_col15,#T_75728764_76f0_11eb_b706_0242ac1c0002row9_col16,#T_75728764_76f0_11eb_b706_0242ac1c0002row9_col19,#T_75728764_76f0_11eb_b706_0242ac1c0002row9_col21,#T_75728764_76f0_11eb_b706_0242ac1c0002row9_col22,#T_75728764_76f0_11eb_b706_0242ac1c0002row10_col15,#T_75728764_76f0_11eb_b706_0242ac1c0002row12_col5,#T_75728764_76f0_11eb_b706_0242ac1c0002row14_col1,#T_75728764_76f0_11eb_b706_0242ac1c0002row14_col6,#T_75728764_76f0_11eb_b706_0242ac1c0002row14_col8,#T_75728764_76f0_11eb_b706_0242ac1c0002row14_col9,#T_75728764_76f0_11eb_b706_0242ac1c0002row14_col13,#T_75728764_76f0_11eb_b706_0242ac1c0002row15_col1,#T_75728764_76f0_11eb_b706_0242ac1c0002row15_col3,#T_75728764_76f0_11eb_b706_0242ac1c0002row19_col4,#T_75728764_76f0_11eb_b706_0242ac1c0002row25_col2{\n",
              "            background-color:  #3b4cc0;\n",
              "            color:  #f1f1f1;\n",
              "        }#T_75728764_76f0_11eb_b706_0242ac1c0002row2_col1,#T_75728764_76f0_11eb_b706_0242ac1c0002row7_col0,#T_75728764_76f0_11eb_b706_0242ac1c0002row7_col5,#T_75728764_76f0_11eb_b706_0242ac1c0002row8_col11,#T_75728764_76f0_11eb_b706_0242ac1c0002row12_col23,#T_75728764_76f0_11eb_b706_0242ac1c0002row15_col17,#T_75728764_76f0_11eb_b706_0242ac1c0002row17_col11,#T_75728764_76f0_11eb_b706_0242ac1c0002row18_col0,#T_75728764_76f0_11eb_b706_0242ac1c0002row18_col11,#T_75728764_76f0_11eb_b706_0242ac1c0002row20_col4,#T_75728764_76f0_11eb_b706_0242ac1c0002row21_col11{\n",
              "            background-color:  #4257c9;\n",
              "            color:  #f1f1f1;\n",
              "        }#T_75728764_76f0_11eb_b706_0242ac1c0002row2_col3,#T_75728764_76f0_11eb_b706_0242ac1c0002row6_col16,#T_75728764_76f0_11eb_b706_0242ac1c0002row6_col19,#T_75728764_76f0_11eb_b706_0242ac1c0002row7_col20,#T_75728764_76f0_11eb_b706_0242ac1c0002row11_col3,#T_75728764_76f0_11eb_b706_0242ac1c0002row12_col8,#T_75728764_76f0_11eb_b706_0242ac1c0002row17_col1,#T_75728764_76f0_11eb_b706_0242ac1c0002row18_col20,#T_75728764_76f0_11eb_b706_0242ac1c0002row21_col5,#T_75728764_76f0_11eb_b706_0242ac1c0002row21_col20{\n",
              "            background-color:  #4b64d5;\n",
              "            color:  #f1f1f1;\n",
              "        }#T_75728764_76f0_11eb_b706_0242ac1c0002row2_col4,#T_75728764_76f0_11eb_b706_0242ac1c0002row8_col23,#T_75728764_76f0_11eb_b706_0242ac1c0002row16_col0,#T_75728764_76f0_11eb_b706_0242ac1c0002row17_col15,#T_75728764_76f0_11eb_b706_0242ac1c0002row17_col23,#T_75728764_76f0_11eb_b706_0242ac1c0002row18_col5,#T_75728764_76f0_11eb_b706_0242ac1c0002row19_col11,#T_75728764_76f0_11eb_b706_0242ac1c0002row21_col23,#T_75728764_76f0_11eb_b706_0242ac1c0002row23_col16,#T_75728764_76f0_11eb_b706_0242ac1c0002row24_col0{\n",
              "            background-color:  #4961d2;\n",
              "            color:  #f1f1f1;\n",
              "        }#T_75728764_76f0_11eb_b706_0242ac1c0002row2_col5,#T_75728764_76f0_11eb_b706_0242ac1c0002row2_col14,#T_75728764_76f0_11eb_b706_0242ac1c0002row16_col9,#T_75728764_76f0_11eb_b706_0242ac1c0002row17_col25,#T_75728764_76f0_11eb_b706_0242ac1c0002row23_col9{\n",
              "            background-color:  #7a9df8;\n",
              "            color:  #000000;\n",
              "        }#T_75728764_76f0_11eb_b706_0242ac1c0002row2_col6,#T_75728764_76f0_11eb_b706_0242ac1c0002row20_col9{\n",
              "            background-color:  #a1c0ff;\n",
              "            color:  #000000;\n",
              "        }#T_75728764_76f0_11eb_b706_0242ac1c0002row2_col7,#T_75728764_76f0_11eb_b706_0242ac1c0002row2_col22,#T_75728764_76f0_11eb_b706_0242ac1c0002row18_col2,#T_75728764_76f0_11eb_b706_0242ac1c0002row18_col9,#T_75728764_76f0_11eb_b706_0242ac1c0002row23_col6,#T_75728764_76f0_11eb_b706_0242ac1c0002row24_col2,#T_75728764_76f0_11eb_b706_0242ac1c0002row24_col21{\n",
              "            background-color:  #6a8bef;\n",
              "            color:  #000000;\n",
              "        }#T_75728764_76f0_11eb_b706_0242ac1c0002row2_col9,#T_75728764_76f0_11eb_b706_0242ac1c0002row3_col12,#T_75728764_76f0_11eb_b706_0242ac1c0002row16_col12{\n",
              "            background-color:  #89acfd;\n",
              "            color:  #000000;\n",
              "        }#T_75728764_76f0_11eb_b706_0242ac1c0002row2_col10,#T_75728764_76f0_11eb_b706_0242ac1c0002row3_col8,#T_75728764_76f0_11eb_b706_0242ac1c0002row3_col18,#T_75728764_76f0_11eb_b706_0242ac1c0002row14_col12,#T_75728764_76f0_11eb_b706_0242ac1c0002row21_col13,#T_75728764_76f0_11eb_b706_0242ac1c0002row23_col2,#T_75728764_76f0_11eb_b706_0242ac1c0002row23_col12{\n",
              "            background-color:  #6f92f3;\n",
              "            color:  #000000;\n",
              "        }#T_75728764_76f0_11eb_b706_0242ac1c0002row2_col11,#T_75728764_76f0_11eb_b706_0242ac1c0002row5_col4,#T_75728764_76f0_11eb_b706_0242ac1c0002row9_col2,#T_75728764_76f0_11eb_b706_0242ac1c0002row15_col25,#T_75728764_76f0_11eb_b706_0242ac1c0002row18_col17,#T_75728764_76f0_11eb_b706_0242ac1c0002row24_col15{\n",
              "            background-color:  #6788ee;\n",
              "            color:  #000000;\n",
              "        }#T_75728764_76f0_11eb_b706_0242ac1c0002row2_col13,#T_75728764_76f0_11eb_b706_0242ac1c0002row3_col24,#T_75728764_76f0_11eb_b706_0242ac1c0002row4_col23,#T_75728764_76f0_11eb_b706_0242ac1c0002row7_col21,#T_75728764_76f0_11eb_b706_0242ac1c0002row13_col15,#T_75728764_76f0_11eb_b706_0242ac1c0002row16_col5,#T_75728764_76f0_11eb_b706_0242ac1c0002row19_col7,#T_75728764_76f0_11eb_b706_0242ac1c0002row21_col15,#T_75728764_76f0_11eb_b706_0242ac1c0002row22_col25,#T_75728764_76f0_11eb_b706_0242ac1c0002row23_col5,#T_75728764_76f0_11eb_b706_0242ac1c0002row25_col5{\n",
              "            background-color:  #5b7ae5;\n",
              "            color:  #000000;\n",
              "        }#T_75728764_76f0_11eb_b706_0242ac1c0002row2_col17,#T_75728764_76f0_11eb_b706_0242ac1c0002row5_col12,#T_75728764_76f0_11eb_b706_0242ac1c0002row6_col0,#T_75728764_76f0_11eb_b706_0242ac1c0002row11_col17,#T_75728764_76f0_11eb_b706_0242ac1c0002row11_col23,#T_75728764_76f0_11eb_b706_0242ac1c0002row13_col11,#T_75728764_76f0_11eb_b706_0242ac1c0002row13_col20,#T_75728764_76f0_11eb_b706_0242ac1c0002row16_col13,#T_75728764_76f0_11eb_b706_0242ac1c0002row24_col3,#T_75728764_76f0_11eb_b706_0242ac1c0002row25_col16{\n",
              "            background-color:  #4f69d9;\n",
              "            color:  #000000;\n",
              "        }#T_75728764_76f0_11eb_b706_0242ac1c0002row2_col19,#T_75728764_76f0_11eb_b706_0242ac1c0002row4_col17,#T_75728764_76f0_11eb_b706_0242ac1c0002row10_col2,#T_75728764_76f0_11eb_b706_0242ac1c0002row15_col9,#T_75728764_76f0_11eb_b706_0242ac1c0002row18_col8,#T_75728764_76f0_11eb_b706_0242ac1c0002row22_col4,#T_75728764_76f0_11eb_b706_0242ac1c0002row25_col24{\n",
              "            background-color:  #5f7fe8;\n",
              "            color:  #000000;\n",
              "        }#T_75728764_76f0_11eb_b706_0242ac1c0002row3_col1{\n",
              "            background-color:  #e7d7ce;\n",
              "            color:  #000000;\n",
              "        }#T_75728764_76f0_11eb_b706_0242ac1c0002row3_col2,#T_75728764_76f0_11eb_b706_0242ac1c0002row12_col2,#T_75728764_76f0_11eb_b706_0242ac1c0002row14_col19,#T_75728764_76f0_11eb_b706_0242ac1c0002row16_col25,#T_75728764_76f0_11eb_b706_0242ac1c0002row19_col9,#T_75728764_76f0_11eb_b706_0242ac1c0002row19_col13,#T_75728764_76f0_11eb_b706_0242ac1c0002row20_col10{\n",
              "            background-color:  #6b8df0;\n",
              "            color:  #000000;\n",
              "        }#T_75728764_76f0_11eb_b706_0242ac1c0002row3_col4,#T_75728764_76f0_11eb_b706_0242ac1c0002row6_col2,#T_75728764_76f0_11eb_b706_0242ac1c0002row6_col11,#T_75728764_76f0_11eb_b706_0242ac1c0002row11_col10,#T_75728764_76f0_11eb_b706_0242ac1c0002row14_col21{\n",
              "            background-color:  #8db0fe;\n",
              "            color:  #000000;\n",
              "        }#T_75728764_76f0_11eb_b706_0242ac1c0002row3_col7,#T_75728764_76f0_11eb_b706_0242ac1c0002row4_col12,#T_75728764_76f0_11eb_b706_0242ac1c0002row8_col6,#T_75728764_76f0_11eb_b706_0242ac1c0002row13_col21,#T_75728764_76f0_11eb_b706_0242ac1c0002row16_col10,#T_75728764_76f0_11eb_b706_0242ac1c0002row19_col12{\n",
              "            background-color:  #82a6fb;\n",
              "            color:  #000000;\n",
              "        }#T_75728764_76f0_11eb_b706_0242ac1c0002row3_col9,#T_75728764_76f0_11eb_b706_0242ac1c0002row13_col7,#T_75728764_76f0_11eb_b706_0242ac1c0002row25_col0{\n",
              "            background-color:  #96b7ff;\n",
              "            color:  #000000;\n",
              "        }#T_75728764_76f0_11eb_b706_0242ac1c0002row3_col10,#T_75728764_76f0_11eb_b706_0242ac1c0002row23_col25{\n",
              "            background-color:  #8fb1fe;\n",
              "            color:  #000000;\n",
              "        }#T_75728764_76f0_11eb_b706_0242ac1c0002row3_col13,#T_75728764_76f0_11eb_b706_0242ac1c0002row3_col14,#T_75728764_76f0_11eb_b706_0242ac1c0002row6_col25,#T_75728764_76f0_11eb_b706_0242ac1c0002row12_col13,#T_75728764_76f0_11eb_b706_0242ac1c0002row13_col22,#T_75728764_76f0_11eb_b706_0242ac1c0002row16_col14,#T_75728764_76f0_11eb_b706_0242ac1c0002row17_col8{\n",
              "            background-color:  #84a7fc;\n",
              "            color:  #000000;\n",
              "        }#T_75728764_76f0_11eb_b706_0242ac1c0002row3_col16,#T_75728764_76f0_11eb_b706_0242ac1c0002row5_col0,#T_75728764_76f0_11eb_b706_0242ac1c0002row6_col13,#T_75728764_76f0_11eb_b706_0242ac1c0002row6_col14,#T_75728764_76f0_11eb_b706_0242ac1c0002row7_col19,#T_75728764_76f0_11eb_b706_0242ac1c0002row15_col7,#T_75728764_76f0_11eb_b706_0242ac1c0002row15_col16,#T_75728764_76f0_11eb_b706_0242ac1c0002row18_col23,#T_75728764_76f0_11eb_b706_0242ac1c0002row21_col3{\n",
              "            background-color:  #465ecf;\n",
              "            color:  #f1f1f1;\n",
              "        }#T_75728764_76f0_11eb_b706_0242ac1c0002row3_col19,#T_75728764_76f0_11eb_b706_0242ac1c0002row5_col1,#T_75728764_76f0_11eb_b706_0242ac1c0002row5_col13,#T_75728764_76f0_11eb_b706_0242ac1c0002row6_col1,#T_75728764_76f0_11eb_b706_0242ac1c0002row11_col5,#T_75728764_76f0_11eb_b706_0242ac1c0002row11_col16,#T_75728764_76f0_11eb_b706_0242ac1c0002row11_col19,#T_75728764_76f0_11eb_b706_0242ac1c0002row17_col3,#T_75728764_76f0_11eb_b706_0242ac1c0002row17_col19,#T_75728764_76f0_11eb_b706_0242ac1c0002row19_col5,#T_75728764_76f0_11eb_b706_0242ac1c0002row23_col20,#T_75728764_76f0_11eb_b706_0242ac1c0002row24_col23,#T_75728764_76f0_11eb_b706_0242ac1c0002row25_col7,#T_75728764_76f0_11eb_b706_0242ac1c0002row25_col22{\n",
              "            background-color:  #516ddb;\n",
              "            color:  #000000;\n",
              "        }#T_75728764_76f0_11eb_b706_0242ac1c0002row3_col21,#T_75728764_76f0_11eb_b706_0242ac1c0002row4_col25,#T_75728764_76f0_11eb_b706_0242ac1c0002row7_col4,#T_75728764_76f0_11eb_b706_0242ac1c0002row7_col8,#T_75728764_76f0_11eb_b706_0242ac1c0002row13_col8,#T_75728764_76f0_11eb_b706_0242ac1c0002row22_col9,#T_75728764_76f0_11eb_b706_0242ac1c0002row23_col4{\n",
              "            background-color:  #6687ed;\n",
              "            color:  #000000;\n",
              "        }#T_75728764_76f0_11eb_b706_0242ac1c0002row3_col23,#T_75728764_76f0_11eb_b706_0242ac1c0002row5_col25,#T_75728764_76f0_11eb_b706_0242ac1c0002row7_col3,#T_75728764_76f0_11eb_b706_0242ac1c0002row7_col22,#T_75728764_76f0_11eb_b706_0242ac1c0002row8_col18,#T_75728764_76f0_11eb_b706_0242ac1c0002row10_col18,#T_75728764_76f0_11eb_b706_0242ac1c0002row15_col21,#T_75728764_76f0_11eb_b706_0242ac1c0002row16_col8,#T_75728764_76f0_11eb_b706_0242ac1c0002row18_col4,#T_75728764_76f0_11eb_b706_0242ac1c0002row22_col6,#T_75728764_76f0_11eb_b706_0242ac1c0002row23_col8,#T_75728764_76f0_11eb_b706_0242ac1c0002row24_col19,#T_75728764_76f0_11eb_b706_0242ac1c0002row25_col8,#T_75728764_76f0_11eb_b706_0242ac1c0002row25_col20{\n",
              "            background-color:  #5d7ce6;\n",
              "            color:  #000000;\n",
              "        }#T_75728764_76f0_11eb_b706_0242ac1c0002row3_col25{\n",
              "            background-color:  #9bbcff;\n",
              "            color:  #000000;\n",
              "        }#T_75728764_76f0_11eb_b706_0242ac1c0002row4_col0,#T_75728764_76f0_11eb_b706_0242ac1c0002row5_col18,#T_75728764_76f0_11eb_b706_0242ac1c0002row5_col23,#T_75728764_76f0_11eb_b706_0242ac1c0002row6_col21,#T_75728764_76f0_11eb_b706_0242ac1c0002row12_col15,#T_75728764_76f0_11eb_b706_0242ac1c0002row14_col3,#T_75728764_76f0_11eb_b706_0242ac1c0002row14_col23,#T_75728764_76f0_11eb_b706_0242ac1c0002row15_col0,#T_75728764_76f0_11eb_b706_0242ac1c0002row15_col23{\n",
              "            background-color:  #4358cb;\n",
              "            color:  #f1f1f1;\n",
              "        }#T_75728764_76f0_11eb_b706_0242ac1c0002row4_col1,#T_75728764_76f0_11eb_b706_0242ac1c0002row13_col1,#T_75728764_76f0_11eb_b706_0242ac1c0002row15_col6{\n",
              "            background-color:  #9ebeff;\n",
              "            color:  #000000;\n",
              "        }#T_75728764_76f0_11eb_b706_0242ac1c0002row4_col7,#T_75728764_76f0_11eb_b706_0242ac1c0002row5_col2,#T_75728764_76f0_11eb_b706_0242ac1c0002row7_col13,#T_75728764_76f0_11eb_b706_0242ac1c0002row10_col13,#T_75728764_76f0_11eb_b706_0242ac1c0002row14_col22{\n",
              "            background-color:  #7b9ff9;\n",
              "            color:  #000000;\n",
              "        }#T_75728764_76f0_11eb_b706_0242ac1c0002row4_col9,#T_75728764_76f0_11eb_b706_0242ac1c0002row22_col14{\n",
              "            background-color:  #a3c2fe;\n",
              "            color:  #000000;\n",
              "        }#T_75728764_76f0_11eb_b706_0242ac1c0002row4_col10,#T_75728764_76f0_11eb_b706_0242ac1c0002row5_col10,#T_75728764_76f0_11eb_b706_0242ac1c0002row20_col5{\n",
              "            background-color:  #94b6ff;\n",
              "            color:  #000000;\n",
              "        }#T_75728764_76f0_11eb_b706_0242ac1c0002row4_col11,#T_75728764_76f0_11eb_b706_0242ac1c0002row7_col16,#T_75728764_76f0_11eb_b706_0242ac1c0002row8_col0,#T_75728764_76f0_11eb_b706_0242ac1c0002row8_col16,#T_75728764_76f0_11eb_b706_0242ac1c0002row9_col0,#T_75728764_76f0_11eb_b706_0242ac1c0002row10_col20,#T_75728764_76f0_11eb_b706_0242ac1c0002row11_col1,#T_75728764_76f0_11eb_b706_0242ac1c0002row13_col0,#T_75728764_76f0_11eb_b706_0242ac1c0002row14_col7,#T_75728764_76f0_11eb_b706_0242ac1c0002row14_col16,#T_75728764_76f0_11eb_b706_0242ac1c0002row16_col1,#T_75728764_76f0_11eb_b706_0242ac1c0002row22_col11,#T_75728764_76f0_11eb_b706_0242ac1c0002row22_col16{\n",
              "            background-color:  #455cce;\n",
              "            color:  #f1f1f1;\n",
              "        }#T_75728764_76f0_11eb_b706_0242ac1c0002row4_col13,#T_75728764_76f0_11eb_b706_0242ac1c0002row10_col4,#T_75728764_76f0_11eb_b706_0242ac1c0002row11_col14,#T_75728764_76f0_11eb_b706_0242ac1c0002row20_col2,#T_75728764_76f0_11eb_b706_0242ac1c0002row20_col14,#T_75728764_76f0_11eb_b706_0242ac1c0002row25_col23{\n",
              "            background-color:  #779af7;\n",
              "            color:  #000000;\n",
              "        }#T_75728764_76f0_11eb_b706_0242ac1c0002row4_col14,#T_75728764_76f0_11eb_b706_0242ac1c0002row5_col6,#T_75728764_76f0_11eb_b706_0242ac1c0002row9_col7,#T_75728764_76f0_11eb_b706_0242ac1c0002row9_col17{\n",
              "            background-color:  #93b5fe;\n",
              "            color:  #000000;\n",
              "        }#T_75728764_76f0_11eb_b706_0242ac1c0002row4_col16,#T_75728764_76f0_11eb_b706_0242ac1c0002row5_col16,#T_75728764_76f0_11eb_b706_0242ac1c0002row9_col18,#T_75728764_76f0_11eb_b706_0242ac1c0002row14_col0,#T_75728764_76f0_11eb_b706_0242ac1c0002row14_col10,#T_75728764_76f0_11eb_b706_0242ac1c0002row18_col16,#T_75728764_76f0_11eb_b706_0242ac1c0002row19_col3,#T_75728764_76f0_11eb_b706_0242ac1c0002row21_col0{\n",
              "            background-color:  #3f53c6;\n",
              "            color:  #f1f1f1;\n",
              "        }#T_75728764_76f0_11eb_b706_0242ac1c0002row4_col19,#T_75728764_76f0_11eb_b706_0242ac1c0002row5_col11,#T_75728764_76f0_11eb_b706_0242ac1c0002row10_col19,#T_75728764_76f0_11eb_b706_0242ac1c0002row19_col1{\n",
              "            background-color:  #3c4ec2;\n",
              "            color:  #f1f1f1;\n",
              "        }#T_75728764_76f0_11eb_b706_0242ac1c0002row5_col8{\n",
              "            background-color:  #8caffe;\n",
              "            color:  #000000;\n",
              "        }#T_75728764_76f0_11eb_b706_0242ac1c0002row5_col15,#T_75728764_76f0_11eb_b706_0242ac1c0002row7_col15,#T_75728764_76f0_11eb_b706_0242ac1c0002row9_col23,#T_75728764_76f0_11eb_b706_0242ac1c0002row10_col23,#T_75728764_76f0_11eb_b706_0242ac1c0002row12_col0,#T_75728764_76f0_11eb_b706_0242ac1c0002row14_col11,#T_75728764_76f0_11eb_b706_0242ac1c0002row14_col20,#T_75728764_76f0_11eb_b706_0242ac1c0002row15_col5,#T_75728764_76f0_11eb_b706_0242ac1c0002row24_col4{\n",
              "            background-color:  #3e51c5;\n",
              "            color:  #f1f1f1;\n",
              "        }#T_75728764_76f0_11eb_b706_0242ac1c0002row5_col19,#T_75728764_76f0_11eb_b706_0242ac1c0002row7_col23,#T_75728764_76f0_11eb_b706_0242ac1c0002row10_col21,#T_75728764_76f0_11eb_b706_0242ac1c0002row12_col17,#T_75728764_76f0_11eb_b706_0242ac1c0002row14_col17,#T_75728764_76f0_11eb_b706_0242ac1c0002row16_col3,#T_75728764_76f0_11eb_b706_0242ac1c0002row17_col16,#T_75728764_76f0_11eb_b706_0242ac1c0002row19_col0,#T_75728764_76f0_11eb_b706_0242ac1c0002row21_col16{\n",
              "            background-color:  #445acc;\n",
              "            color:  #f1f1f1;\n",
              "        }#T_75728764_76f0_11eb_b706_0242ac1c0002row5_col20,#T_75728764_76f0_11eb_b706_0242ac1c0002row18_col19{\n",
              "            background-color:  #81a4fb;\n",
              "            color:  #000000;\n",
              "        }#T_75728764_76f0_11eb_b706_0242ac1c0002row5_col21,#T_75728764_76f0_11eb_b706_0242ac1c0002row5_col22,#T_75728764_76f0_11eb_b706_0242ac1c0002row8_col19,#T_75728764_76f0_11eb_b706_0242ac1c0002row11_col4,#T_75728764_76f0_11eb_b706_0242ac1c0002row11_col20,#T_75728764_76f0_11eb_b706_0242ac1c0002row15_col10,#T_75728764_76f0_11eb_b706_0242ac1c0002row15_col20,#T_75728764_76f0_11eb_b706_0242ac1c0002row16_col4,#T_75728764_76f0_11eb_b706_0242ac1c0002row16_col23,#T_75728764_76f0_11eb_b706_0242ac1c0002row17_col20,#T_75728764_76f0_11eb_b706_0242ac1c0002row20_col11,#T_75728764_76f0_11eb_b706_0242ac1c0002row25_col11{\n",
              "            background-color:  #4c66d6;\n",
              "            color:  #000000;\n",
              "        }#T_75728764_76f0_11eb_b706_0242ac1c0002row6_col3,#T_75728764_76f0_11eb_b706_0242ac1c0002row10_col22,#T_75728764_76f0_11eb_b706_0242ac1c0002row11_col0,#T_75728764_76f0_11eb_b706_0242ac1c0002row12_col1,#T_75728764_76f0_11eb_b706_0242ac1c0002row12_col11,#T_75728764_76f0_11eb_b706_0242ac1c0002row12_col20,#T_75728764_76f0_11eb_b706_0242ac1c0002row13_col16,#T_75728764_76f0_11eb_b706_0242ac1c0002row15_col13,#T_75728764_76f0_11eb_b706_0242ac1c0002row19_col16,#T_75728764_76f0_11eb_b706_0242ac1c0002row20_col1,#T_75728764_76f0_11eb_b706_0242ac1c0002row25_col13{\n",
              "            background-color:  #485fd1;\n",
              "            color:  #f1f1f1;\n",
              "        }#T_75728764_76f0_11eb_b706_0242ac1c0002row6_col9,#T_75728764_76f0_11eb_b706_0242ac1c0002row7_col17,#T_75728764_76f0_11eb_b706_0242ac1c0002row13_col3,#T_75728764_76f0_11eb_b706_0242ac1c0002row14_col18,#T_75728764_76f0_11eb_b706_0242ac1c0002row22_col13,#T_75728764_76f0_11eb_b706_0242ac1c0002row24_col10,#T_75728764_76f0_11eb_b706_0242ac1c0002row25_col9{\n",
              "            background-color:  #799cf8;\n",
              "            color:  #000000;\n",
              "        }#T_75728764_76f0_11eb_b706_0242ac1c0002row6_col22,#T_75728764_76f0_11eb_b706_0242ac1c0002row12_col6{\n",
              "            background-color:  #3d50c3;\n",
              "            color:  #f1f1f1;\n",
              "        }#T_75728764_76f0_11eb_b706_0242ac1c0002row7_col9,#T_75728764_76f0_11eb_b706_0242ac1c0002row18_col22{\n",
              "            background-color:  #aac7fd;\n",
              "            color:  #000000;\n",
              "        }#T_75728764_76f0_11eb_b706_0242ac1c0002row7_col10{\n",
              "            background-color:  #cbd8ee;\n",
              "            color:  #000000;\n",
              "        }#T_75728764_76f0_11eb_b706_0242ac1c0002row7_col12,#T_75728764_76f0_11eb_b706_0242ac1c0002row9_col5,#T_75728764_76f0_11eb_b706_0242ac1c0002row22_col12{\n",
              "            background-color:  #bcd2f7;\n",
              "            color:  #000000;\n",
              "        }#T_75728764_76f0_11eb_b706_0242ac1c0002row8_col5{\n",
              "            background-color:  #90b2fe;\n",
              "            color:  #000000;\n",
              "        }#T_75728764_76f0_11eb_b706_0242ac1c0002row8_col7,#T_75728764_76f0_11eb_b706_0242ac1c0002row11_col12,#T_75728764_76f0_11eb_b706_0242ac1c0002row13_col6,#T_75728764_76f0_11eb_b706_0242ac1c0002row13_col14,#T_75728764_76f0_11eb_b706_0242ac1c0002row13_col19,#T_75728764_76f0_11eb_b706_0242ac1c0002row15_col19,#T_75728764_76f0_11eb_b706_0242ac1c0002row20_col12,#T_75728764_76f0_11eb_b706_0242ac1c0002row24_col25{\n",
              "            background-color:  #7295f4;\n",
              "            color:  #000000;\n",
              "        }#T_75728764_76f0_11eb_b706_0242ac1c0002row8_col9{\n",
              "            background-color:  #d3dbe7;\n",
              "            color:  #000000;\n",
              "        }#T_75728764_76f0_11eb_b706_0242ac1c0002row8_col17,#T_75728764_76f0_11eb_b706_0242ac1c0002row12_col9{\n",
              "            background-color:  #80a3fa;\n",
              "            color:  #000000;\n",
              "        }#T_75728764_76f0_11eb_b706_0242ac1c0002row9_col8,#T_75728764_76f0_11eb_b706_0242ac1c0002row15_col14,#T_75728764_76f0_11eb_b706_0242ac1c0002row21_col12{\n",
              "            background-color:  #bbd1f8;\n",
              "            color:  #000000;\n",
              "        }#T_75728764_76f0_11eb_b706_0242ac1c0002row9_col10,#T_75728764_76f0_11eb_b706_0242ac1c0002row18_col21{\n",
              "            background-color:  #c3d5f4;\n",
              "            color:  #000000;\n",
              "        }#T_75728764_76f0_11eb_b706_0242ac1c0002row10_col0,#T_75728764_76f0_11eb_b706_0242ac1c0002row10_col6,#T_75728764_76f0_11eb_b706_0242ac1c0002row10_col25,#T_75728764_76f0_11eb_b706_0242ac1c0002row12_col25,#T_75728764_76f0_11eb_b706_0242ac1c0002row21_col1,#T_75728764_76f0_11eb_b706_0242ac1c0002row22_col0{\n",
              "            background-color:  #4055c8;\n",
              "            color:  #f1f1f1;\n",
              "        }#T_75728764_76f0_11eb_b706_0242ac1c0002row10_col7{\n",
              "            background-color:  #c5d6f2;\n",
              "            color:  #000000;\n",
              "        }#T_75728764_76f0_11eb_b706_0242ac1c0002row10_col9{\n",
              "            background-color:  #cedaeb;\n",
              "            color:  #000000;\n",
              "        }#T_75728764_76f0_11eb_b706_0242ac1c0002row10_col12{\n",
              "            background-color:  #d4dbe6;\n",
              "            color:  #000000;\n",
              "        }#T_75728764_76f0_11eb_b706_0242ac1c0002row11_col6{\n",
              "            background-color:  #b2ccfb;\n",
              "            color:  #000000;\n",
              "        }#T_75728764_76f0_11eb_b706_0242ac1c0002row11_col9,#T_75728764_76f0_11eb_b706_0242ac1c0002row18_col15,#T_75728764_76f0_11eb_b706_0242ac1c0002row20_col25,#T_75728764_76f0_11eb_b706_0242ac1c0002row22_col2{\n",
              "            background-color:  #7396f5;\n",
              "            color:  #000000;\n",
              "        }#T_75728764_76f0_11eb_b706_0242ac1c0002row12_col18,#T_75728764_76f0_11eb_b706_0242ac1c0002row12_col21{\n",
              "            background-color:  #adc9fd;\n",
              "            color:  #000000;\n",
              "        }#T_75728764_76f0_11eb_b706_0242ac1c0002row12_col22{\n",
              "            background-color:  #a6c4fe;\n",
              "            color:  #000000;\n",
              "        }#T_75728764_76f0_11eb_b706_0242ac1c0002row13_col10{\n",
              "            background-color:  #9dbdff;\n",
              "            color:  #000000;\n",
              "        }#T_75728764_76f0_11eb_b706_0242ac1c0002row13_col23,#T_75728764_76f0_11eb_b706_0242ac1c0002row17_col13,#T_75728764_76f0_11eb_b706_0242ac1c0002row19_col20,#T_75728764_76f0_11eb_b706_0242ac1c0002row20_col23,#T_75728764_76f0_11eb_b706_0242ac1c0002row22_col20,#T_75728764_76f0_11eb_b706_0242ac1c0002row23_col0,#T_75728764_76f0_11eb_b706_0242ac1c0002row24_col16,#T_75728764_76f0_11eb_b706_0242ac1c0002row25_col18{\n",
              "            background-color:  #4e68d8;\n",
              "            color:  #000000;\n",
              "        }#T_75728764_76f0_11eb_b706_0242ac1c0002row14_col15,#T_75728764_76f0_11eb_b706_0242ac1c0002row18_col14{\n",
              "            background-color:  #9fbfff;\n",
              "            color:  #000000;\n",
              "        }#T_75728764_76f0_11eb_b706_0242ac1c0002row17_col9{\n",
              "            background-color:  #b7cff9;\n",
              "            color:  #000000;\n",
              "        }#T_75728764_76f0_11eb_b706_0242ac1c0002row18_col12,#T_75728764_76f0_11eb_b706_0242ac1c0002row21_col19{\n",
              "            background-color:  #c0d4f5;\n",
              "            color:  #000000;\n",
              "        }#T_75728764_76f0_11eb_b706_0242ac1c0002row19_col14{\n",
              "            background-color:  #9abbff;\n",
              "            color:  #000000;\n",
              "        }#T_75728764_76f0_11eb_b706_0242ac1c0002row19_col18{\n",
              "            background-color:  #86a9fc;\n",
              "            color:  #000000;\n",
              "        }#T_75728764_76f0_11eb_b706_0242ac1c0002row19_col21{\n",
              "            background-color:  #c9d7f0;\n",
              "            color:  #000000;\n",
              "        }#T_75728764_76f0_11eb_b706_0242ac1c0002row19_col22{\n",
              "            background-color:  #c4d5f3;\n",
              "            color:  #000000;\n",
              "        }#T_75728764_76f0_11eb_b706_0242ac1c0002row21_col18,#T_75728764_76f0_11eb_b706_0242ac1c0002row25_col1{\n",
              "            background-color:  #bed2f6;\n",
              "            color:  #000000;\n",
              "        }#T_75728764_76f0_11eb_b706_0242ac1c0002row21_col22{\n",
              "            background-color:  #f7b093;\n",
              "            color:  #000000;\n",
              "        }#T_75728764_76f0_11eb_b706_0242ac1c0002row22_col19{\n",
              "            background-color:  #c1d4f4;\n",
              "            color:  #000000;\n",
              "        }#T_75728764_76f0_11eb_b706_0242ac1c0002row22_col21{\n",
              "            background-color:  #f7ad90;\n",
              "            color:  #000000;\n",
              "        }</style><table id=\"T_75728764_76f0_11eb_b706_0242ac1c0002\" ><thead>    <tr>        <th class=\"blank level0\" ></th>        <th class=\"col_heading level0 col0\" >userId</th>        <th class=\"col_heading level0 col1\" >movieId</th>        <th class=\"col_heading level0 col2\" >rating</th>        <th class=\"col_heading level0 col3\" >timestamp</th>        <th class=\"col_heading level0 col4\" >year</th>        <th class=\"col_heading level0 col5\" >Crime</th>        <th class=\"col_heading level0 col6\" >Drama</th>        <th class=\"col_heading level0 col7\" >Sci-Fi</th>        <th class=\"col_heading level0 col8\" >Mystery</th>        <th class=\"col_heading level0 col9\" >Thriller</th>        <th class=\"col_heading level0 col10\" >Action</th>        <th class=\"col_heading level0 col11\" >War</th>        <th class=\"col_heading level0 col12\" >Adventure</th>        <th class=\"col_heading level0 col13\" >IMAX</th>        <th class=\"col_heading level0 col14\" >Comedy</th>        <th class=\"col_heading level0 col15\" >Romance</th>        <th class=\"col_heading level0 col16\" >Western</th>        <th class=\"col_heading level0 col17\" >Horror</th>        <th class=\"col_heading level0 col18\" >Fantasy</th>        <th class=\"col_heading level0 col19\" >Musical</th>        <th class=\"col_heading level0 col20\" >Film-Noir</th>        <th class=\"col_heading level0 col21\" >Children</th>        <th class=\"col_heading level0 col22\" >Animation</th>        <th class=\"col_heading level0 col23\" >Documentary</th>        <th class=\"col_heading level0 col24\" >(no genres listed)</th>        <th class=\"col_heading level0 col25\" >titles_ints</th>    </tr></thead><tbody>\n",
              "                <tr>\n",
              "                        <th id=\"T_75728764_76f0_11eb_b706_0242ac1c0002level0_row0\" class=\"row_heading level0 row0\" >userId</th>\n",
              "                        <td id=\"T_75728764_76f0_11eb_b706_0242ac1c0002row0_col0\" class=\"data row0 col0\" >1.000000</td>\n",
              "                        <td id=\"T_75728764_76f0_11eb_b706_0242ac1c0002row0_col1\" class=\"data row0 col1\" >0.089403</td>\n",
              "                        <td id=\"T_75728764_76f0_11eb_b706_0242ac1c0002row0_col2\" class=\"data row0 col2\" >-0.044781</td>\n",
              "                        <td id=\"T_75728764_76f0_11eb_b706_0242ac1c0002row0_col3\" class=\"data row0 col3\" >0.039862</td>\n",
              "                        <td id=\"T_75728764_76f0_11eb_b706_0242ac1c0002row0_col4\" class=\"data row0 col4\" >-0.014982</td>\n",
              "                        <td id=\"T_75728764_76f0_11eb_b706_0242ac1c0002row0_col5\" class=\"data row0 col5\" >-0.002273</td>\n",
              "                        <td id=\"T_75728764_76f0_11eb_b706_0242ac1c0002row0_col6\" class=\"data row0 col6\" >0.028252</td>\n",
              "                        <td id=\"T_75728764_76f0_11eb_b706_0242ac1c0002row0_col7\" class=\"data row0 col7\" >-0.018739</td>\n",
              "                        <td id=\"T_75728764_76f0_11eb_b706_0242ac1c0002row0_col8\" class=\"data row0 col8\" >-0.004415</td>\n",
              "                        <td id=\"T_75728764_76f0_11eb_b706_0242ac1c0002row0_col9\" class=\"data row0 col9\" >-0.005088</td>\n",
              "                        <td id=\"T_75728764_76f0_11eb_b706_0242ac1c0002row0_col10\" class=\"data row0 col10\" >-0.021835</td>\n",
              "                        <td id=\"T_75728764_76f0_11eb_b706_0242ac1c0002row0_col11\" class=\"data row0 col11\" >0.003415</td>\n",
              "                        <td id=\"T_75728764_76f0_11eb_b706_0242ac1c0002row0_col12\" class=\"data row0 col12\" >-0.029910</td>\n",
              "                        <td id=\"T_75728764_76f0_11eb_b706_0242ac1c0002row0_col13\" class=\"data row0 col13\" >-0.005292</td>\n",
              "                        <td id=\"T_75728764_76f0_11eb_b706_0242ac1c0002row0_col14\" class=\"data row0 col14\" >-0.025842</td>\n",
              "                        <td id=\"T_75728764_76f0_11eb_b706_0242ac1c0002row0_col15\" class=\"data row0 col15\" >-0.013646</td>\n",
              "                        <td id=\"T_75728764_76f0_11eb_b706_0242ac1c0002row0_col16\" class=\"data row0 col16\" >0.008007</td>\n",
              "                        <td id=\"T_75728764_76f0_11eb_b706_0242ac1c0002row0_col17\" class=\"data row0 col17\" >0.010927</td>\n",
              "                        <td id=\"T_75728764_76f0_11eb_b706_0242ac1c0002row0_col18\" class=\"data row0 col18\" >-0.017500</td>\n",
              "                        <td id=\"T_75728764_76f0_11eb_b706_0242ac1c0002row0_col19\" class=\"data row0 col19\" >-0.010619</td>\n",
              "                        <td id=\"T_75728764_76f0_11eb_b706_0242ac1c0002row0_col20\" class=\"data row0 col20\" >0.012279</td>\n",
              "                        <td id=\"T_75728764_76f0_11eb_b706_0242ac1c0002row0_col21\" class=\"data row0 col21\" >-0.026222</td>\n",
              "                        <td id=\"T_75728764_76f0_11eb_b706_0242ac1c0002row0_col22\" class=\"data row0 col22\" >-0.022978</td>\n",
              "                        <td id=\"T_75728764_76f0_11eb_b706_0242ac1c0002row0_col23\" class=\"data row0 col23\" >0.020749</td>\n",
              "                        <td id=\"T_75728764_76f0_11eb_b706_0242ac1c0002row0_col24\" class=\"data row0 col24\" >0.006124</td>\n",
              "                        <td id=\"T_75728764_76f0_11eb_b706_0242ac1c0002row0_col25\" class=\"data row0 col25\" >0.243897</td>\n",
              "            </tr>\n",
              "            <tr>\n",
              "                        <th id=\"T_75728764_76f0_11eb_b706_0242ac1c0002level0_row1\" class=\"row_heading level0 row1\" >movieId</th>\n",
              "                        <td id=\"T_75728764_76f0_11eb_b706_0242ac1c0002row1_col0\" class=\"data row1 col0\" >0.089403</td>\n",
              "                        <td id=\"T_75728764_76f0_11eb_b706_0242ac1c0002row1_col1\" class=\"data row1 col1\" >1.000000</td>\n",
              "                        <td id=\"T_75728764_76f0_11eb_b706_0242ac1c0002row1_col2\" class=\"data row1 col2\" >-0.025446</td>\n",
              "                        <td id=\"T_75728764_76f0_11eb_b706_0242ac1c0002row1_col3\" class=\"data row1 col3\" >0.518283</td>\n",
              "                        <td id=\"T_75728764_76f0_11eb_b706_0242ac1c0002row1_col4\" class=\"data row1 col4\" >0.260610</td>\n",
              "                        <td id=\"T_75728764_76f0_11eb_b706_0242ac1c0002row1_col5\" class=\"data row1 col5\" >0.025788</td>\n",
              "                        <td id=\"T_75728764_76f0_11eb_b706_0242ac1c0002row1_col6\" class=\"data row1 col6\" >0.027923</td>\n",
              "                        <td id=\"T_75728764_76f0_11eb_b706_0242ac1c0002row1_col7\" class=\"data row1 col7\" >0.039558</td>\n",
              "                        <td id=\"T_75728764_76f0_11eb_b706_0242ac1c0002row1_col8\" class=\"data row1 col8\" >0.023000</td>\n",
              "                        <td id=\"T_75728764_76f0_11eb_b706_0242ac1c0002row1_col9\" class=\"data row1 col9\" >0.042046</td>\n",
              "                        <td id=\"T_75728764_76f0_11eb_b706_0242ac1c0002row1_col10\" class=\"data row1 col10\" >0.049653</td>\n",
              "                        <td id=\"T_75728764_76f0_11eb_b706_0242ac1c0002row1_col11\" class=\"data row1 col11\" >-0.013511</td>\n",
              "                        <td id=\"T_75728764_76f0_11eb_b706_0242ac1c0002row1_col12\" class=\"data row1 col12\" >-0.005197</td>\n",
              "                        <td id=\"T_75728764_76f0_11eb_b706_0242ac1c0002row1_col13\" class=\"data row1 col13\" >0.259789</td>\n",
              "                        <td id=\"T_75728764_76f0_11eb_b706_0242ac1c0002row1_col14\" class=\"data row1 col14\" >-0.052097</td>\n",
              "                        <td id=\"T_75728764_76f0_11eb_b706_0242ac1c0002row1_col15\" class=\"data row1 col15\" >-0.053601</td>\n",
              "                        <td id=\"T_75728764_76f0_11eb_b706_0242ac1c0002row1_col16\" class=\"data row1 col16\" >-0.015805</td>\n",
              "                        <td id=\"T_75728764_76f0_11eb_b706_0242ac1c0002row1_col17\" class=\"data row1 col17\" >0.005653</td>\n",
              "                        <td id=\"T_75728764_76f0_11eb_b706_0242ac1c0002row1_col18\" class=\"data row1 col18\" >0.003847</td>\n",
              "                        <td id=\"T_75728764_76f0_11eb_b706_0242ac1c0002row1_col19\" class=\"data row1 col19\" >-0.045632</td>\n",
              "                        <td id=\"T_75728764_76f0_11eb_b706_0242ac1c0002row1_col20\" class=\"data row1 col20\" >-0.005302</td>\n",
              "                        <td id=\"T_75728764_76f0_11eb_b706_0242ac1c0002row1_col21\" class=\"data row1 col21\" >-0.032324</td>\n",
              "                        <td id=\"T_75728764_76f0_11eb_b706_0242ac1c0002row1_col22\" class=\"data row1 col22\" >0.039959</td>\n",
              "                        <td id=\"T_75728764_76f0_11eb_b706_0242ac1c0002row1_col23\" class=\"data row1 col23\" >0.075798</td>\n",
              "                        <td id=\"T_75728764_76f0_11eb_b706_0242ac1c0002row1_col24\" class=\"data row1 col24\" >0.039320</td>\n",
              "                        <td id=\"T_75728764_76f0_11eb_b706_0242ac1c0002row1_col25\" class=\"data row1 col25\" >0.360675</td>\n",
              "            </tr>\n",
              "            <tr>\n",
              "                        <th id=\"T_75728764_76f0_11eb_b706_0242ac1c0002level0_row2\" class=\"row_heading level0 row2\" >rating</th>\n",
              "                        <td id=\"T_75728764_76f0_11eb_b706_0242ac1c0002row2_col0\" class=\"data row2 col0\" >-0.044781</td>\n",
              "                        <td id=\"T_75728764_76f0_11eb_b706_0242ac1c0002row2_col1\" class=\"data row2 col1\" >-0.025446</td>\n",
              "                        <td id=\"T_75728764_76f0_11eb_b706_0242ac1c0002row2_col2\" class=\"data row2 col2\" >1.000000</td>\n",
              "                        <td id=\"T_75728764_76f0_11eb_b706_0242ac1c0002row2_col3\" class=\"data row2 col3\" >0.002697</td>\n",
              "                        <td id=\"T_75728764_76f0_11eb_b706_0242ac1c0002row2_col4\" class=\"data row2 col4\" >-0.066076</td>\n",
              "                        <td id=\"T_75728764_76f0_11eb_b706_0242ac1c0002row2_col5\" class=\"data row2 col5\" >0.055077</td>\n",
              "                        <td id=\"T_75728764_76f0_11eb_b706_0242ac1c0002row2_col6\" class=\"data row2 col6\" >0.114520</td>\n",
              "                        <td id=\"T_75728764_76f0_11eb_b706_0242ac1c0002row2_col7\" class=\"data row2 col7\" >-0.025997</td>\n",
              "                        <td id=\"T_75728764_76f0_11eb_b706_0242ac1c0002row2_col8\" class=\"data row2 col8\" >0.037890</td>\n",
              "                        <td id=\"T_75728764_76f0_11eb_b706_0242ac1c0002row2_col9\" class=\"data row2 col9\" >-0.012644</td>\n",
              "                        <td id=\"T_75728764_76f0_11eb_b706_0242ac1c0002row2_col10\" class=\"data row2 col10\" >-0.040609</td>\n",
              "                        <td id=\"T_75728764_76f0_11eb_b706_0242ac1c0002row2_col11\" class=\"data row2 col11\" >0.061690</td>\n",
              "                        <td id=\"T_75728764_76f0_11eb_b706_0242ac1c0002row2_col12\" class=\"data row2 col12\" >0.000597</td>\n",
              "                        <td id=\"T_75728764_76f0_11eb_b706_0242ac1c0002row2_col13\" class=\"data row2 col13\" >0.020590</td>\n",
              "                        <td id=\"T_75728764_76f0_11eb_b706_0242ac1c0002row2_col14\" class=\"data row2 col14\" >-0.068992</td>\n",
              "                        <td id=\"T_75728764_76f0_11eb_b706_0242ac1c0002row2_col15\" class=\"data row2 col15\" >0.012341</td>\n",
              "                        <td id=\"T_75728764_76f0_11eb_b706_0242ac1c0002row2_col16\" class=\"data row2 col16\" >0.007005</td>\n",
              "                        <td id=\"T_75728764_76f0_11eb_b706_0242ac1c0002row2_col17\" class=\"data row2 col17\" >-0.064610</td>\n",
              "                        <td id=\"T_75728764_76f0_11eb_b706_0242ac1c0002row2_col18\" class=\"data row2 col18\" >-0.005327</td>\n",
              "                        <td id=\"T_75728764_76f0_11eb_b706_0242ac1c0002row2_col19\" class=\"data row2 col19\" >0.010864</td>\n",
              "                        <td id=\"T_75728764_76f0_11eb_b706_0242ac1c0002row2_col20\" class=\"data row2 col20\" >0.040936</td>\n",
              "                        <td id=\"T_75728764_76f0_11eb_b706_0242ac1c0002row2_col21\" class=\"data row2 col21\" >-0.021383</td>\n",
              "                        <td id=\"T_75728764_76f0_11eb_b706_0242ac1c0002row2_col22\" class=\"data row2 col22\" >0.027788</td>\n",
              "                        <td id=\"T_75728764_76f0_11eb_b706_0242ac1c0002row2_col23\" class=\"data row2 col23\" >0.012996</td>\n",
              "                        <td id=\"T_75728764_76f0_11eb_b706_0242ac1c0002row2_col24\" class=\"data row2 col24\" >-0.003475</td>\n",
              "                        <td id=\"T_75728764_76f0_11eb_b706_0242ac1c0002row2_col25\" class=\"data row2 col25\" >-0.180831</td>\n",
              "            </tr>\n",
              "            <tr>\n",
              "                        <th id=\"T_75728764_76f0_11eb_b706_0242ac1c0002level0_row3\" class=\"row_heading level0 row3\" >timestamp</th>\n",
              "                        <td id=\"T_75728764_76f0_11eb_b706_0242ac1c0002row3_col0\" class=\"data row3 col0\" >0.039862</td>\n",
              "                        <td id=\"T_75728764_76f0_11eb_b706_0242ac1c0002row3_col1\" class=\"data row3 col1\" >0.518283</td>\n",
              "                        <td id=\"T_75728764_76f0_11eb_b706_0242ac1c0002row3_col2\" class=\"data row3 col2\" >0.002697</td>\n",
              "                        <td id=\"T_75728764_76f0_11eb_b706_0242ac1c0002row3_col3\" class=\"data row3 col3\" >1.000000</td>\n",
              "                        <td id=\"T_75728764_76f0_11eb_b706_0242ac1c0002row3_col4\" class=\"data row3 col4\" >0.160225</td>\n",
              "                        <td id=\"T_75728764_76f0_11eb_b706_0242ac1c0002row3_col5\" class=\"data row3 col5\" >0.044377</td>\n",
              "                        <td id=\"T_75728764_76f0_11eb_b706_0242ac1c0002row3_col6\" class=\"data row3 col6\" >-0.010251</td>\n",
              "                        <td id=\"T_75728764_76f0_11eb_b706_0242ac1c0002row3_col7\" class=\"data row3 col7\" >0.057608</td>\n",
              "                        <td id=\"T_75728764_76f0_11eb_b706_0242ac1c0002row3_col8\" class=\"data row3 col8\" >0.030964</td>\n",
              "                        <td id=\"T_75728764_76f0_11eb_b706_0242ac1c0002row3_col9\" class=\"data row3 col9\" >0.035861</td>\n",
              "                        <td id=\"T_75728764_76f0_11eb_b706_0242ac1c0002row3_col10\" class=\"data row3 col10\" >0.073984</td>\n",
              "                        <td id=\"T_75728764_76f0_11eb_b706_0242ac1c0002row3_col11\" class=\"data row3 col11\" >0.000756</td>\n",
              "                        <td id=\"T_75728764_76f0_11eb_b706_0242ac1c0002row3_col12\" class=\"data row3 col12\" >0.039925</td>\n",
              "                        <td id=\"T_75728764_76f0_11eb_b706_0242ac1c0002row3_col13\" class=\"data row3 col13\" >0.146901</td>\n",
              "                        <td id=\"T_75728764_76f0_11eb_b706_0242ac1c0002row3_col14\" class=\"data row3 col14\" >-0.029675</td>\n",
              "                        <td id=\"T_75728764_76f0_11eb_b706_0242ac1c0002row3_col15\" class=\"data row3 col15\" >-0.059208</td>\n",
              "                        <td id=\"T_75728764_76f0_11eb_b706_0242ac1c0002row3_col16\" class=\"data row3 col16\" >-0.024549</td>\n",
              "                        <td id=\"T_75728764_76f0_11eb_b706_0242ac1c0002row3_col17\" class=\"data row3 col17\" >0.022950</td>\n",
              "                        <td id=\"T_75728764_76f0_11eb_b706_0242ac1c0002row3_col18\" class=\"data row3 col18\" >0.041151</td>\n",
              "                        <td id=\"T_75728764_76f0_11eb_b706_0242ac1c0002row3_col19\" class=\"data row3 col19\" >-0.039274</td>\n",
              "                        <td id=\"T_75728764_76f0_11eb_b706_0242ac1c0002row3_col20\" class=\"data row3 col20\" >-0.002958</td>\n",
              "                        <td id=\"T_75728764_76f0_11eb_b706_0242ac1c0002row3_col21\" class=\"data row3 col21\" >-0.014914</td>\n",
              "                        <td id=\"T_75728764_76f0_11eb_b706_0242ac1c0002row3_col22\" class=\"data row3 col22\" >0.050374</td>\n",
              "                        <td id=\"T_75728764_76f0_11eb_b706_0242ac1c0002row3_col23\" class=\"data row3 col23\" >0.038446</td>\n",
              "                        <td id=\"T_75728764_76f0_11eb_b706_0242ac1c0002row3_col24\" class=\"data row3 col24\" >0.014142</td>\n",
              "                        <td id=\"T_75728764_76f0_11eb_b706_0242ac1c0002row3_col25\" class=\"data row3 col25\" >0.162012</td>\n",
              "            </tr>\n",
              "            <tr>\n",
              "                        <th id=\"T_75728764_76f0_11eb_b706_0242ac1c0002level0_row4\" class=\"row_heading level0 row4\" >year</th>\n",
              "                        <td id=\"T_75728764_76f0_11eb_b706_0242ac1c0002row4_col0\" class=\"data row4 col0\" >-0.014982</td>\n",
              "                        <td id=\"T_75728764_76f0_11eb_b706_0242ac1c0002row4_col1\" class=\"data row4 col1\" >0.260610</td>\n",
              "                        <td id=\"T_75728764_76f0_11eb_b706_0242ac1c0002row4_col2\" class=\"data row4 col2\" >-0.066076</td>\n",
              "                        <td id=\"T_75728764_76f0_11eb_b706_0242ac1c0002row4_col3\" class=\"data row4 col3\" >0.160225</td>\n",
              "                        <td id=\"T_75728764_76f0_11eb_b706_0242ac1c0002row4_col4\" class=\"data row4 col4\" >1.000000</td>\n",
              "                        <td id=\"T_75728764_76f0_11eb_b706_0242ac1c0002row4_col5\" class=\"data row4 col5\" >0.038708</td>\n",
              "                        <td id=\"T_75728764_76f0_11eb_b706_0242ac1c0002row4_col6\" class=\"data row4 col6\" >-0.010329</td>\n",
              "                        <td id=\"T_75728764_76f0_11eb_b706_0242ac1c0002row4_col7\" class=\"data row4 col7\" >0.035407</td>\n",
              "                        <td id=\"T_75728764_76f0_11eb_b706_0242ac1c0002row4_col8\" class=\"data row4 col8\" >0.007998</td>\n",
              "                        <td id=\"T_75728764_76f0_11eb_b706_0242ac1c0002row4_col9\" class=\"data row4 col9\" >0.086663</td>\n",
              "                        <td id=\"T_75728764_76f0_11eb_b706_0242ac1c0002row4_col10\" class=\"data row4 col10\" >0.090607</td>\n",
              "                        <td id=\"T_75728764_76f0_11eb_b706_0242ac1c0002row4_col11\" class=\"data row4 col11\" >-0.051759</td>\n",
              "                        <td id=\"T_75728764_76f0_11eb_b706_0242ac1c0002row4_col12\" class=\"data row4 col12\" >0.016479</td>\n",
              "                        <td id=\"T_75728764_76f0_11eb_b706_0242ac1c0002row4_col13\" class=\"data row4 col13\" >0.109262</td>\n",
              "                        <td id=\"T_75728764_76f0_11eb_b706_0242ac1c0002row4_col14\" class=\"data row4 col14\" >0.027084</td>\n",
              "                        <td id=\"T_75728764_76f0_11eb_b706_0242ac1c0002row4_col15\" class=\"data row4 col15\" >-0.016159</td>\n",
              "                        <td id=\"T_75728764_76f0_11eb_b706_0242ac1c0002row4_col16\" class=\"data row4 col16\" >-0.050406</td>\n",
              "                        <td id=\"T_75728764_76f0_11eb_b706_0242ac1c0002row4_col17\" class=\"data row4 col17\" >-0.007740</td>\n",
              "                        <td id=\"T_75728764_76f0_11eb_b706_0242ac1c0002row4_col18\" class=\"data row4 col18\" >0.003097</td>\n",
              "                        <td id=\"T_75728764_76f0_11eb_b706_0242ac1c0002row4_col19\" class=\"data row4 col19\" >-0.119995</td>\n",
              "                        <td id=\"T_75728764_76f0_11eb_b706_0242ac1c0002row4_col20\" class=\"data row4 col20\" >-0.092963</td>\n",
              "                        <td id=\"T_75728764_76f0_11eb_b706_0242ac1c0002row4_col21\" class=\"data row4 col21\" >-0.028023</td>\n",
              "                        <td id=\"T_75728764_76f0_11eb_b706_0242ac1c0002row4_col22\" class=\"data row4 col22\" >0.011600</td>\n",
              "                        <td id=\"T_75728764_76f0_11eb_b706_0242ac1c0002row4_col23\" class=\"data row4 col23\" >0.036667</td>\n",
              "                        <td id=\"T_75728764_76f0_11eb_b706_0242ac1c0002row4_col24\" class=\"data row4 col24\" >-0.103547</td>\n",
              "                        <td id=\"T_75728764_76f0_11eb_b706_0242ac1c0002row4_col25\" class=\"data row4 col25\" >-0.016249</td>\n",
              "            </tr>\n",
              "            <tr>\n",
              "                        <th id=\"T_75728764_76f0_11eb_b706_0242ac1c0002level0_row5\" class=\"row_heading level0 row5\" >Crime</th>\n",
              "                        <td id=\"T_75728764_76f0_11eb_b706_0242ac1c0002row5_col0\" class=\"data row5 col0\" >-0.002273</td>\n",
              "                        <td id=\"T_75728764_76f0_11eb_b706_0242ac1c0002row5_col1\" class=\"data row5 col1\" >0.025788</td>\n",
              "                        <td id=\"T_75728764_76f0_11eb_b706_0242ac1c0002row5_col2\" class=\"data row5 col2\" >0.055077</td>\n",
              "                        <td id=\"T_75728764_76f0_11eb_b706_0242ac1c0002row5_col3\" class=\"data row5 col3\" >0.044377</td>\n",
              "                        <td id=\"T_75728764_76f0_11eb_b706_0242ac1c0002row5_col4\" class=\"data row5 col4\" >0.038708</td>\n",
              "                        <td id=\"T_75728764_76f0_11eb_b706_0242ac1c0002row5_col5\" class=\"data row5 col5\" >1.000000</td>\n",
              "                        <td id=\"T_75728764_76f0_11eb_b706_0242ac1c0002row5_col6\" class=\"data row5 col6\" >0.069221</td>\n",
              "                        <td id=\"T_75728764_76f0_11eb_b706_0242ac1c0002row5_col7\" class=\"data row5 col7\" >-0.146586</td>\n",
              "                        <td id=\"T_75728764_76f0_11eb_b706_0242ac1c0002row5_col8\" class=\"data row5 col8\" >0.127607</td>\n",
              "                        <td id=\"T_75728764_76f0_11eb_b706_0242ac1c0002row5_col9\" class=\"data row5 col9\" >0.282448</td>\n",
              "                        <td id=\"T_75728764_76f0_11eb_b706_0242ac1c0002row5_col10\" class=\"data row5 col10\" >0.094054</td>\n",
              "                        <td id=\"T_75728764_76f0_11eb_b706_0242ac1c0002row5_col11\" class=\"data row5 col11\" >-0.087365</td>\n",
              "                        <td id=\"T_75728764_76f0_11eb_b706_0242ac1c0002row5_col12\" class=\"data row5 col12\" >-0.175587</td>\n",
              "                        <td id=\"T_75728764_76f0_11eb_b706_0242ac1c0002row5_col13\" class=\"data row5 col13\" >-0.015960</td>\n",
              "                        <td id=\"T_75728764_76f0_11eb_b706_0242ac1c0002row5_col14\" class=\"data row5 col14\" >-0.081901</td>\n",
              "                        <td id=\"T_75728764_76f0_11eb_b706_0242ac1c0002row5_col15\" class=\"data row5 col15\" >-0.157722</td>\n",
              "                        <td id=\"T_75728764_76f0_11eb_b706_0242ac1c0002row5_col16\" class=\"data row5 col16\" >-0.050917</td>\n",
              "                        <td id=\"T_75728764_76f0_11eb_b706_0242ac1c0002row5_col17\" class=\"data row5 col17\" >-0.061472</td>\n",
              "                        <td id=\"T_75728764_76f0_11eb_b706_0242ac1c0002row5_col18\" class=\"data row5 col18\" >-0.117119</td>\n",
              "                        <td id=\"T_75728764_76f0_11eb_b706_0242ac1c0002row5_col19\" class=\"data row5 col19\" >-0.086171</td>\n",
              "                        <td id=\"T_75728764_76f0_11eb_b706_0242ac1c0002row5_col20\" class=\"data row5 col20\" >0.143675</td>\n",
              "                        <td id=\"T_75728764_76f0_11eb_b706_0242ac1c0002row5_col21\" class=\"data row5 col21\" >-0.107917</td>\n",
              "                        <td id=\"T_75728764_76f0_11eb_b706_0242ac1c0002row5_col22\" class=\"data row5 col22\" >-0.076213</td>\n",
              "                        <td id=\"T_75728764_76f0_11eb_b706_0242ac1c0002row5_col23\" class=\"data row5 col23\" >-0.048153</td>\n",
              "                        <td id=\"T_75728764_76f0_11eb_b706_0242ac1c0002row5_col24\" class=\"data row5 col24\" >-0.003737</td>\n",
              "                        <td id=\"T_75728764_76f0_11eb_b706_0242ac1c0002row5_col25\" class=\"data row5 col25\" >-0.049513</td>\n",
              "            </tr>\n",
              "            <tr>\n",
              "                        <th id=\"T_75728764_76f0_11eb_b706_0242ac1c0002level0_row6\" class=\"row_heading level0 row6\" >Drama</th>\n",
              "                        <td id=\"T_75728764_76f0_11eb_b706_0242ac1c0002row6_col0\" class=\"data row6 col0\" >0.028252</td>\n",
              "                        <td id=\"T_75728764_76f0_11eb_b706_0242ac1c0002row6_col1\" class=\"data row6 col1\" >0.027923</td>\n",
              "                        <td id=\"T_75728764_76f0_11eb_b706_0242ac1c0002row6_col2\" class=\"data row6 col2\" >0.114520</td>\n",
              "                        <td id=\"T_75728764_76f0_11eb_b706_0242ac1c0002row6_col3\" class=\"data row6 col3\" >-0.010251</td>\n",
              "                        <td id=\"T_75728764_76f0_11eb_b706_0242ac1c0002row6_col4\" class=\"data row6 col4\" >-0.010329</td>\n",
              "                        <td id=\"T_75728764_76f0_11eb_b706_0242ac1c0002row6_col5\" class=\"data row6 col5\" >0.069221</td>\n",
              "                        <td id=\"T_75728764_76f0_11eb_b706_0242ac1c0002row6_col6\" class=\"data row6 col6\" >1.000000</td>\n",
              "                        <td id=\"T_75728764_76f0_11eb_b706_0242ac1c0002row6_col7\" class=\"data row6 col7\" >-0.209267</td>\n",
              "                        <td id=\"T_75728764_76f0_11eb_b706_0242ac1c0002row6_col8\" class=\"data row6 col8\" >0.008140</td>\n",
              "                        <td id=\"T_75728764_76f0_11eb_b706_0242ac1c0002row6_col9\" class=\"data row6 col9\" >-0.071213</td>\n",
              "                        <td id=\"T_75728764_76f0_11eb_b706_0242ac1c0002row6_col10\" class=\"data row6 col10\" >-0.246880</td>\n",
              "                        <td id=\"T_75728764_76f0_11eb_b706_0242ac1c0002row6_col11\" class=\"data row6 col11\" >0.181943</td>\n",
              "                        <td id=\"T_75728764_76f0_11eb_b706_0242ac1c0002row6_col12\" class=\"data row6 col12\" >-0.263121</td>\n",
              "                        <td id=\"T_75728764_76f0_11eb_b706_0242ac1c0002row6_col13\" class=\"data row6 col13\" >-0.053649</td>\n",
              "                        <td id=\"T_75728764_76f0_11eb_b706_0242ac1c0002row6_col14\" class=\"data row6 col14\" >-0.273974</td>\n",
              "                        <td id=\"T_75728764_76f0_11eb_b706_0242ac1c0002row6_col15\" class=\"data row6 col15\" >0.106983</td>\n",
              "                        <td id=\"T_75728764_76f0_11eb_b706_0242ac1c0002row6_col16\" class=\"data row6 col16\" >-0.011542</td>\n",
              "                        <td id=\"T_75728764_76f0_11eb_b706_0242ac1c0002row6_col17\" class=\"data row6 col17\" >-0.143019</td>\n",
              "                        <td id=\"T_75728764_76f0_11eb_b706_0242ac1c0002row6_col18\" class=\"data row6 col18\" >-0.149451</td>\n",
              "                        <td id=\"T_75728764_76f0_11eb_b706_0242ac1c0002row6_col19\" class=\"data row6 col19\" >-0.059170</td>\n",
              "                        <td id=\"T_75728764_76f0_11eb_b706_0242ac1c0002row6_col20\" class=\"data row6 col20\" >-0.006348</td>\n",
              "                        <td id=\"T_75728764_76f0_11eb_b706_0242ac1c0002row6_col21\" class=\"data row6 col21\" >-0.143896</td>\n",
              "                        <td id=\"T_75728764_76f0_11eb_b706_0242ac1c0002row6_col22\" class=\"data row6 col22\" >-0.132503</td>\n",
              "                        <td id=\"T_75728764_76f0_11eb_b706_0242ac1c0002row6_col23\" class=\"data row6 col23\" >-0.081619</td>\n",
              "                        <td id=\"T_75728764_76f0_11eb_b706_0242ac1c0002row6_col24\" class=\"data row6 col24\" >-0.007311</td>\n",
              "                        <td id=\"T_75728764_76f0_11eb_b706_0242ac1c0002row6_col25\" class=\"data row6 col25\" >0.082745</td>\n",
              "            </tr>\n",
              "            <tr>\n",
              "                        <th id=\"T_75728764_76f0_11eb_b706_0242ac1c0002level0_row7\" class=\"row_heading level0 row7\" >Sci-Fi</th>\n",
              "                        <td id=\"T_75728764_76f0_11eb_b706_0242ac1c0002row7_col0\" class=\"data row7 col0\" >-0.018739</td>\n",
              "                        <td id=\"T_75728764_76f0_11eb_b706_0242ac1c0002row7_col1\" class=\"data row7 col1\" >0.039558</td>\n",
              "                        <td id=\"T_75728764_76f0_11eb_b706_0242ac1c0002row7_col2\" class=\"data row7 col2\" >-0.025997</td>\n",
              "                        <td id=\"T_75728764_76f0_11eb_b706_0242ac1c0002row7_col3\" class=\"data row7 col3\" >0.057608</td>\n",
              "                        <td id=\"T_75728764_76f0_11eb_b706_0242ac1c0002row7_col4\" class=\"data row7 col4\" >0.035407</td>\n",
              "                        <td id=\"T_75728764_76f0_11eb_b706_0242ac1c0002row7_col5\" class=\"data row7 col5\" >-0.146586</td>\n",
              "                        <td id=\"T_75728764_76f0_11eb_b706_0242ac1c0002row7_col6\" class=\"data row7 col6\" >-0.209267</td>\n",
              "                        <td id=\"T_75728764_76f0_11eb_b706_0242ac1c0002row7_col7\" class=\"data row7 col7\" >1.000000</td>\n",
              "                        <td id=\"T_75728764_76f0_11eb_b706_0242ac1c0002row7_col8\" class=\"data row7 col8\" >0.000719</td>\n",
              "                        <td id=\"T_75728764_76f0_11eb_b706_0242ac1c0002row7_col9\" class=\"data row7 col9\" >0.114334</td>\n",
              "                        <td id=\"T_75728764_76f0_11eb_b706_0242ac1c0002row7_col10\" class=\"data row7 col10\" >0.295653</td>\n",
              "                        <td id=\"T_75728764_76f0_11eb_b706_0242ac1c0002row7_col11\" class=\"data row7 col11\" >-0.093489</td>\n",
              "                        <td id=\"T_75728764_76f0_11eb_b706_0242ac1c0002row7_col12\" class=\"data row7 col12\" >0.229831</td>\n",
              "                        <td id=\"T_75728764_76f0_11eb_b706_0242ac1c0002row7_col13\" class=\"data row7 col13\" >0.121531</td>\n",
              "                        <td id=\"T_75728764_76f0_11eb_b706_0242ac1c0002row7_col14\" class=\"data row7 col14\" >-0.165318</td>\n",
              "                        <td id=\"T_75728764_76f0_11eb_b706_0242ac1c0002row7_col15\" class=\"data row7 col15\" >-0.157400</td>\n",
              "                        <td id=\"T_75728764_76f0_11eb_b706_0242ac1c0002row7_col16\" class=\"data row7 col16\" >-0.032365</td>\n",
              "                        <td id=\"T_75728764_76f0_11eb_b706_0242ac1c0002row7_col17\" class=\"data row7 col17\" >0.076644</td>\n",
              "                        <td id=\"T_75728764_76f0_11eb_b706_0242ac1c0002row7_col18\" class=\"data row7 col18\" >-0.067811</td>\n",
              "                        <td id=\"T_75728764_76f0_11eb_b706_0242ac1c0002row7_col19\" class=\"data row7 col19\" >-0.078680</td>\n",
              "                        <td id=\"T_75728764_76f0_11eb_b706_0242ac1c0002row7_col20\" class=\"data row7 col20\" >-0.031373</td>\n",
              "                        <td id=\"T_75728764_76f0_11eb_b706_0242ac1c0002row7_col21\" class=\"data row7 col21\" >-0.052188</td>\n",
              "                        <td id=\"T_75728764_76f0_11eb_b706_0242ac1c0002row7_col22\" class=\"data row7 col22\" >-0.015841</td>\n",
              "                        <td id=\"T_75728764_76f0_11eb_b706_0242ac1c0002row7_col23\" class=\"data row7 col23\" >-0.046626</td>\n",
              "                        <td id=\"T_75728764_76f0_11eb_b706_0242ac1c0002row7_col24\" class=\"data row7 col24\" >-0.003550</td>\n",
              "                        <td id=\"T_75728764_76f0_11eb_b706_0242ac1c0002row7_col25\" class=\"data row7 col25\" >-0.117438</td>\n",
              "            </tr>\n",
              "            <tr>\n",
              "                        <th id=\"T_75728764_76f0_11eb_b706_0242ac1c0002level0_row8\" class=\"row_heading level0 row8\" >Mystery</th>\n",
              "                        <td id=\"T_75728764_76f0_11eb_b706_0242ac1c0002row8_col0\" class=\"data row8 col0\" >-0.004415</td>\n",
              "                        <td id=\"T_75728764_76f0_11eb_b706_0242ac1c0002row8_col1\" class=\"data row8 col1\" >0.023000</td>\n",
              "                        <td id=\"T_75728764_76f0_11eb_b706_0242ac1c0002row8_col2\" class=\"data row8 col2\" >0.037890</td>\n",
              "                        <td id=\"T_75728764_76f0_11eb_b706_0242ac1c0002row8_col3\" class=\"data row8 col3\" >0.030964</td>\n",
              "                        <td id=\"T_75728764_76f0_11eb_b706_0242ac1c0002row8_col4\" class=\"data row8 col4\" >0.007998</td>\n",
              "                        <td id=\"T_75728764_76f0_11eb_b706_0242ac1c0002row8_col5\" class=\"data row8 col5\" >0.127607</td>\n",
              "                        <td id=\"T_75728764_76f0_11eb_b706_0242ac1c0002row8_col6\" class=\"data row8 col6\" >0.008140</td>\n",
              "                        <td id=\"T_75728764_76f0_11eb_b706_0242ac1c0002row8_col7\" class=\"data row8 col7\" >0.000719</td>\n",
              "                        <td id=\"T_75728764_76f0_11eb_b706_0242ac1c0002row8_col8\" class=\"data row8 col8\" >1.000000</td>\n",
              "                        <td id=\"T_75728764_76f0_11eb_b706_0242ac1c0002row8_col9\" class=\"data row8 col9\" >0.286096</td>\n",
              "                        <td id=\"T_75728764_76f0_11eb_b706_0242ac1c0002row8_col10\" class=\"data row8 col10\" >-0.062337</td>\n",
              "                        <td id=\"T_75728764_76f0_11eb_b706_0242ac1c0002row8_col11\" class=\"data row8 col11\" >-0.067790</td>\n",
              "                        <td id=\"T_75728764_76f0_11eb_b706_0242ac1c0002row8_col12\" class=\"data row8 col12\" >-0.092894</td>\n",
              "                        <td id=\"T_75728764_76f0_11eb_b706_0242ac1c0002row8_col13\" class=\"data row8 col13\" >-0.000521</td>\n",
              "                        <td id=\"T_75728764_76f0_11eb_b706_0242ac1c0002row8_col14\" class=\"data row8 col14\" >-0.160737</td>\n",
              "                        <td id=\"T_75728764_76f0_11eb_b706_0242ac1c0002row8_col15\" class=\"data row8 col15\" >-0.066158</td>\n",
              "                        <td id=\"T_75728764_76f0_11eb_b706_0242ac1c0002row8_col16\" class=\"data row8 col16\" >-0.029720</td>\n",
              "                        <td id=\"T_75728764_76f0_11eb_b706_0242ac1c0002row8_col17\" class=\"data row8 col17\" >0.099810</td>\n",
              "                        <td id=\"T_75728764_76f0_11eb_b706_0242ac1c0002row8_col18\" class=\"data row8 col18\" >-0.021856</td>\n",
              "                        <td id=\"T_75728764_76f0_11eb_b706_0242ac1c0002row8_col19\" class=\"data row8 col19\" >-0.058535</td>\n",
              "                        <td id=\"T_75728764_76f0_11eb_b706_0242ac1c0002row8_col20\" class=\"data row8 col20\" >0.164636</td>\n",
              "                        <td id=\"T_75728764_76f0_11eb_b706_0242ac1c0002row8_col21\" class=\"data row8 col21\" >-0.058876</td>\n",
              "                        <td id=\"T_75728764_76f0_11eb_b706_0242ac1c0002row8_col22\" class=\"data row8 col22\" >-0.044953</td>\n",
              "                        <td id=\"T_75728764_76f0_11eb_b706_0242ac1c0002row8_col23\" class=\"data row8 col23\" >-0.030191</td>\n",
              "                        <td id=\"T_75728764_76f0_11eb_b706_0242ac1c0002row8_col24\" class=\"data row8 col24\" >-0.002387</td>\n",
              "                        <td id=\"T_75728764_76f0_11eb_b706_0242ac1c0002row8_col25\" class=\"data row8 col25\" >-0.031693</td>\n",
              "            </tr>\n",
              "            <tr>\n",
              "                        <th id=\"T_75728764_76f0_11eb_b706_0242ac1c0002level0_row9\" class=\"row_heading level0 row9\" >Thriller</th>\n",
              "                        <td id=\"T_75728764_76f0_11eb_b706_0242ac1c0002row9_col0\" class=\"data row9 col0\" >-0.005088</td>\n",
              "                        <td id=\"T_75728764_76f0_11eb_b706_0242ac1c0002row9_col1\" class=\"data row9 col1\" >0.042046</td>\n",
              "                        <td id=\"T_75728764_76f0_11eb_b706_0242ac1c0002row9_col2\" class=\"data row9 col2\" >-0.012644</td>\n",
              "                        <td id=\"T_75728764_76f0_11eb_b706_0242ac1c0002row9_col3\" class=\"data row9 col3\" >0.035861</td>\n",
              "                        <td id=\"T_75728764_76f0_11eb_b706_0242ac1c0002row9_col4\" class=\"data row9 col4\" >0.086663</td>\n",
              "                        <td id=\"T_75728764_76f0_11eb_b706_0242ac1c0002row9_col5\" class=\"data row9 col5\" >0.282448</td>\n",
              "                        <td id=\"T_75728764_76f0_11eb_b706_0242ac1c0002row9_col6\" class=\"data row9 col6\" >-0.071213</td>\n",
              "                        <td id=\"T_75728764_76f0_11eb_b706_0242ac1c0002row9_col7\" class=\"data row9 col7\" >0.114334</td>\n",
              "                        <td id=\"T_75728764_76f0_11eb_b706_0242ac1c0002row9_col8\" class=\"data row9 col8\" >0.286096</td>\n",
              "                        <td id=\"T_75728764_76f0_11eb_b706_0242ac1c0002row9_col9\" class=\"data row9 col9\" >1.000000</td>\n",
              "                        <td id=\"T_75728764_76f0_11eb_b706_0242ac1c0002row9_col10\" class=\"data row9 col10\" >0.262234</td>\n",
              "                        <td id=\"T_75728764_76f0_11eb_b706_0242ac1c0002row9_col11\" class=\"data row9 col11\" >-0.092533</td>\n",
              "                        <td id=\"T_75728764_76f0_11eb_b706_0242ac1c0002row9_col12\" class=\"data row9 col12\" >-0.048767</td>\n",
              "                        <td id=\"T_75728764_76f0_11eb_b706_0242ac1c0002row9_col13\" class=\"data row9 col13\" >-0.005703</td>\n",
              "                        <td id=\"T_75728764_76f0_11eb_b706_0242ac1c0002row9_col14\" class=\"data row9 col14\" >-0.330275</td>\n",
              "                        <td id=\"T_75728764_76f0_11eb_b706_0242ac1c0002row9_col15\" class=\"data row9 col15\" >-0.169670</td>\n",
              "                        <td id=\"T_75728764_76f0_11eb_b706_0242ac1c0002row9_col16\" class=\"data row9 col16\" >-0.070453</td>\n",
              "                        <td id=\"T_75728764_76f0_11eb_b706_0242ac1c0002row9_col17\" class=\"data row9 col17\" >0.164003</td>\n",
              "                        <td id=\"T_75728764_76f0_11eb_b706_0242ac1c0002row9_col18\" class=\"data row9 col18\" >-0.131299</td>\n",
              "                        <td id=\"T_75728764_76f0_11eb_b706_0242ac1c0002row9_col19\" class=\"data row9 col19\" >-0.125031</td>\n",
              "                        <td id=\"T_75728764_76f0_11eb_b706_0242ac1c0002row9_col20\" class=\"data row9 col20\" >0.079454</td>\n",
              "                        <td id=\"T_75728764_76f0_11eb_b706_0242ac1c0002row9_col21\" class=\"data row9 col21\" >-0.177334</td>\n",
              "                        <td id=\"T_75728764_76f0_11eb_b706_0242ac1c0002row9_col22\" class=\"data row9 col22\" >-0.143255</td>\n",
              "                        <td id=\"T_75728764_76f0_11eb_b706_0242ac1c0002row9_col23\" class=\"data row9 col23\" >-0.066186</td>\n",
              "                        <td id=\"T_75728764_76f0_11eb_b706_0242ac1c0002row9_col24\" class=\"data row9 col24\" >-0.005059</td>\n",
              "                        <td id=\"T_75728764_76f0_11eb_b706_0242ac1c0002row9_col25\" class=\"data row9 col25\" >-0.072809</td>\n",
              "            </tr>\n",
              "            <tr>\n",
              "                        <th id=\"T_75728764_76f0_11eb_b706_0242ac1c0002level0_row10\" class=\"row_heading level0 row10\" >Action</th>\n",
              "                        <td id=\"T_75728764_76f0_11eb_b706_0242ac1c0002row10_col0\" class=\"data row10 col0\" >-0.021835</td>\n",
              "                        <td id=\"T_75728764_76f0_11eb_b706_0242ac1c0002row10_col1\" class=\"data row10 col1\" >0.049653</td>\n",
              "                        <td id=\"T_75728764_76f0_11eb_b706_0242ac1c0002row10_col2\" class=\"data row10 col2\" >-0.040609</td>\n",
              "                        <td id=\"T_75728764_76f0_11eb_b706_0242ac1c0002row10_col3\" class=\"data row10 col3\" >0.073984</td>\n",
              "                        <td id=\"T_75728764_76f0_11eb_b706_0242ac1c0002row10_col4\" class=\"data row10 col4\" >0.090607</td>\n",
              "                        <td id=\"T_75728764_76f0_11eb_b706_0242ac1c0002row10_col5\" class=\"data row10 col5\" >0.094054</td>\n",
              "                        <td id=\"T_75728764_76f0_11eb_b706_0242ac1c0002row10_col6\" class=\"data row10 col6\" >-0.246880</td>\n",
              "                        <td id=\"T_75728764_76f0_11eb_b706_0242ac1c0002row10_col7\" class=\"data row10 col7\" >0.295653</td>\n",
              "                        <td id=\"T_75728764_76f0_11eb_b706_0242ac1c0002row10_col8\" class=\"data row10 col8\" >-0.062337</td>\n",
              "                        <td id=\"T_75728764_76f0_11eb_b706_0242ac1c0002row10_col9\" class=\"data row10 col9\" >0.262234</td>\n",
              "                        <td id=\"T_75728764_76f0_11eb_b706_0242ac1c0002row10_col10\" class=\"data row10 col10\" >1.000000</td>\n",
              "                        <td id=\"T_75728764_76f0_11eb_b706_0242ac1c0002row10_col11\" class=\"data row10 col11\" >0.067075</td>\n",
              "                        <td id=\"T_75728764_76f0_11eb_b706_0242ac1c0002row10_col12\" class=\"data row10 col12\" >0.326693</td>\n",
              "                        <td id=\"T_75728764_76f0_11eb_b706_0242ac1c0002row10_col13\" class=\"data row10 col13\" >0.122091</td>\n",
              "                        <td id=\"T_75728764_76f0_11eb_b706_0242ac1c0002row10_col14\" class=\"data row10 col14\" >-0.223732</td>\n",
              "                        <td id=\"T_75728764_76f0_11eb_b706_0242ac1c0002row10_col15\" class=\"data row10 col15\" >-0.171803</td>\n",
              "                        <td id=\"T_75728764_76f0_11eb_b706_0242ac1c0002row10_col16\" class=\"data row10 col16\" >0.027875</td>\n",
              "                        <td id=\"T_75728764_76f0_11eb_b706_0242ac1c0002row10_col17\" class=\"data row10 col17\" >-0.044688</td>\n",
              "                        <td id=\"T_75728764_76f0_11eb_b706_0242ac1c0002row10_col18\" class=\"data row10 col18\" >-0.019716</td>\n",
              "                        <td id=\"T_75728764_76f0_11eb_b706_0242ac1c0002row10_col19\" class=\"data row10 col19\" >-0.118794</td>\n",
              "                        <td id=\"T_75728764_76f0_11eb_b706_0242ac1c0002row10_col20\" class=\"data row10 col20\" >-0.052572</td>\n",
              "                        <td id=\"T_75728764_76f0_11eb_b706_0242ac1c0002row10_col21\" class=\"data row10 col21\" >-0.139852</td>\n",
              "                        <td id=\"T_75728764_76f0_11eb_b706_0242ac1c0002row10_col22\" class=\"data row10 col22\" >-0.091327</td>\n",
              "                        <td id=\"T_75728764_76f0_11eb_b706_0242ac1c0002row10_col23\" class=\"data row10 col23\" >-0.065325</td>\n",
              "                        <td id=\"T_75728764_76f0_11eb_b706_0242ac1c0002row10_col24\" class=\"data row10 col24\" >-0.005289</td>\n",
              "                        <td id=\"T_75728764_76f0_11eb_b706_0242ac1c0002row10_col25\" class=\"data row10 col25\" >-0.154378</td>\n",
              "            </tr>\n",
              "            <tr>\n",
              "                        <th id=\"T_75728764_76f0_11eb_b706_0242ac1c0002level0_row11\" class=\"row_heading level0 row11\" >War</th>\n",
              "                        <td id=\"T_75728764_76f0_11eb_b706_0242ac1c0002row11_col0\" class=\"data row11 col0\" >0.003415</td>\n",
              "                        <td id=\"T_75728764_76f0_11eb_b706_0242ac1c0002row11_col1\" class=\"data row11 col1\" >-0.013511</td>\n",
              "                        <td id=\"T_75728764_76f0_11eb_b706_0242ac1c0002row11_col2\" class=\"data row11 col2\" >0.061690</td>\n",
              "                        <td id=\"T_75728764_76f0_11eb_b706_0242ac1c0002row11_col3\" class=\"data row11 col3\" >0.000756</td>\n",
              "                        <td id=\"T_75728764_76f0_11eb_b706_0242ac1c0002row11_col4\" class=\"data row11 col4\" >-0.051759</td>\n",
              "                        <td id=\"T_75728764_76f0_11eb_b706_0242ac1c0002row11_col5\" class=\"data row11 col5\" >-0.087365</td>\n",
              "                        <td id=\"T_75728764_76f0_11eb_b706_0242ac1c0002row11_col6\" class=\"data row11 col6\" >0.181943</td>\n",
              "                        <td id=\"T_75728764_76f0_11eb_b706_0242ac1c0002row11_col7\" class=\"data row11 col7\" >-0.093489</td>\n",
              "                        <td id=\"T_75728764_76f0_11eb_b706_0242ac1c0002row11_col8\" class=\"data row11 col8\" >-0.067790</td>\n",
              "                        <td id=\"T_75728764_76f0_11eb_b706_0242ac1c0002row11_col9\" class=\"data row11 col9\" >-0.092533</td>\n",
              "                        <td id=\"T_75728764_76f0_11eb_b706_0242ac1c0002row11_col10\" class=\"data row11 col10\" >0.067075</td>\n",
              "                        <td id=\"T_75728764_76f0_11eb_b706_0242ac1c0002row11_col11\" class=\"data row11 col11\" >1.000000</td>\n",
              "                        <td id=\"T_75728764_76f0_11eb_b706_0242ac1c0002row11_col12\" class=\"data row11 col12\" >-0.043642</td>\n",
              "                        <td id=\"T_75728764_76f0_11eb_b706_0242ac1c0002row11_col13\" class=\"data row11 col13\" >-0.020055</td>\n",
              "                        <td id=\"T_75728764_76f0_11eb_b706_0242ac1c0002row11_col14\" class=\"data row11 col14\" >-0.080084</td>\n",
              "                        <td id=\"T_75728764_76f0_11eb_b706_0242ac1c0002row11_col15\" class=\"data row11 col15\" >0.013215</td>\n",
              "                        <td id=\"T_75728764_76f0_11eb_b706_0242ac1c0002row11_col16\" class=\"data row11 col16\" >0.009342</td>\n",
              "                        <td id=\"T_75728764_76f0_11eb_b706_0242ac1c0002row11_col17\" class=\"data row11 col17\" >-0.066788</td>\n",
              "                        <td id=\"T_75728764_76f0_11eb_b706_0242ac1c0002row11_col18\" class=\"data row11 col18\" >-0.067304</td>\n",
              "                        <td id=\"T_75728764_76f0_11eb_b706_0242ac1c0002row11_col19\" class=\"data row11 col19\" >-0.040599</td>\n",
              "                        <td id=\"T_75728764_76f0_11eb_b706_0242ac1c0002row11_col20\" class=\"data row11 col20\" >-0.025308</td>\n",
              "                        <td id=\"T_75728764_76f0_11eb_b706_0242ac1c0002row11_col21\" class=\"data row11 col21\" >-0.066876</td>\n",
              "                        <td id=\"T_75728764_76f0_11eb_b706_0242ac1c0002row11_col22\" class=\"data row11 col22\" >-0.051392</td>\n",
              "                        <td id=\"T_75728764_76f0_11eb_b706_0242ac1c0002row11_col23\" class=\"data row11 col23\" >-0.007308</td>\n",
              "                        <td id=\"T_75728764_76f0_11eb_b706_0242ac1c0002row11_col24\" class=\"data row11 col24\" >-0.001973</td>\n",
              "                        <td id=\"T_75728764_76f0_11eb_b706_0242ac1c0002row11_col25\" class=\"data row11 col25\" >-0.027484</td>\n",
              "            </tr>\n",
              "            <tr>\n",
              "                        <th id=\"T_75728764_76f0_11eb_b706_0242ac1c0002level0_row12\" class=\"row_heading level0 row12\" >Adventure</th>\n",
              "                        <td id=\"T_75728764_76f0_11eb_b706_0242ac1c0002row12_col0\" class=\"data row12 col0\" >-0.029910</td>\n",
              "                        <td id=\"T_75728764_76f0_11eb_b706_0242ac1c0002row12_col1\" class=\"data row12 col1\" >-0.005197</td>\n",
              "                        <td id=\"T_75728764_76f0_11eb_b706_0242ac1c0002row12_col2\" class=\"data row12 col2\" >0.000597</td>\n",
              "                        <td id=\"T_75728764_76f0_11eb_b706_0242ac1c0002row12_col3\" class=\"data row12 col3\" >0.039925</td>\n",
              "                        <td id=\"T_75728764_76f0_11eb_b706_0242ac1c0002row12_col4\" class=\"data row12 col4\" >0.016479</td>\n",
              "                        <td id=\"T_75728764_76f0_11eb_b706_0242ac1c0002row12_col5\" class=\"data row12 col5\" >-0.175587</td>\n",
              "                        <td id=\"T_75728764_76f0_11eb_b706_0242ac1c0002row12_col6\" class=\"data row12 col6\" >-0.263121</td>\n",
              "                        <td id=\"T_75728764_76f0_11eb_b706_0242ac1c0002row12_col7\" class=\"data row12 col7\" >0.229831</td>\n",
              "                        <td id=\"T_75728764_76f0_11eb_b706_0242ac1c0002row12_col8\" class=\"data row12 col8\" >-0.092894</td>\n",
              "                        <td id=\"T_75728764_76f0_11eb_b706_0242ac1c0002row12_col9\" class=\"data row12 col9\" >-0.048767</td>\n",
              "                        <td id=\"T_75728764_76f0_11eb_b706_0242ac1c0002row12_col10\" class=\"data row12 col10\" >0.326693</td>\n",
              "                        <td id=\"T_75728764_76f0_11eb_b706_0242ac1c0002row12_col11\" class=\"data row12 col11\" >-0.043642</td>\n",
              "                        <td id=\"T_75728764_76f0_11eb_b706_0242ac1c0002row12_col12\" class=\"data row12 col12\" >1.000000</td>\n",
              "                        <td id=\"T_75728764_76f0_11eb_b706_0242ac1c0002row12_col13\" class=\"data row12 col13\" >0.146856</td>\n",
              "                        <td id=\"T_75728764_76f0_11eb_b706_0242ac1c0002row12_col14\" class=\"data row12 col14\" >-0.054349</td>\n",
              "                        <td id=\"T_75728764_76f0_11eb_b706_0242ac1c0002row12_col15\" class=\"data row12 col15\" >-0.135232</td>\n",
              "                        <td id=\"T_75728764_76f0_11eb_b706_0242ac1c0002row12_col16\" class=\"data row12 col16\" >0.039473</td>\n",
              "                        <td id=\"T_75728764_76f0_11eb_b706_0242ac1c0002row12_col17\" class=\"data row12 col17\" >-0.106653</td>\n",
              "                        <td id=\"T_75728764_76f0_11eb_b706_0242ac1c0002row12_col18\" class=\"data row12 col18\" >0.242876</td>\n",
              "                        <td id=\"T_75728764_76f0_11eb_b706_0242ac1c0002row12_col19\" class=\"data row12 col19\" >0.016364</td>\n",
              "                        <td id=\"T_75728764_76f0_11eb_b706_0242ac1c0002row12_col20\" class=\"data row12 col20\" >-0.043739</td>\n",
              "                        <td id=\"T_75728764_76f0_11eb_b706_0242ac1c0002row12_col21\" class=\"data row12 col21\" >0.224700</td>\n",
              "                        <td id=\"T_75728764_76f0_11eb_b706_0242ac1c0002row12_col22\" class=\"data row12 col22\" >0.225408</td>\n",
              "                        <td id=\"T_75728764_76f0_11eb_b706_0242ac1c0002row12_col23\" class=\"data row12 col23\" >-0.052467</td>\n",
              "                        <td id=\"T_75728764_76f0_11eb_b706_0242ac1c0002row12_col24\" class=\"data row12 col24\" >-0.004318</td>\n",
              "                        <td id=\"T_75728764_76f0_11eb_b706_0242ac1c0002row12_col25\" class=\"data row12 col25\" >-0.157446</td>\n",
              "            </tr>\n",
              "            <tr>\n",
              "                        <th id=\"T_75728764_76f0_11eb_b706_0242ac1c0002level0_row13\" class=\"row_heading level0 row13\" >IMAX</th>\n",
              "                        <td id=\"T_75728764_76f0_11eb_b706_0242ac1c0002row13_col0\" class=\"data row13 col0\" >-0.005292</td>\n",
              "                        <td id=\"T_75728764_76f0_11eb_b706_0242ac1c0002row13_col1\" class=\"data row13 col1\" >0.259789</td>\n",
              "                        <td id=\"T_75728764_76f0_11eb_b706_0242ac1c0002row13_col2\" class=\"data row13 col2\" >0.020590</td>\n",
              "                        <td id=\"T_75728764_76f0_11eb_b706_0242ac1c0002row13_col3\" class=\"data row13 col3\" >0.146901</td>\n",
              "                        <td id=\"T_75728764_76f0_11eb_b706_0242ac1c0002row13_col4\" class=\"data row13 col4\" >0.109262</td>\n",
              "                        <td id=\"T_75728764_76f0_11eb_b706_0242ac1c0002row13_col5\" class=\"data row13 col5\" >-0.015960</td>\n",
              "                        <td id=\"T_75728764_76f0_11eb_b706_0242ac1c0002row13_col6\" class=\"data row13 col6\" >-0.053649</td>\n",
              "                        <td id=\"T_75728764_76f0_11eb_b706_0242ac1c0002row13_col7\" class=\"data row13 col7\" >0.121531</td>\n",
              "                        <td id=\"T_75728764_76f0_11eb_b706_0242ac1c0002row13_col8\" class=\"data row13 col8\" >-0.000521</td>\n",
              "                        <td id=\"T_75728764_76f0_11eb_b706_0242ac1c0002row13_col9\" class=\"data row13 col9\" >-0.005703</td>\n",
              "                        <td id=\"T_75728764_76f0_11eb_b706_0242ac1c0002row13_col10\" class=\"data row13 col10\" >0.122091</td>\n",
              "                        <td id=\"T_75728764_76f0_11eb_b706_0242ac1c0002row13_col11\" class=\"data row13 col11\" >-0.020055</td>\n",
              "                        <td id=\"T_75728764_76f0_11eb_b706_0242ac1c0002row13_col12\" class=\"data row13 col12\" >0.146856</td>\n",
              "                        <td id=\"T_75728764_76f0_11eb_b706_0242ac1c0002row13_col13\" class=\"data row13 col13\" >1.000000</td>\n",
              "                        <td id=\"T_75728764_76f0_11eb_b706_0242ac1c0002row13_col14\" class=\"data row13 col14\" >-0.098145</td>\n",
              "                        <td id=\"T_75728764_76f0_11eb_b706_0242ac1c0002row13_col15\" class=\"data row13 col15\" >-0.047398</td>\n",
              "                        <td id=\"T_75728764_76f0_11eb_b706_0242ac1c0002row13_col16\" class=\"data row13 col16\" >-0.021152</td>\n",
              "                        <td id=\"T_75728764_76f0_11eb_b706_0242ac1c0002row13_col17\" class=\"data row13 col17\" >-0.028486</td>\n",
              "                        <td id=\"T_75728764_76f0_11eb_b706_0242ac1c0002row13_col18\" class=\"data row13 col18\" >0.090374</td>\n",
              "                        <td id=\"T_75728764_76f0_11eb_b706_0242ac1c0002row13_col19\" class=\"data row13 col19\" >0.070289</td>\n",
              "                        <td id=\"T_75728764_76f0_11eb_b706_0242ac1c0002row13_col20\" class=\"data row13 col20\" >-0.018557</td>\n",
              "                        <td id=\"T_75728764_76f0_11eb_b706_0242ac1c0002row13_col21\" class=\"data row13 col21\" >0.084171</td>\n",
              "                        <td id=\"T_75728764_76f0_11eb_b706_0242ac1c0002row13_col22\" class=\"data row13 col22\" >0.112817</td>\n",
              "                        <td id=\"T_75728764_76f0_11eb_b706_0242ac1c0002row13_col23\" class=\"data row13 col23\" >-0.009987</td>\n",
              "                        <td id=\"T_75728764_76f0_11eb_b706_0242ac1c0002row13_col24\" class=\"data row13 col24\" >-0.001403</td>\n",
              "                        <td id=\"T_75728764_76f0_11eb_b706_0242ac1c0002row13_col25\" class=\"data row13 col25\" >-0.046686</td>\n",
              "            </tr>\n",
              "            <tr>\n",
              "                        <th id=\"T_75728764_76f0_11eb_b706_0242ac1c0002level0_row14\" class=\"row_heading level0 row14\" >Comedy</th>\n",
              "                        <td id=\"T_75728764_76f0_11eb_b706_0242ac1c0002row14_col0\" class=\"data row14 col0\" >-0.025842</td>\n",
              "                        <td id=\"T_75728764_76f0_11eb_b706_0242ac1c0002row14_col1\" class=\"data row14 col1\" >-0.052097</td>\n",
              "                        <td id=\"T_75728764_76f0_11eb_b706_0242ac1c0002row14_col2\" class=\"data row14 col2\" >-0.068992</td>\n",
              "                        <td id=\"T_75728764_76f0_11eb_b706_0242ac1c0002row14_col3\" class=\"data row14 col3\" >-0.029675</td>\n",
              "                        <td id=\"T_75728764_76f0_11eb_b706_0242ac1c0002row14_col4\" class=\"data row14 col4\" >0.027084</td>\n",
              "                        <td id=\"T_75728764_76f0_11eb_b706_0242ac1c0002row14_col5\" class=\"data row14 col5\" >-0.081901</td>\n",
              "                        <td id=\"T_75728764_76f0_11eb_b706_0242ac1c0002row14_col6\" class=\"data row14 col6\" >-0.273974</td>\n",
              "                        <td id=\"T_75728764_76f0_11eb_b706_0242ac1c0002row14_col7\" class=\"data row14 col7\" >-0.165318</td>\n",
              "                        <td id=\"T_75728764_76f0_11eb_b706_0242ac1c0002row14_col8\" class=\"data row14 col8\" >-0.160737</td>\n",
              "                        <td id=\"T_75728764_76f0_11eb_b706_0242ac1c0002row14_col9\" class=\"data row14 col9\" >-0.330275</td>\n",
              "                        <td id=\"T_75728764_76f0_11eb_b706_0242ac1c0002row14_col10\" class=\"data row14 col10\" >-0.223732</td>\n",
              "                        <td id=\"T_75728764_76f0_11eb_b706_0242ac1c0002row14_col11\" class=\"data row14 col11\" >-0.080084</td>\n",
              "                        <td id=\"T_75728764_76f0_11eb_b706_0242ac1c0002row14_col12\" class=\"data row14 col12\" >-0.054349</td>\n",
              "                        <td id=\"T_75728764_76f0_11eb_b706_0242ac1c0002row14_col13\" class=\"data row14 col13\" >-0.098145</td>\n",
              "                        <td id=\"T_75728764_76f0_11eb_b706_0242ac1c0002row14_col14\" class=\"data row14 col14\" >1.000000</td>\n",
              "                        <td id=\"T_75728764_76f0_11eb_b706_0242ac1c0002row14_col15\" class=\"data row14 col15\" >0.181808</td>\n",
              "                        <td id=\"T_75728764_76f0_11eb_b706_0242ac1c0002row14_col16\" class=\"data row14 col16\" >-0.030465</td>\n",
              "                        <td id=\"T_75728764_76f0_11eb_b706_0242ac1c0002row14_col17\" class=\"data row14 col17\" >-0.106107</td>\n",
              "                        <td id=\"T_75728764_76f0_11eb_b706_0242ac1c0002row14_col18\" class=\"data row14 col18\" >0.074404</td>\n",
              "                        <td id=\"T_75728764_76f0_11eb_b706_0242ac1c0002row14_col19\" class=\"data row14 col19\" >0.049836</td>\n",
              "                        <td id=\"T_75728764_76f0_11eb_b706_0242ac1c0002row14_col20\" class=\"data row14 col20\" >-0.077546</td>\n",
              "                        <td id=\"T_75728764_76f0_11eb_b706_0242ac1c0002row14_col21\" class=\"data row14 col21\" >0.117768</td>\n",
              "                        <td id=\"T_75728764_76f0_11eb_b706_0242ac1c0002row14_col22\" class=\"data row14 col22\" >0.087011</td>\n",
              "                        <td id=\"T_75728764_76f0_11eb_b706_0242ac1c0002row14_col23\" class=\"data row14 col23\" >-0.051769</td>\n",
              "                        <td id=\"T_75728764_76f0_11eb_b706_0242ac1c0002row14_col24\" class=\"data row14 col24\" >-0.006131</td>\n",
              "                        <td id=\"T_75728764_76f0_11eb_b706_0242ac1c0002row14_col25\" class=\"data row14 col25\" >-0.027953</td>\n",
              "            </tr>\n",
              "            <tr>\n",
              "                        <th id=\"T_75728764_76f0_11eb_b706_0242ac1c0002level0_row15\" class=\"row_heading level0 row15\" >Romance</th>\n",
              "                        <td id=\"T_75728764_76f0_11eb_b706_0242ac1c0002row15_col0\" class=\"data row15 col0\" >-0.013646</td>\n",
              "                        <td id=\"T_75728764_76f0_11eb_b706_0242ac1c0002row15_col1\" class=\"data row15 col1\" >-0.053601</td>\n",
              "                        <td id=\"T_75728764_76f0_11eb_b706_0242ac1c0002row15_col2\" class=\"data row15 col2\" >0.012341</td>\n",
              "                        <td id=\"T_75728764_76f0_11eb_b706_0242ac1c0002row15_col3\" class=\"data row15 col3\" >-0.059208</td>\n",
              "                        <td id=\"T_75728764_76f0_11eb_b706_0242ac1c0002row15_col4\" class=\"data row15 col4\" >-0.016159</td>\n",
              "                        <td id=\"T_75728764_76f0_11eb_b706_0242ac1c0002row15_col5\" class=\"data row15 col5\" >-0.157722</td>\n",
              "                        <td id=\"T_75728764_76f0_11eb_b706_0242ac1c0002row15_col6\" class=\"data row15 col6\" >0.106983</td>\n",
              "                        <td id=\"T_75728764_76f0_11eb_b706_0242ac1c0002row15_col7\" class=\"data row15 col7\" >-0.157400</td>\n",
              "                        <td id=\"T_75728764_76f0_11eb_b706_0242ac1c0002row15_col8\" class=\"data row15 col8\" >-0.066158</td>\n",
              "                        <td id=\"T_75728764_76f0_11eb_b706_0242ac1c0002row15_col9\" class=\"data row15 col9\" >-0.169670</td>\n",
              "                        <td id=\"T_75728764_76f0_11eb_b706_0242ac1c0002row15_col10\" class=\"data row15 col10\" >-0.171803</td>\n",
              "                        <td id=\"T_75728764_76f0_11eb_b706_0242ac1c0002row15_col11\" class=\"data row15 col11\" >0.013215</td>\n",
              "                        <td id=\"T_75728764_76f0_11eb_b706_0242ac1c0002row15_col12\" class=\"data row15 col12\" >-0.135232</td>\n",
              "                        <td id=\"T_75728764_76f0_11eb_b706_0242ac1c0002row15_col13\" class=\"data row15 col13\" >-0.047398</td>\n",
              "                        <td id=\"T_75728764_76f0_11eb_b706_0242ac1c0002row15_col14\" class=\"data row15 col14\" >0.181808</td>\n",
              "                        <td id=\"T_75728764_76f0_11eb_b706_0242ac1c0002row15_col15\" class=\"data row15 col15\" >1.000000</td>\n",
              "                        <td id=\"T_75728764_76f0_11eb_b706_0242ac1c0002row15_col16\" class=\"data row15 col16\" >-0.026301</td>\n",
              "                        <td id=\"T_75728764_76f0_11eb_b706_0242ac1c0002row15_col17\" class=\"data row15 col17\" >-0.112761</td>\n",
              "                        <td id=\"T_75728764_76f0_11eb_b706_0242ac1c0002row15_col18\" class=\"data row15 col18\" >0.036605</td>\n",
              "                        <td id=\"T_75728764_76f0_11eb_b706_0242ac1c0002row15_col19\" class=\"data row15 col19\" >0.072451</td>\n",
              "                        <td id=\"T_75728764_76f0_11eb_b706_0242ac1c0002row15_col20\" class=\"data row15 col20\" >-0.028752</td>\n",
              "                        <td id=\"T_75728764_76f0_11eb_b706_0242ac1c0002row15_col21\" class=\"data row15 col21\" >-0.047072</td>\n",
              "                        <td id=\"T_75728764_76f0_11eb_b706_0242ac1c0002row15_col22\" class=\"data row15 col22\" >-0.013690</td>\n",
              "                        <td id=\"T_75728764_76f0_11eb_b706_0242ac1c0002row15_col23\" class=\"data row15 col23\" >-0.050405</td>\n",
              "                        <td id=\"T_75728764_76f0_11eb_b706_0242ac1c0002row15_col24\" class=\"data row15 col24\" >-0.003836</td>\n",
              "                        <td id=\"T_75728764_76f0_11eb_b706_0242ac1c0002row15_col25\" class=\"data row15 col25\" >-0.013521</td>\n",
              "            </tr>\n",
              "            <tr>\n",
              "                        <th id=\"T_75728764_76f0_11eb_b706_0242ac1c0002level0_row16\" class=\"row_heading level0 row16\" >Western</th>\n",
              "                        <td id=\"T_75728764_76f0_11eb_b706_0242ac1c0002row16_col0\" class=\"data row16 col0\" >0.008007</td>\n",
              "                        <td id=\"T_75728764_76f0_11eb_b706_0242ac1c0002row16_col1\" class=\"data row16 col1\" >-0.015805</td>\n",
              "                        <td id=\"T_75728764_76f0_11eb_b706_0242ac1c0002row16_col2\" class=\"data row16 col2\" >0.007005</td>\n",
              "                        <td id=\"T_75728764_76f0_11eb_b706_0242ac1c0002row16_col3\" class=\"data row16 col3\" >-0.024549</td>\n",
              "                        <td id=\"T_75728764_76f0_11eb_b706_0242ac1c0002row16_col4\" class=\"data row16 col4\" >-0.050406</td>\n",
              "                        <td id=\"T_75728764_76f0_11eb_b706_0242ac1c0002row16_col5\" class=\"data row16 col5\" >-0.050917</td>\n",
              "                        <td id=\"T_75728764_76f0_11eb_b706_0242ac1c0002row16_col6\" class=\"data row16 col6\" >-0.011542</td>\n",
              "                        <td id=\"T_75728764_76f0_11eb_b706_0242ac1c0002row16_col7\" class=\"data row16 col7\" >-0.032365</td>\n",
              "                        <td id=\"T_75728764_76f0_11eb_b706_0242ac1c0002row16_col8\" class=\"data row16 col8\" >-0.029720</td>\n",
              "                        <td id=\"T_75728764_76f0_11eb_b706_0242ac1c0002row16_col9\" class=\"data row16 col9\" >-0.070453</td>\n",
              "                        <td id=\"T_75728764_76f0_11eb_b706_0242ac1c0002row16_col10\" class=\"data row16 col10\" >0.027875</td>\n",
              "                        <td id=\"T_75728764_76f0_11eb_b706_0242ac1c0002row16_col11\" class=\"data row16 col11\" >0.009342</td>\n",
              "                        <td id=\"T_75728764_76f0_11eb_b706_0242ac1c0002row16_col12\" class=\"data row16 col12\" >0.039473</td>\n",
              "                        <td id=\"T_75728764_76f0_11eb_b706_0242ac1c0002row16_col13\" class=\"data row16 col13\" >-0.021152</td>\n",
              "                        <td id=\"T_75728764_76f0_11eb_b706_0242ac1c0002row16_col14\" class=\"data row16 col14\" >-0.030465</td>\n",
              "                        <td id=\"T_75728764_76f0_11eb_b706_0242ac1c0002row16_col15\" class=\"data row16 col15\" >-0.026301</td>\n",
              "                        <td id=\"T_75728764_76f0_11eb_b706_0242ac1c0002row16_col16\" class=\"data row16 col16\" >1.000000</td>\n",
              "                        <td id=\"T_75728764_76f0_11eb_b706_0242ac1c0002row16_col17\" class=\"data row16 col17\" >-0.035329</td>\n",
              "                        <td id=\"T_75728764_76f0_11eb_b706_0242ac1c0002row16_col18\" class=\"data row16 col18\" >-0.049823</td>\n",
              "                        <td id=\"T_75728764_76f0_11eb_b706_0242ac1c0002row16_col19\" class=\"data row16 col19\" >-0.021363</td>\n",
              "                        <td id=\"T_75728764_76f0_11eb_b706_0242ac1c0002row16_col20\" class=\"data row16 col20\" >-0.014940</td>\n",
              "                        <td id=\"T_75728764_76f0_11eb_b706_0242ac1c0002row16_col21\" class=\"data row16 col21\" >-0.033767</td>\n",
              "                        <td id=\"T_75728764_76f0_11eb_b706_0242ac1c0002row16_col22\" class=\"data row16 col22\" >-0.029997</td>\n",
              "                        <td id=\"T_75728764_76f0_11eb_b706_0242ac1c0002row16_col23\" class=\"data row16 col23\" >-0.016128</td>\n",
              "                        <td id=\"T_75728764_76f0_11eb_b706_0242ac1c0002row16_col24\" class=\"data row16 col24\" >-0.001222</td>\n",
              "                        <td id=\"T_75728764_76f0_11eb_b706_0242ac1c0002row16_col25\" class=\"data row16 col25\" >0.001335</td>\n",
              "            </tr>\n",
              "            <tr>\n",
              "                        <th id=\"T_75728764_76f0_11eb_b706_0242ac1c0002level0_row17\" class=\"row_heading level0 row17\" >Horror</th>\n",
              "                        <td id=\"T_75728764_76f0_11eb_b706_0242ac1c0002row17_col0\" class=\"data row17 col0\" >0.010927</td>\n",
              "                        <td id=\"T_75728764_76f0_11eb_b706_0242ac1c0002row17_col1\" class=\"data row17 col1\" >0.005653</td>\n",
              "                        <td id=\"T_75728764_76f0_11eb_b706_0242ac1c0002row17_col2\" class=\"data row17 col2\" >-0.064610</td>\n",
              "                        <td id=\"T_75728764_76f0_11eb_b706_0242ac1c0002row17_col3\" class=\"data row17 col3\" >0.022950</td>\n",
              "                        <td id=\"T_75728764_76f0_11eb_b706_0242ac1c0002row17_col4\" class=\"data row17 col4\" >-0.007740</td>\n",
              "                        <td id=\"T_75728764_76f0_11eb_b706_0242ac1c0002row17_col5\" class=\"data row17 col5\" >-0.061472</td>\n",
              "                        <td id=\"T_75728764_76f0_11eb_b706_0242ac1c0002row17_col6\" class=\"data row17 col6\" >-0.143019</td>\n",
              "                        <td id=\"T_75728764_76f0_11eb_b706_0242ac1c0002row17_col7\" class=\"data row17 col7\" >0.076644</td>\n",
              "                        <td id=\"T_75728764_76f0_11eb_b706_0242ac1c0002row17_col8\" class=\"data row17 col8\" >0.099810</td>\n",
              "                        <td id=\"T_75728764_76f0_11eb_b706_0242ac1c0002row17_col9\" class=\"data row17 col9\" >0.164003</td>\n",
              "                        <td id=\"T_75728764_76f0_11eb_b706_0242ac1c0002row17_col10\" class=\"data row17 col10\" >-0.044688</td>\n",
              "                        <td id=\"T_75728764_76f0_11eb_b706_0242ac1c0002row17_col11\" class=\"data row17 col11\" >-0.066788</td>\n",
              "                        <td id=\"T_75728764_76f0_11eb_b706_0242ac1c0002row17_col12\" class=\"data row17 col12\" >-0.106653</td>\n",
              "                        <td id=\"T_75728764_76f0_11eb_b706_0242ac1c0002row17_col13\" class=\"data row17 col13\" >-0.028486</td>\n",
              "                        <td id=\"T_75728764_76f0_11eb_b706_0242ac1c0002row17_col14\" class=\"data row17 col14\" >-0.106107</td>\n",
              "                        <td id=\"T_75728764_76f0_11eb_b706_0242ac1c0002row17_col15\" class=\"data row17 col15\" >-0.112761</td>\n",
              "                        <td id=\"T_75728764_76f0_11eb_b706_0242ac1c0002row17_col16\" class=\"data row17 col16\" >-0.035329</td>\n",
              "                        <td id=\"T_75728764_76f0_11eb_b706_0242ac1c0002row17_col17\" class=\"data row17 col17\" >1.000000</td>\n",
              "                        <td id=\"T_75728764_76f0_11eb_b706_0242ac1c0002row17_col18\" class=\"data row17 col18\" >0.018356</td>\n",
              "                        <td id=\"T_75728764_76f0_11eb_b706_0242ac1c0002row17_col19\" class=\"data row17 col19\" >-0.037921</td>\n",
              "                        <td id=\"T_75728764_76f0_11eb_b706_0242ac1c0002row17_col20\" class=\"data row17 col20\" >-0.025482</td>\n",
              "                        <td id=\"T_75728764_76f0_11eb_b706_0242ac1c0002row17_col21\" class=\"data row17 col21\" >-0.081423</td>\n",
              "                        <td id=\"T_75728764_76f0_11eb_b706_0242ac1c0002row17_col22\" class=\"data row17 col22\" >-0.061318</td>\n",
              "                        <td id=\"T_75728764_76f0_11eb_b706_0242ac1c0002row17_col23\" class=\"data row17 col23\" >-0.029130</td>\n",
              "                        <td id=\"T_75728764_76f0_11eb_b706_0242ac1c0002row17_col24\" class=\"data row17 col24\" >-0.002334</td>\n",
              "                        <td id=\"T_75728764_76f0_11eb_b706_0242ac1c0002row17_col25\" class=\"data row17 col25\" >0.050379</td>\n",
              "            </tr>\n",
              "            <tr>\n",
              "                        <th id=\"T_75728764_76f0_11eb_b706_0242ac1c0002level0_row18\" class=\"row_heading level0 row18\" >Fantasy</th>\n",
              "                        <td id=\"T_75728764_76f0_11eb_b706_0242ac1c0002row18_col0\" class=\"data row18 col0\" >-0.017500</td>\n",
              "                        <td id=\"T_75728764_76f0_11eb_b706_0242ac1c0002row18_col1\" class=\"data row18 col1\" >0.003847</td>\n",
              "                        <td id=\"T_75728764_76f0_11eb_b706_0242ac1c0002row18_col2\" class=\"data row18 col2\" >-0.005327</td>\n",
              "                        <td id=\"T_75728764_76f0_11eb_b706_0242ac1c0002row18_col3\" class=\"data row18 col3\" >0.041151</td>\n",
              "                        <td id=\"T_75728764_76f0_11eb_b706_0242ac1c0002row18_col4\" class=\"data row18 col4\" >0.003097</td>\n",
              "                        <td id=\"T_75728764_76f0_11eb_b706_0242ac1c0002row18_col5\" class=\"data row18 col5\" >-0.117119</td>\n",
              "                        <td id=\"T_75728764_76f0_11eb_b706_0242ac1c0002row18_col6\" class=\"data row18 col6\" >-0.149451</td>\n",
              "                        <td id=\"T_75728764_76f0_11eb_b706_0242ac1c0002row18_col7\" class=\"data row18 col7\" >-0.067811</td>\n",
              "                        <td id=\"T_75728764_76f0_11eb_b706_0242ac1c0002row18_col8\" class=\"data row18 col8\" >-0.021856</td>\n",
              "                        <td id=\"T_75728764_76f0_11eb_b706_0242ac1c0002row18_col9\" class=\"data row18 col9\" >-0.131299</td>\n",
              "                        <td id=\"T_75728764_76f0_11eb_b706_0242ac1c0002row18_col10\" class=\"data row18 col10\" >-0.019716</td>\n",
              "                        <td id=\"T_75728764_76f0_11eb_b706_0242ac1c0002row18_col11\" class=\"data row18 col11\" >-0.067304</td>\n",
              "                        <td id=\"T_75728764_76f0_11eb_b706_0242ac1c0002row18_col12\" class=\"data row18 col12\" >0.242876</td>\n",
              "                        <td id=\"T_75728764_76f0_11eb_b706_0242ac1c0002row18_col13\" class=\"data row18 col13\" >0.090374</td>\n",
              "                        <td id=\"T_75728764_76f0_11eb_b706_0242ac1c0002row18_col14\" class=\"data row18 col14\" >0.074404</td>\n",
              "                        <td id=\"T_75728764_76f0_11eb_b706_0242ac1c0002row18_col15\" class=\"data row18 col15\" >0.036605</td>\n",
              "                        <td id=\"T_75728764_76f0_11eb_b706_0242ac1c0002row18_col16\" class=\"data row18 col16\" >-0.049823</td>\n",
              "                        <td id=\"T_75728764_76f0_11eb_b706_0242ac1c0002row18_col17\" class=\"data row18 col17\" >0.018356</td>\n",
              "                        <td id=\"T_75728764_76f0_11eb_b706_0242ac1c0002row18_col18\" class=\"data row18 col18\" >1.000000</td>\n",
              "                        <td id=\"T_75728764_76f0_11eb_b706_0242ac1c0002row18_col19\" class=\"data row18 col19\" >0.116758</td>\n",
              "                        <td id=\"T_75728764_76f0_11eb_b706_0242ac1c0002row18_col20\" class=\"data row18 col20\" >-0.031042</td>\n",
              "                        <td id=\"T_75728764_76f0_11eb_b706_0242ac1c0002row18_col21\" class=\"data row18 col21\" >0.301516</td>\n",
              "                        <td id=\"T_75728764_76f0_11eb_b706_0242ac1c0002row18_col22\" class=\"data row18 col22\" >0.238141</td>\n",
              "                        <td id=\"T_75728764_76f0_11eb_b706_0242ac1c0002row18_col23\" class=\"data row18 col23\" >-0.036247</td>\n",
              "                        <td id=\"T_75728764_76f0_11eb_b706_0242ac1c0002row18_col24\" class=\"data row18 col24\" >-0.002768</td>\n",
              "                        <td id=\"T_75728764_76f0_11eb_b706_0242ac1c0002row18_col25\" class=\"data row18 col25\" >-0.073705</td>\n",
              "            </tr>\n",
              "            <tr>\n",
              "                        <th id=\"T_75728764_76f0_11eb_b706_0242ac1c0002level0_row19\" class=\"row_heading level0 row19\" >Musical</th>\n",
              "                        <td id=\"T_75728764_76f0_11eb_b706_0242ac1c0002row19_col0\" class=\"data row19 col0\" >-0.010619</td>\n",
              "                        <td id=\"T_75728764_76f0_11eb_b706_0242ac1c0002row19_col1\" class=\"data row19 col1\" >-0.045632</td>\n",
              "                        <td id=\"T_75728764_76f0_11eb_b706_0242ac1c0002row19_col2\" class=\"data row19 col2\" >0.010864</td>\n",
              "                        <td id=\"T_75728764_76f0_11eb_b706_0242ac1c0002row19_col3\" class=\"data row19 col3\" >-0.039274</td>\n",
              "                        <td id=\"T_75728764_76f0_11eb_b706_0242ac1c0002row19_col4\" class=\"data row19 col4\" >-0.119995</td>\n",
              "                        <td id=\"T_75728764_76f0_11eb_b706_0242ac1c0002row19_col5\" class=\"data row19 col5\" >-0.086171</td>\n",
              "                        <td id=\"T_75728764_76f0_11eb_b706_0242ac1c0002row19_col6\" class=\"data row19 col6\" >-0.059170</td>\n",
              "                        <td id=\"T_75728764_76f0_11eb_b706_0242ac1c0002row19_col7\" class=\"data row19 col7\" >-0.078680</td>\n",
              "                        <td id=\"T_75728764_76f0_11eb_b706_0242ac1c0002row19_col8\" class=\"data row19 col8\" >-0.058535</td>\n",
              "                        <td id=\"T_75728764_76f0_11eb_b706_0242ac1c0002row19_col9\" class=\"data row19 col9\" >-0.125031</td>\n",
              "                        <td id=\"T_75728764_76f0_11eb_b706_0242ac1c0002row19_col10\" class=\"data row19 col10\" >-0.118794</td>\n",
              "                        <td id=\"T_75728764_76f0_11eb_b706_0242ac1c0002row19_col11\" class=\"data row19 col11\" >-0.040599</td>\n",
              "                        <td id=\"T_75728764_76f0_11eb_b706_0242ac1c0002row19_col12\" class=\"data row19 col12\" >0.016364</td>\n",
              "                        <td id=\"T_75728764_76f0_11eb_b706_0242ac1c0002row19_col13\" class=\"data row19 col13\" >0.070289</td>\n",
              "                        <td id=\"T_75728764_76f0_11eb_b706_0242ac1c0002row19_col14\" class=\"data row19 col14\" >0.049836</td>\n",
              "                        <td id=\"T_75728764_76f0_11eb_b706_0242ac1c0002row19_col15\" class=\"data row19 col15\" >0.072451</td>\n",
              "                        <td id=\"T_75728764_76f0_11eb_b706_0242ac1c0002row19_col16\" class=\"data row19 col16\" >-0.021363</td>\n",
              "                        <td id=\"T_75728764_76f0_11eb_b706_0242ac1c0002row19_col17\" class=\"data row19 col17\" >-0.037921</td>\n",
              "                        <td id=\"T_75728764_76f0_11eb_b706_0242ac1c0002row19_col18\" class=\"data row19 col18\" >0.116758</td>\n",
              "                        <td id=\"T_75728764_76f0_11eb_b706_0242ac1c0002row19_col19\" class=\"data row19 col19\" >1.000000</td>\n",
              "                        <td id=\"T_75728764_76f0_11eb_b706_0242ac1c0002row19_col20\" class=\"data row19 col20\" >-0.021301</td>\n",
              "                        <td id=\"T_75728764_76f0_11eb_b706_0242ac1c0002row19_col21\" class=\"data row19 col21\" >0.324355</td>\n",
              "                        <td id=\"T_75728764_76f0_11eb_b706_0242ac1c0002row19_col22\" class=\"data row19 col22\" >0.328248</td>\n",
              "                        <td id=\"T_75728764_76f0_11eb_b706_0242ac1c0002row19_col23\" class=\"data row19 col23\" >0.013512</td>\n",
              "                        <td id=\"T_75728764_76f0_11eb_b706_0242ac1c0002row19_col24\" class=\"data row19 col24\" >-0.001679</td>\n",
              "                        <td id=\"T_75728764_76f0_11eb_b706_0242ac1c0002row19_col25\" class=\"data row19 col25\" >-0.008815</td>\n",
              "            </tr>\n",
              "            <tr>\n",
              "                        <th id=\"T_75728764_76f0_11eb_b706_0242ac1c0002level0_row20\" class=\"row_heading level0 row20\" >Film-Noir</th>\n",
              "                        <td id=\"T_75728764_76f0_11eb_b706_0242ac1c0002row20_col0\" class=\"data row20 col0\" >0.012279</td>\n",
              "                        <td id=\"T_75728764_76f0_11eb_b706_0242ac1c0002row20_col1\" class=\"data row20 col1\" >-0.005302</td>\n",
              "                        <td id=\"T_75728764_76f0_11eb_b706_0242ac1c0002row20_col2\" class=\"data row20 col2\" >0.040936</td>\n",
              "                        <td id=\"T_75728764_76f0_11eb_b706_0242ac1c0002row20_col3\" class=\"data row20 col3\" >-0.002958</td>\n",
              "                        <td id=\"T_75728764_76f0_11eb_b706_0242ac1c0002row20_col4\" class=\"data row20 col4\" >-0.092963</td>\n",
              "                        <td id=\"T_75728764_76f0_11eb_b706_0242ac1c0002row20_col5\" class=\"data row20 col5\" >0.143675</td>\n",
              "                        <td id=\"T_75728764_76f0_11eb_b706_0242ac1c0002row20_col6\" class=\"data row20 col6\" >-0.006348</td>\n",
              "                        <td id=\"T_75728764_76f0_11eb_b706_0242ac1c0002row20_col7\" class=\"data row20 col7\" >-0.031373</td>\n",
              "                        <td id=\"T_75728764_76f0_11eb_b706_0242ac1c0002row20_col8\" class=\"data row20 col8\" >0.164636</td>\n",
              "                        <td id=\"T_75728764_76f0_11eb_b706_0242ac1c0002row20_col9\" class=\"data row20 col9\" >0.079454</td>\n",
              "                        <td id=\"T_75728764_76f0_11eb_b706_0242ac1c0002row20_col10\" class=\"data row20 col10\" >-0.052572</td>\n",
              "                        <td id=\"T_75728764_76f0_11eb_b706_0242ac1c0002row20_col11\" class=\"data row20 col11\" >-0.025308</td>\n",
              "                        <td id=\"T_75728764_76f0_11eb_b706_0242ac1c0002row20_col12\" class=\"data row20 col12\" >-0.043739</td>\n",
              "                        <td id=\"T_75728764_76f0_11eb_b706_0242ac1c0002row20_col13\" class=\"data row20 col13\" >-0.018557</td>\n",
              "                        <td id=\"T_75728764_76f0_11eb_b706_0242ac1c0002row20_col14\" class=\"data row20 col14\" >-0.077546</td>\n",
              "                        <td id=\"T_75728764_76f0_11eb_b706_0242ac1c0002row20_col15\" class=\"data row20 col15\" >-0.028752</td>\n",
              "                        <td id=\"T_75728764_76f0_11eb_b706_0242ac1c0002row20_col16\" class=\"data row20 col16\" >-0.014940</td>\n",
              "                        <td id=\"T_75728764_76f0_11eb_b706_0242ac1c0002row20_col17\" class=\"data row20 col17\" >-0.025482</td>\n",
              "                        <td id=\"T_75728764_76f0_11eb_b706_0242ac1c0002row20_col18\" class=\"data row20 col18\" >-0.031042</td>\n",
              "                        <td id=\"T_75728764_76f0_11eb_b706_0242ac1c0002row20_col19\" class=\"data row20 col19\" >-0.021301</td>\n",
              "                        <td id=\"T_75728764_76f0_11eb_b706_0242ac1c0002row20_col20\" class=\"data row20 col20\" >1.000000</td>\n",
              "                        <td id=\"T_75728764_76f0_11eb_b706_0242ac1c0002row20_col21\" class=\"data row20 col21\" >-0.031108</td>\n",
              "                        <td id=\"T_75728764_76f0_11eb_b706_0242ac1c0002row20_col22\" class=\"data row20 col22\" >-0.024486</td>\n",
              "                        <td id=\"T_75728764_76f0_11eb_b706_0242ac1c0002row20_col23\" class=\"data row20 col23\" >-0.011601</td>\n",
              "                        <td id=\"T_75728764_76f0_11eb_b706_0242ac1c0002row20_col24\" class=\"data row20 col24\" >-0.000879</td>\n",
              "                        <td id=\"T_75728764_76f0_11eb_b706_0242ac1c0002row20_col25\" class=\"data row20 col25\" >0.027858</td>\n",
              "            </tr>\n",
              "            <tr>\n",
              "                        <th id=\"T_75728764_76f0_11eb_b706_0242ac1c0002level0_row21\" class=\"row_heading level0 row21\" >Children</th>\n",
              "                        <td id=\"T_75728764_76f0_11eb_b706_0242ac1c0002row21_col0\" class=\"data row21 col0\" >-0.026222</td>\n",
              "                        <td id=\"T_75728764_76f0_11eb_b706_0242ac1c0002row21_col1\" class=\"data row21 col1\" >-0.032324</td>\n",
              "                        <td id=\"T_75728764_76f0_11eb_b706_0242ac1c0002row21_col2\" class=\"data row21 col2\" >-0.021383</td>\n",
              "                        <td id=\"T_75728764_76f0_11eb_b706_0242ac1c0002row21_col3\" class=\"data row21 col3\" >-0.014914</td>\n",
              "                        <td id=\"T_75728764_76f0_11eb_b706_0242ac1c0002row21_col4\" class=\"data row21 col4\" >-0.028023</td>\n",
              "                        <td id=\"T_75728764_76f0_11eb_b706_0242ac1c0002row21_col5\" class=\"data row21 col5\" >-0.107917</td>\n",
              "                        <td id=\"T_75728764_76f0_11eb_b706_0242ac1c0002row21_col6\" class=\"data row21 col6\" >-0.143896</td>\n",
              "                        <td id=\"T_75728764_76f0_11eb_b706_0242ac1c0002row21_col7\" class=\"data row21 col7\" >-0.052188</td>\n",
              "                        <td id=\"T_75728764_76f0_11eb_b706_0242ac1c0002row21_col8\" class=\"data row21 col8\" >-0.058876</td>\n",
              "                        <td id=\"T_75728764_76f0_11eb_b706_0242ac1c0002row21_col9\" class=\"data row21 col9\" >-0.177334</td>\n",
              "                        <td id=\"T_75728764_76f0_11eb_b706_0242ac1c0002row21_col10\" class=\"data row21 col10\" >-0.139852</td>\n",
              "                        <td id=\"T_75728764_76f0_11eb_b706_0242ac1c0002row21_col11\" class=\"data row21 col11\" >-0.066876</td>\n",
              "                        <td id=\"T_75728764_76f0_11eb_b706_0242ac1c0002row21_col12\" class=\"data row21 col12\" >0.224700</td>\n",
              "                        <td id=\"T_75728764_76f0_11eb_b706_0242ac1c0002row21_col13\" class=\"data row21 col13\" >0.084171</td>\n",
              "                        <td id=\"T_75728764_76f0_11eb_b706_0242ac1c0002row21_col14\" class=\"data row21 col14\" >0.117768</td>\n",
              "                        <td id=\"T_75728764_76f0_11eb_b706_0242ac1c0002row21_col15\" class=\"data row21 col15\" >-0.047072</td>\n",
              "                        <td id=\"T_75728764_76f0_11eb_b706_0242ac1c0002row21_col16\" class=\"data row21 col16\" >-0.033767</td>\n",
              "                        <td id=\"T_75728764_76f0_11eb_b706_0242ac1c0002row21_col17\" class=\"data row21 col17\" >-0.081423</td>\n",
              "                        <td id=\"T_75728764_76f0_11eb_b706_0242ac1c0002row21_col18\" class=\"data row21 col18\" >0.301516</td>\n",
              "                        <td id=\"T_75728764_76f0_11eb_b706_0242ac1c0002row21_col19\" class=\"data row21 col19\" >0.324355</td>\n",
              "                        <td id=\"T_75728764_76f0_11eb_b706_0242ac1c0002row21_col20\" class=\"data row21 col20\" >-0.031108</td>\n",
              "                        <td id=\"T_75728764_76f0_11eb_b706_0242ac1c0002row21_col21\" class=\"data row21 col21\" >1.000000</td>\n",
              "                        <td id=\"T_75728764_76f0_11eb_b706_0242ac1c0002row21_col22\" class=\"data row21 col22\" >0.644794</td>\n",
              "                        <td id=\"T_75728764_76f0_11eb_b706_0242ac1c0002row21_col23\" class=\"data row21 col23\" >-0.029381</td>\n",
              "                        <td id=\"T_75728764_76f0_11eb_b706_0242ac1c0002row21_col24\" class=\"data row21 col24\" >-0.002353</td>\n",
              "                        <td id=\"T_75728764_76f0_11eb_b706_0242ac1c0002row21_col25\" class=\"data row21 col25\" >-0.057170</td>\n",
              "            </tr>\n",
              "            <tr>\n",
              "                        <th id=\"T_75728764_76f0_11eb_b706_0242ac1c0002level0_row22\" class=\"row_heading level0 row22\" >Animation</th>\n",
              "                        <td id=\"T_75728764_76f0_11eb_b706_0242ac1c0002row22_col0\" class=\"data row22 col0\" >-0.022978</td>\n",
              "                        <td id=\"T_75728764_76f0_11eb_b706_0242ac1c0002row22_col1\" class=\"data row22 col1\" >0.039959</td>\n",
              "                        <td id=\"T_75728764_76f0_11eb_b706_0242ac1c0002row22_col2\" class=\"data row22 col2\" >0.027788</td>\n",
              "                        <td id=\"T_75728764_76f0_11eb_b706_0242ac1c0002row22_col3\" class=\"data row22 col3\" >0.050374</td>\n",
              "                        <td id=\"T_75728764_76f0_11eb_b706_0242ac1c0002row22_col4\" class=\"data row22 col4\" >0.011600</td>\n",
              "                        <td id=\"T_75728764_76f0_11eb_b706_0242ac1c0002row22_col5\" class=\"data row22 col5\" >-0.076213</td>\n",
              "                        <td id=\"T_75728764_76f0_11eb_b706_0242ac1c0002row22_col6\" class=\"data row22 col6\" >-0.132503</td>\n",
              "                        <td id=\"T_75728764_76f0_11eb_b706_0242ac1c0002row22_col7\" class=\"data row22 col7\" >-0.015841</td>\n",
              "                        <td id=\"T_75728764_76f0_11eb_b706_0242ac1c0002row22_col8\" class=\"data row22 col8\" >-0.044953</td>\n",
              "                        <td id=\"T_75728764_76f0_11eb_b706_0242ac1c0002row22_col9\" class=\"data row22 col9\" >-0.143255</td>\n",
              "                        <td id=\"T_75728764_76f0_11eb_b706_0242ac1c0002row22_col10\" class=\"data row22 col10\" >-0.091327</td>\n",
              "                        <td id=\"T_75728764_76f0_11eb_b706_0242ac1c0002row22_col11\" class=\"data row22 col11\" >-0.051392</td>\n",
              "                        <td id=\"T_75728764_76f0_11eb_b706_0242ac1c0002row22_col12\" class=\"data row22 col12\" >0.225408</td>\n",
              "                        <td id=\"T_75728764_76f0_11eb_b706_0242ac1c0002row22_col13\" class=\"data row22 col13\" >0.112817</td>\n",
              "                        <td id=\"T_75728764_76f0_11eb_b706_0242ac1c0002row22_col14\" class=\"data row22 col14\" >0.087011</td>\n",
              "                        <td id=\"T_75728764_76f0_11eb_b706_0242ac1c0002row22_col15\" class=\"data row22 col15\" >-0.013690</td>\n",
              "                        <td id=\"T_75728764_76f0_11eb_b706_0242ac1c0002row22_col16\" class=\"data row22 col16\" >-0.029997</td>\n",
              "                        <td id=\"T_75728764_76f0_11eb_b706_0242ac1c0002row22_col17\" class=\"data row22 col17\" >-0.061318</td>\n",
              "                        <td id=\"T_75728764_76f0_11eb_b706_0242ac1c0002row22_col18\" class=\"data row22 col18\" >0.238141</td>\n",
              "                        <td id=\"T_75728764_76f0_11eb_b706_0242ac1c0002row22_col19\" class=\"data row22 col19\" >0.328248</td>\n",
              "                        <td id=\"T_75728764_76f0_11eb_b706_0242ac1c0002row22_col20\" class=\"data row22 col20\" >-0.024486</td>\n",
              "                        <td id=\"T_75728764_76f0_11eb_b706_0242ac1c0002row22_col21\" class=\"data row22 col21\" >0.644794</td>\n",
              "                        <td id=\"T_75728764_76f0_11eb_b706_0242ac1c0002row22_col22\" class=\"data row22 col22\" >1.000000</td>\n",
              "                        <td id=\"T_75728764_76f0_11eb_b706_0242ac1c0002row22_col23\" class=\"data row22 col23\" >-0.024438</td>\n",
              "                        <td id=\"T_75728764_76f0_11eb_b706_0242ac1c0002row22_col24\" class=\"data row22 col24\" >-0.001997</td>\n",
              "                        <td id=\"T_75728764_76f0_11eb_b706_0242ac1c0002row22_col25\" class=\"data row22 col25\" >-0.054287</td>\n",
              "            </tr>\n",
              "            <tr>\n",
              "                        <th id=\"T_75728764_76f0_11eb_b706_0242ac1c0002level0_row23\" class=\"row_heading level0 row23\" >Documentary</th>\n",
              "                        <td id=\"T_75728764_76f0_11eb_b706_0242ac1c0002row23_col0\" class=\"data row23 col0\" >0.020749</td>\n",
              "                        <td id=\"T_75728764_76f0_11eb_b706_0242ac1c0002row23_col1\" class=\"data row23 col1\" >0.075798</td>\n",
              "                        <td id=\"T_75728764_76f0_11eb_b706_0242ac1c0002row23_col2\" class=\"data row23 col2\" >0.012996</td>\n",
              "                        <td id=\"T_75728764_76f0_11eb_b706_0242ac1c0002row23_col3\" class=\"data row23 col3\" >0.038446</td>\n",
              "                        <td id=\"T_75728764_76f0_11eb_b706_0242ac1c0002row23_col4\" class=\"data row23 col4\" >0.036667</td>\n",
              "                        <td id=\"T_75728764_76f0_11eb_b706_0242ac1c0002row23_col5\" class=\"data row23 col5\" >-0.048153</td>\n",
              "                        <td id=\"T_75728764_76f0_11eb_b706_0242ac1c0002row23_col6\" class=\"data row23 col6\" >-0.081619</td>\n",
              "                        <td id=\"T_75728764_76f0_11eb_b706_0242ac1c0002row23_col7\" class=\"data row23 col7\" >-0.046626</td>\n",
              "                        <td id=\"T_75728764_76f0_11eb_b706_0242ac1c0002row23_col8\" class=\"data row23 col8\" >-0.030191</td>\n",
              "                        <td id=\"T_75728764_76f0_11eb_b706_0242ac1c0002row23_col9\" class=\"data row23 col9\" >-0.066186</td>\n",
              "                        <td id=\"T_75728764_76f0_11eb_b706_0242ac1c0002row23_col10\" class=\"data row23 col10\" >-0.065325</td>\n",
              "                        <td id=\"T_75728764_76f0_11eb_b706_0242ac1c0002row23_col11\" class=\"data row23 col11\" >-0.007308</td>\n",
              "                        <td id=\"T_75728764_76f0_11eb_b706_0242ac1c0002row23_col12\" class=\"data row23 col12\" >-0.052467</td>\n",
              "                        <td id=\"T_75728764_76f0_11eb_b706_0242ac1c0002row23_col13\" class=\"data row23 col13\" >-0.009987</td>\n",
              "                        <td id=\"T_75728764_76f0_11eb_b706_0242ac1c0002row23_col14\" class=\"data row23 col14\" >-0.051769</td>\n",
              "                        <td id=\"T_75728764_76f0_11eb_b706_0242ac1c0002row23_col15\" class=\"data row23 col15\" >-0.050405</td>\n",
              "                        <td id=\"T_75728764_76f0_11eb_b706_0242ac1c0002row23_col16\" class=\"data row23 col16\" >-0.016128</td>\n",
              "                        <td id=\"T_75728764_76f0_11eb_b706_0242ac1c0002row23_col17\" class=\"data row23 col17\" >-0.029130</td>\n",
              "                        <td id=\"T_75728764_76f0_11eb_b706_0242ac1c0002row23_col18\" class=\"data row23 col18\" >-0.036247</td>\n",
              "                        <td id=\"T_75728764_76f0_11eb_b706_0242ac1c0002row23_col19\" class=\"data row23 col19\" >0.013512</td>\n",
              "                        <td id=\"T_75728764_76f0_11eb_b706_0242ac1c0002row23_col20\" class=\"data row23 col20\" >-0.011601</td>\n",
              "                        <td id=\"T_75728764_76f0_11eb_b706_0242ac1c0002row23_col21\" class=\"data row23 col21\" >-0.029381</td>\n",
              "                        <td id=\"T_75728764_76f0_11eb_b706_0242ac1c0002row23_col22\" class=\"data row23 col22\" >-0.024438</td>\n",
              "                        <td id=\"T_75728764_76f0_11eb_b706_0242ac1c0002row23_col23\" class=\"data row23 col23\" >1.000000</td>\n",
              "                        <td id=\"T_75728764_76f0_11eb_b706_0242ac1c0002row23_col24\" class=\"data row23 col24\" >-0.000877</td>\n",
              "                        <td id=\"T_75728764_76f0_11eb_b706_0242ac1c0002row23_col25\" class=\"data row23 col25\" >0.122364</td>\n",
              "            </tr>\n",
              "            <tr>\n",
              "                        <th id=\"T_75728764_76f0_11eb_b706_0242ac1c0002level0_row24\" class=\"row_heading level0 row24\" >(no genres listed)</th>\n",
              "                        <td id=\"T_75728764_76f0_11eb_b706_0242ac1c0002row24_col0\" class=\"data row24 col0\" >0.006124</td>\n",
              "                        <td id=\"T_75728764_76f0_11eb_b706_0242ac1c0002row24_col1\" class=\"data row24 col1\" >0.039320</td>\n",
              "                        <td id=\"T_75728764_76f0_11eb_b706_0242ac1c0002row24_col2\" class=\"data row24 col2\" >-0.003475</td>\n",
              "                        <td id=\"T_75728764_76f0_11eb_b706_0242ac1c0002row24_col3\" class=\"data row24 col3\" >0.014142</td>\n",
              "                        <td id=\"T_75728764_76f0_11eb_b706_0242ac1c0002row24_col4\" class=\"data row24 col4\" >-0.103547</td>\n",
              "                        <td id=\"T_75728764_76f0_11eb_b706_0242ac1c0002row24_col5\" class=\"data row24 col5\" >-0.003737</td>\n",
              "                        <td id=\"T_75728764_76f0_11eb_b706_0242ac1c0002row24_col6\" class=\"data row24 col6\" >-0.007311</td>\n",
              "                        <td id=\"T_75728764_76f0_11eb_b706_0242ac1c0002row24_col7\" class=\"data row24 col7\" >-0.003550</td>\n",
              "                        <td id=\"T_75728764_76f0_11eb_b706_0242ac1c0002row24_col8\" class=\"data row24 col8\" >-0.002387</td>\n",
              "                        <td id=\"T_75728764_76f0_11eb_b706_0242ac1c0002row24_col9\" class=\"data row24 col9\" >-0.005059</td>\n",
              "                        <td id=\"T_75728764_76f0_11eb_b706_0242ac1c0002row24_col10\" class=\"data row24 col10\" >-0.005289</td>\n",
              "                        <td id=\"T_75728764_76f0_11eb_b706_0242ac1c0002row24_col11\" class=\"data row24 col11\" >-0.001973</td>\n",
              "                        <td id=\"T_75728764_76f0_11eb_b706_0242ac1c0002row24_col12\" class=\"data row24 col12\" >-0.004318</td>\n",
              "                        <td id=\"T_75728764_76f0_11eb_b706_0242ac1c0002row24_col13\" class=\"data row24 col13\" >-0.001403</td>\n",
              "                        <td id=\"T_75728764_76f0_11eb_b706_0242ac1c0002row24_col14\" class=\"data row24 col14\" >-0.006131</td>\n",
              "                        <td id=\"T_75728764_76f0_11eb_b706_0242ac1c0002row24_col15\" class=\"data row24 col15\" >-0.003836</td>\n",
              "                        <td id=\"T_75728764_76f0_11eb_b706_0242ac1c0002row24_col16\" class=\"data row24 col16\" >-0.001222</td>\n",
              "                        <td id=\"T_75728764_76f0_11eb_b706_0242ac1c0002row24_col17\" class=\"data row24 col17\" >-0.002334</td>\n",
              "                        <td id=\"T_75728764_76f0_11eb_b706_0242ac1c0002row24_col18\" class=\"data row24 col18\" >-0.002768</td>\n",
              "                        <td id=\"T_75728764_76f0_11eb_b706_0242ac1c0002row24_col19\" class=\"data row24 col19\" >-0.001679</td>\n",
              "                        <td id=\"T_75728764_76f0_11eb_b706_0242ac1c0002row24_col20\" class=\"data row24 col20\" >-0.000879</td>\n",
              "                        <td id=\"T_75728764_76f0_11eb_b706_0242ac1c0002row24_col21\" class=\"data row24 col21\" >-0.002353</td>\n",
              "                        <td id=\"T_75728764_76f0_11eb_b706_0242ac1c0002row24_col22\" class=\"data row24 col22\" >-0.001997</td>\n",
              "                        <td id=\"T_75728764_76f0_11eb_b706_0242ac1c0002row24_col23\" class=\"data row24 col23\" >-0.000877</td>\n",
              "                        <td id=\"T_75728764_76f0_11eb_b706_0242ac1c0002row24_col24\" class=\"data row24 col24\" >1.000000</td>\n",
              "                        <td id=\"T_75728764_76f0_11eb_b706_0242ac1c0002row24_col25\" class=\"data row24 col25\" >0.026043</td>\n",
              "            </tr>\n",
              "            <tr>\n",
              "                        <th id=\"T_75728764_76f0_11eb_b706_0242ac1c0002level0_row25\" class=\"row_heading level0 row25\" >titles_ints</th>\n",
              "                        <td id=\"T_75728764_76f0_11eb_b706_0242ac1c0002row25_col0\" class=\"data row25 col0\" >0.243897</td>\n",
              "                        <td id=\"T_75728764_76f0_11eb_b706_0242ac1c0002row25_col1\" class=\"data row25 col1\" >0.360675</td>\n",
              "                        <td id=\"T_75728764_76f0_11eb_b706_0242ac1c0002row25_col2\" class=\"data row25 col2\" >-0.180831</td>\n",
              "                        <td id=\"T_75728764_76f0_11eb_b706_0242ac1c0002row25_col3\" class=\"data row25 col3\" >0.162012</td>\n",
              "                        <td id=\"T_75728764_76f0_11eb_b706_0242ac1c0002row25_col4\" class=\"data row25 col4\" >-0.016249</td>\n",
              "                        <td id=\"T_75728764_76f0_11eb_b706_0242ac1c0002row25_col5\" class=\"data row25 col5\" >-0.049513</td>\n",
              "                        <td id=\"T_75728764_76f0_11eb_b706_0242ac1c0002row25_col6\" class=\"data row25 col6\" >0.082745</td>\n",
              "                        <td id=\"T_75728764_76f0_11eb_b706_0242ac1c0002row25_col7\" class=\"data row25 col7\" >-0.117438</td>\n",
              "                        <td id=\"T_75728764_76f0_11eb_b706_0242ac1c0002row25_col8\" class=\"data row25 col8\" >-0.031693</td>\n",
              "                        <td id=\"T_75728764_76f0_11eb_b706_0242ac1c0002row25_col9\" class=\"data row25 col9\" >-0.072809</td>\n",
              "                        <td id=\"T_75728764_76f0_11eb_b706_0242ac1c0002row25_col10\" class=\"data row25 col10\" >-0.154378</td>\n",
              "                        <td id=\"T_75728764_76f0_11eb_b706_0242ac1c0002row25_col11\" class=\"data row25 col11\" >-0.027484</td>\n",
              "                        <td id=\"T_75728764_76f0_11eb_b706_0242ac1c0002row25_col12\" class=\"data row25 col12\" >-0.157446</td>\n",
              "                        <td id=\"T_75728764_76f0_11eb_b706_0242ac1c0002row25_col13\" class=\"data row25 col13\" >-0.046686</td>\n",
              "                        <td id=\"T_75728764_76f0_11eb_b706_0242ac1c0002row25_col14\" class=\"data row25 col14\" >-0.027953</td>\n",
              "                        <td id=\"T_75728764_76f0_11eb_b706_0242ac1c0002row25_col15\" class=\"data row25 col15\" >-0.013521</td>\n",
              "                        <td id=\"T_75728764_76f0_11eb_b706_0242ac1c0002row25_col16\" class=\"data row25 col16\" >0.001335</td>\n",
              "                        <td id=\"T_75728764_76f0_11eb_b706_0242ac1c0002row25_col17\" class=\"data row25 col17\" >0.050379</td>\n",
              "                        <td id=\"T_75728764_76f0_11eb_b706_0242ac1c0002row25_col18\" class=\"data row25 col18\" >-0.073705</td>\n",
              "                        <td id=\"T_75728764_76f0_11eb_b706_0242ac1c0002row25_col19\" class=\"data row25 col19\" >-0.008815</td>\n",
              "                        <td id=\"T_75728764_76f0_11eb_b706_0242ac1c0002row25_col20\" class=\"data row25 col20\" >0.027858</td>\n",
              "                        <td id=\"T_75728764_76f0_11eb_b706_0242ac1c0002row25_col21\" class=\"data row25 col21\" >-0.057170</td>\n",
              "                        <td id=\"T_75728764_76f0_11eb_b706_0242ac1c0002row25_col22\" class=\"data row25 col22\" >-0.054287</td>\n",
              "                        <td id=\"T_75728764_76f0_11eb_b706_0242ac1c0002row25_col23\" class=\"data row25 col23\" >0.122364</td>\n",
              "                        <td id=\"T_75728764_76f0_11eb_b706_0242ac1c0002row25_col24\" class=\"data row25 col24\" >0.026043</td>\n",
              "                        <td id=\"T_75728764_76f0_11eb_b706_0242ac1c0002row25_col25\" class=\"data row25 col25\" >1.000000</td>\n",
              "            </tr>\n",
              "    </tbody></table>"
            ],
            "text/plain": [
              "<pandas.io.formats.style.Styler at 0x7fe4bf39a950>"
            ]
          },
          "metadata": {
            "tags": []
          },
          "execution_count": 84
        }
      ]
    },
    {
      "cell_type": "markdown",
      "metadata": {
        "id": "kb46Wm-f7q3f"
      },
      "source": [
        "**2.2.2 Data Splitting**"
      ]
    },
    {
      "cell_type": "code",
      "metadata": {
        "id": "yI9jT0KKNFqD",
        "colab": {
          "base_uri": "https://localhost:8080/"
        },
        "outputId": "64168ed2-1c9d-497a-996d-fdb5f98159bf"
      },
      "source": [
        "X = movies2.drop(['userId',\"titles_ints\",'timestamp'], axis=1)\n",
        "y = movies2.titles_ints\n",
        "\n",
        "X_train, X_test, y_train, y_test = train_test_split(X, y, train_size=0.80, random_state=7)\n",
        "print('Features split completed.')"
      ],
      "execution_count": 85,
      "outputs": [
        {
          "output_type": "stream",
          "text": [
            "Features split completed.\n"
          ],
          "name": "stdout"
        }
      ]
    },
    {
      "cell_type": "markdown",
      "metadata": {
        "id": "qByRj1I6s3hL"
      },
      "source": [
        "## **2.3 Data Scaling**"
      ]
    },
    {
      "cell_type": "code",
      "metadata": {
        "id": "f6vVMH8L6oSR",
        "colab": {
          "base_uri": "https://localhost:8080/"
        },
        "outputId": "bb0c52e0-a151-44fb-8750-4f8253f741b1"
      },
      "source": [
        "ss = StandardScaler()\n",
        "\n",
        "X_train = ss.fit_transform(X_train)\n",
        "print(\"Training data are scaled.\")"
      ],
      "execution_count": 86,
      "outputs": [
        {
          "output_type": "stream",
          "text": [
            "Training data are scaled.\n"
          ],
          "name": "stdout"
        }
      ]
    },
    {
      "cell_type": "code",
      "metadata": {
        "id": "YpspCWUE69t0",
        "colab": {
          "base_uri": "https://localhost:8080/"
        },
        "outputId": "1f69fc89-e45e-4651-c03d-4589aea69958"
      },
      "source": [
        "X_test = ss.fit_transform(X_test)\n",
        "print(\"Testing data are scaled.\")"
      ],
      "execution_count": 87,
      "outputs": [
        {
          "output_type": "stream",
          "text": [
            "Testing data are scaled.\n"
          ],
          "name": "stdout"
        }
      ]
    },
    {
      "cell_type": "markdown",
      "metadata": {
        "id": "IsgSRui8txW5"
      },
      "source": [
        "# **3- Data Modeling**\n",
        "---\n",
        "\n",
        "This section includes:\n",
        "\n",
        "\n",
        "1. Baseline Model\n",
        "2. K-Nearest-Neighbors Classifier Model\n",
        "5. Findings\n"
      ]
    },
    {
      "cell_type": "markdown",
      "metadata": {
        "id": "xFiwewrft38G"
      },
      "source": [
        "## **3.1 Baseline Model**"
      ]
    },
    {
      "cell_type": "code",
      "metadata": {
        "id": "E46SxGK28RPT",
        "colab": {
          "base_uri": "https://localhost:8080/"
        },
        "outputId": "0790cf09-a90a-44d3-c859-3e08a0b56495"
      },
      "source": [
        "def baseline_model(n_predictions, value_to_predict):\n",
        "    baseline_preds = []\n",
        "    for i in range(n_predictions):\n",
        "        baseline_preds.append(value_to_predict)\n",
        "    return pd.Series(baseline_preds)\n",
        "\n",
        "n_predictions = len(y_test)\n",
        "baseline_value = y_train.value_counts().index[0]\n",
        "\n",
        "baseline_preds = baseline_model(n_predictions, baseline_value)\n",
        "print('Baseline predections are:\\n', baseline_preds)"
      ],
      "execution_count": 88,
      "outputs": [
        {
          "output_type": "stream",
          "text": [
            "Baseline predections are:\n",
            " 0        15\n",
            "1        15\n",
            "2        15\n",
            "3        15\n",
            "4        15\n",
            "         ..\n",
            "21063    15\n",
            "21064    15\n",
            "21065    15\n",
            "21066    15\n",
            "21067    15\n",
            "Length: 21068, dtype: int64\n"
          ],
          "name": "stdout"
        }
      ]
    },
    {
      "cell_type": "code",
      "metadata": {
        "id": "4wriyBrI8OIs",
        "colab": {
          "base_uri": "https://localhost:8080/"
        },
        "outputId": "c479bef2-1180-4a25-c483-25d56354a94f"
      },
      "source": [
        "bl_acc = accuracy_score(y_test , baseline_preds)\n",
        "print('BaseLine Accurecy Score = ' , bl_acc*100,'%')"
      ],
      "execution_count": 89,
      "outputs": [
        {
          "output_type": "stream",
          "text": [
            "BaseLine Accurecy Score =  0.2705524966774255 %\n"
          ],
          "name": "stdout"
        }
      ]
    },
    {
      "cell_type": "markdown",
      "metadata": {
        "id": "U8KkzqTuuIVk"
      },
      "source": [
        "## **3.2 K-Nearest-Neighbors (KNN) Classifier Model**"
      ]
    },
    {
      "cell_type": "code",
      "metadata": {
        "id": "8RbeMDYU9Tjf",
        "colab": {
          "base_uri": "https://localhost:8080/"
        },
        "outputId": "7b1ef5ab-ce5f-41fb-e07b-e7efe5a87498"
      },
      "source": [
        "knn = KNeighborsClassifier(n_neighbors=3)\n",
        "knn.fit(X_train, y_train)\n",
        "print('KNN model fit completed.')"
      ],
      "execution_count": 90,
      "outputs": [
        {
          "output_type": "stream",
          "text": [
            "KNN model fit completed.\n"
          ],
          "name": "stdout"
        }
      ]
    },
    {
      "cell_type": "code",
      "metadata": {
        "id": "zFiJzJ9h9WQE",
        "colab": {
          "base_uri": "https://localhost:8080/"
        },
        "outputId": "8381884b-5b66-4456-b834-0f283153f47b"
      },
      "source": [
        "knn_perds1 = knn.predict(X_test)\n",
        "print('KNeighbors Classifier Predections Are:\\n', knn_perds1)"
      ],
      "execution_count": 91,
      "outputs": [
        {
          "output_type": "stream",
          "text": [
            "KNeighbors Classifier Predections Are:\n",
            " [1386 1661   41 ...   62  225  423]\n"
          ],
          "name": "stdout"
        }
      ]
    },
    {
      "cell_type": "code",
      "metadata": {
        "id": "eQMMF2xQ9Xqd",
        "colab": {
          "base_uri": "https://localhost:8080/"
        },
        "outputId": "f9ddd181-180a-455a-a020-61902be33428"
      },
      "source": [
        "knn_acc1 = accuracy_score(y_test, knn_perds1)\n",
        "print('KNeighbors Classifier Accurecy Score = ' , knn_acc1*100,'%')"
      ],
      "execution_count": 92,
      "outputs": [
        {
          "output_type": "stream",
          "text": [
            "KNeighbors Classifier Accurecy Score =  48.48110879058287 %\n"
          ],
          "name": "stdout"
        }
      ]
    },
    {
      "cell_type": "markdown",
      "metadata": {
        "id": "v6DYgp4o9oRa"
      },
      "source": [
        "## **3.3 Findings**"
      ]
    },
    {
      "cell_type": "markdown",
      "metadata": {
        "id": "AGdELvuq9x1S"
      },
      "source": [
        "**3.5.1 Baseline Vs. KNN Cmparisions**"
      ]
    },
    {
      "cell_type": "code",
      "metadata": {
        "id": "uSNkdT0b2Lyi",
        "colab": {
          "base_uri": "https://localhost:8080/"
        },
        "outputId": "5ca202ee-add8-4d52-da87-cffc9c2c80a9"
      },
      "source": [
        "print('The accurecy score of Baseline Model is: ', bl_acc*100,'%')\n",
        "print('\\nWhile the accuracy score of the KNN Model is: ', knn_acc1*100,'%')\n",
        "a =(knn_acc1-bl_acc)*100\n",
        "print('\\nThe KNN score had beat the Baseline score by: ', a,'%')"
      ],
      "execution_count": 95,
      "outputs": [
        {
          "output_type": "stream",
          "text": [
            "The accurecy score of Baseline Model is:  0.2705524966774255 %\n",
            "\n",
            "While the accuracy score of the KNN Model is:  48.48110879058287 %\n",
            "\n",
            "The KNN score had beat the Baseline score by:  48.21055629390545 %\n"
          ],
          "name": "stdout"
        }
      ]
    },
    {
      "cell_type": "markdown",
      "metadata": {
        "id": "9NFuEol4uPoS"
      },
      "source": [
        "# **4- Data Optimization and Validation**\n",
        "---\n",
        "\n",
        "This section includes:\n",
        "\n",
        "\n",
        "1. GridSearchCV Selector\n",
        "2. Randomized SearchCV Selector\n",
        "3. Findings (Model Determination)"
      ]
    },
    {
      "cell_type": "markdown",
      "metadata": {
        "id": "lPrk8iq1usnl"
      },
      "source": [
        "## **4.1 GridSearchCV Selector**\n"
      ]
    },
    {
      "cell_type": "markdown",
      "metadata": {
        "id": "wW-A-3hrwz69"
      },
      "source": [
        "GridSearchCV with KNN Model"
      ]
    },
    {
      "cell_type": "code",
      "metadata": {
        "id": "0mU--n7n67DO"
      },
      "source": [
        "p_grid = {'algorithm':['auto', 'ball_tree', 'kd_tree', 'brute']}\n",
        "\n",
        "grid = GridSearchCV(knn, p_grid, cv=10,n_jobs=-1)"
      ],
      "execution_count": 96,
      "outputs": []
    },
    {
      "cell_type": "code",
      "metadata": {
        "id": "cYOOFrdR7GPG",
        "colab": {
          "base_uri": "https://localhost:8080/"
        },
        "outputId": "6ae2b576-cf65-4c86-8f83-7ac168fe8955"
      },
      "source": [
        "grid.fit(X_train, y_train)\n",
        "print('GridSearchCV fit Completed.')"
      ],
      "execution_count": 97,
      "outputs": [
        {
          "output_type": "stream",
          "text": [
            "/usr/local/lib/python3.7/dist-packages/sklearn/model_selection/_split.py:667: UserWarning: The least populated class in y has only 1 members, which is less than n_splits=10.\n",
            "  % (min_groups, self.n_splits)), UserWarning)\n",
            "/usr/local/lib/python3.7/dist-packages/joblib/externals/loky/process_executor.py:691: UserWarning: A worker stopped while some jobs were given to the executor. This can be caused by a too short worker timeout or by a memory leak.\n",
            "  \"timeout or by a memory leak.\", UserWarning\n"
          ],
          "name": "stderr"
        },
        {
          "output_type": "stream",
          "text": [
            "GridSearchCV fit Completed.\n"
          ],
          "name": "stdout"
        }
      ]
    },
    {
      "cell_type": "code",
      "metadata": {
        "id": "eaoavhSV7Rsh",
        "colab": {
          "base_uri": "https://localhost:8080/"
        },
        "outputId": "3960b1b0-ccda-4710-f080-aefc7dc1c5d4"
      },
      "source": [
        "print('GridSearchCV best parameters are:\\n', grid.best_params_)"
      ],
      "execution_count": 99,
      "outputs": [
        {
          "output_type": "stream",
          "text": [
            "GridSearchCV best parameters are:\n",
            " {'algorithm': 'brute'}\n"
          ],
          "name": "stdout"
        }
      ]
    },
    {
      "cell_type": "code",
      "metadata": {
        "id": "gbYUHUU67s_V",
        "colab": {
          "base_uri": "https://localhost:8080/"
        },
        "outputId": "cf68adf2-7c71-485f-b7bb-3081c9f1454f"
      },
      "source": [
        "#repeating the KNN model with the parameters\n",
        "KNeighborsClassifier(algorithm= 'brute')\n",
        "knn2 = KNeighborsClassifier(n_neighbors=3)\n",
        "knn2.fit(X_train, y_train)\n",
        "print('KNN model fit completed.')"
      ],
      "execution_count": 100,
      "outputs": [
        {
          "output_type": "stream",
          "text": [
            "KNN model fit completed.\n"
          ],
          "name": "stdout"
        }
      ]
    },
    {
      "cell_type": "code",
      "metadata": {
        "id": "xLAuPoueAL6Y",
        "colab": {
          "base_uri": "https://localhost:8080/"
        },
        "outputId": "4f02be87-7cae-490f-f787-0e8473ab1965"
      },
      "source": [
        "knn_perds2 = knn.predict(X_test)\n",
        "print('KNeighbors Classifier Predections Are:\\n', knn_perds2)"
      ],
      "execution_count": 102,
      "outputs": [
        {
          "output_type": "stream",
          "text": [
            "KNeighbors Classifier Predections Are:\n",
            " [1386 1661   41 ...   62  225  423]\n"
          ],
          "name": "stdout"
        }
      ]
    },
    {
      "cell_type": "code",
      "metadata": {
        "id": "gin_YLOoAVRt",
        "colab": {
          "base_uri": "https://localhost:8080/"
        },
        "outputId": "2f4a3ee1-a883-4f7c-83b4-a729f614c58c"
      },
      "source": [
        "knn_acc2 = accuracy_score(y_test, knn_perds2)\n",
        "print('KNeighbors Classifier Accurecy Score After GridSearchCV Optimization = ' , knn_acc2*100,'%')"
      ],
      "execution_count": 103,
      "outputs": [
        {
          "output_type": "stream",
          "text": [
            "KNeighbors Classifier Accurecy Score After GridSearchCV Optimization =  48.48110879058287 %\n"
          ],
          "name": "stdout"
        }
      ]
    },
    {
      "cell_type": "markdown",
      "metadata": {
        "id": "CVeqMM-vu6hT"
      },
      "source": [
        "## **4.4 Findings (Model Determination)**"
      ]
    },
    {
      "cell_type": "code",
      "metadata": {
        "id": "qau_z-o5f-Vt",
        "colab": {
          "base_uri": "https://localhost:8080/"
        },
        "outputId": "4556331b-f42b-4c7b-d1c0-93e5c9332b6c"
      },
      "source": [
        "best_score= {'baseline model':bl_acc,\n",
        "                 'KNN model':knn_acc1,\n",
        "                 'KNN model After GridSearchCV Optimization':knn_acc2}\n",
        "\n",
        "max_key = max(best_score, key=best_score.get)\n",
        "max_value = best_score[max_key]\n",
        "\n",
        "print(' Baselain score:',bl_acc*100,'%\\n','KNN score:',knn_acc1*100,'%\\n','KNN After GridSearchCV Optimization: ',knn_acc2*100,'%\\n')\n",
        "print(f'The {max_key} has the highest accuracy score: {max_value*100}','%')"
      ],
      "execution_count": 112,
      "outputs": [
        {
          "output_type": "stream",
          "text": [
            " Baselain score: 0.2705524966774255 %\n",
            " KNN score: 48.48110879058287 %\n",
            " KNN After GridSearchCV Optimization:  48.48110879058287 %\n",
            "\n",
            "The KNN model has the highest accuracy score: 48.48110879058287 %\n"
          ],
          "name": "stdout"
        }
      ]
    }
  ]
}